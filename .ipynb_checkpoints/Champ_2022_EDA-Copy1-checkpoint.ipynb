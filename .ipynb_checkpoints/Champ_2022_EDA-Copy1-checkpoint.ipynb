{
 "cells": [
  {
   "cell_type": "markdown",
   "metadata": {},
   "source": [
    "# 2022 Championship EDA"
   ]
  },
  {
   "cell_type": "code",
   "execution_count": 70,
   "metadata": {},
   "outputs": [],
   "source": [
    "import pandas as pd\n",
    "import numpy as np\n",
    "import seaborn as sns\n",
    "import matplotlib.pyplot as plt\n",
    "from sklearn.linear_model import LinearRegression, LogisticRegression, Ridge, RidgeCV, Lasso, \\\n",
    "LassoCV, ElasticNet, ElasticNetCV\n",
    "from sklearn.model_selection import train_test_split, cross_val_score, GridSearchCV\n",
    "from sklearn.metrics import mean_squared_error, r2_score, accuracy_score\n",
    "from sklearn.preprocessing import StandardScaler, PolynomialFeatures\n",
    "from sklearn.neighbors import KNeighborsClassifier\n",
    "from sklearn.svm import SVR\n",
    "from sklearn.decomposition import PCA"
   ]
  },
  {
   "cell_type": "code",
   "execution_count": 71,
   "metadata": {},
   "outputs": [],
   "source": [
    "team_stats = pd.read_csv('../footy_data/championship_teams_2022.csv')\n",
    "games = pd.read_csv('../footy_data/championship_games_2022.csv')"
   ]
  },
  {
   "cell_type": "code",
   "execution_count": 72,
   "metadata": {},
   "outputs": [
    {
     "data": {
      "text/html": [
       "<div>\n",
       "<style scoped>\n",
       "    .dataframe tbody tr th:only-of-type {\n",
       "        vertical-align: middle;\n",
       "    }\n",
       "\n",
       "    .dataframe tbody tr th {\n",
       "        vertical-align: top;\n",
       "    }\n",
       "\n",
       "    .dataframe thead th {\n",
       "        text-align: right;\n",
       "    }\n",
       "</style>\n",
       "<table border=\"1\" class=\"dataframe\">\n",
       "  <thead>\n",
       "    <tr style=\"text-align: right;\">\n",
       "      <th></th>\n",
       "      <th>timestamp</th>\n",
       "      <th>date_GMT</th>\n",
       "      <th>status</th>\n",
       "      <th>attendance</th>\n",
       "      <th>home_team_name</th>\n",
       "      <th>away_team_name</th>\n",
       "      <th>referee</th>\n",
       "      <th>Game Week</th>\n",
       "      <th>Pre-Match PPG (Home)</th>\n",
       "      <th>Pre-Match PPG (Away)</th>\n",
       "      <th>...</th>\n",
       "      <th>odds_ft_home_team_win</th>\n",
       "      <th>odds_ft_draw</th>\n",
       "      <th>odds_ft_away_team_win</th>\n",
       "      <th>odds_ft_over15</th>\n",
       "      <th>odds_ft_over25</th>\n",
       "      <th>odds_ft_over35</th>\n",
       "      <th>odds_ft_over45</th>\n",
       "      <th>odds_btts_yes</th>\n",
       "      <th>odds_btts_no</th>\n",
       "      <th>stadium_name</th>\n",
       "    </tr>\n",
       "  </thead>\n",
       "  <tbody>\n",
       "    <tr>\n",
       "      <th>48</th>\n",
       "      <td>1630150200</td>\n",
       "      <td>Aug 28 2021 - 11:30am</td>\n",
       "      <td>complete</td>\n",
       "      <td>NaN</td>\n",
       "      <td>Cardiff City</td>\n",
       "      <td>Bristol City</td>\n",
       "      <td>David Webb</td>\n",
       "      <td>5</td>\n",
       "      <td>2.0</td>\n",
       "      <td>1.5</td>\n",
       "      <td>...</td>\n",
       "      <td>1.95</td>\n",
       "      <td>3.35</td>\n",
       "      <td>4.35</td>\n",
       "      <td>1.43</td>\n",
       "      <td>2.20</td>\n",
       "      <td>3.80</td>\n",
       "      <td>7.50</td>\n",
       "      <td>2.05</td>\n",
       "      <td>1.80</td>\n",
       "      <td>Cardiff City Stadium (Cardiff (Caerdydd))</td>\n",
       "    </tr>\n",
       "    <tr>\n",
       "      <th>49</th>\n",
       "      <td>1630150200</td>\n",
       "      <td>Aug 28 2021 - 11:30am</td>\n",
       "      <td>complete</td>\n",
       "      <td>NaN</td>\n",
       "      <td>Derby County</td>\n",
       "      <td>Nottingham Forest</td>\n",
       "      <td>Tim Robinson</td>\n",
       "      <td>5</td>\n",
       "      <td>1.0</td>\n",
       "      <td>0.0</td>\n",
       "      <td>...</td>\n",
       "      <td>2.45</td>\n",
       "      <td>2.95</td>\n",
       "      <td>3.35</td>\n",
       "      <td>1.61</td>\n",
       "      <td>2.65</td>\n",
       "      <td>4.85</td>\n",
       "      <td>9.75</td>\n",
       "      <td>2.25</td>\n",
       "      <td>1.67</td>\n",
       "      <td>Pride Park Stadium (Derby)</td>\n",
       "    </tr>\n",
       "    <tr>\n",
       "      <th>50</th>\n",
       "      <td>1630159200</td>\n",
       "      <td>Aug 28 2021 - 2:00pm</td>\n",
       "      <td>complete</td>\n",
       "      <td>NaN</td>\n",
       "      <td>Barnsley</td>\n",
       "      <td>Birmingham City</td>\n",
       "      <td>Matt Donohue</td>\n",
       "      <td>5</td>\n",
       "      <td>1.5</td>\n",
       "      <td>3.0</td>\n",
       "      <td>...</td>\n",
       "      <td>2.40</td>\n",
       "      <td>3.15</td>\n",
       "      <td>3.30</td>\n",
       "      <td>1.49</td>\n",
       "      <td>2.30</td>\n",
       "      <td>4.05</td>\n",
       "      <td>8.00</td>\n",
       "      <td>2.05</td>\n",
       "      <td>1.80</td>\n",
       "      <td>Oakwell (Barnsley- South Yorkshire)</td>\n",
       "    </tr>\n",
       "    <tr>\n",
       "      <th>51</th>\n",
       "      <td>1630159200</td>\n",
       "      <td>Aug 28 2021 - 2:00pm</td>\n",
       "      <td>complete</td>\n",
       "      <td>NaN</td>\n",
       "      <td>Fulham</td>\n",
       "      <td>Stoke City</td>\n",
       "      <td>Jarred Gillett</td>\n",
       "      <td>5</td>\n",
       "      <td>2.0</td>\n",
       "      <td>2.0</td>\n",
       "      <td>...</td>\n",
       "      <td>1.91</td>\n",
       "      <td>3.40</td>\n",
       "      <td>4.60</td>\n",
       "      <td>1.48</td>\n",
       "      <td>2.30</td>\n",
       "      <td>4.10</td>\n",
       "      <td>8.25</td>\n",
       "      <td>2.15</td>\n",
       "      <td>1.71</td>\n",
       "      <td>Craven Cottage (London)</td>\n",
       "    </tr>\n",
       "    <tr>\n",
       "      <th>52</th>\n",
       "      <td>1630159200</td>\n",
       "      <td>Aug 28 2021 - 2:00pm</td>\n",
       "      <td>complete</td>\n",
       "      <td>NaN</td>\n",
       "      <td>Huddersfield Town</td>\n",
       "      <td>Reading</td>\n",
       "      <td>Leigh Doughty</td>\n",
       "      <td>5</td>\n",
       "      <td>1.5</td>\n",
       "      <td>0.0</td>\n",
       "      <td>...</td>\n",
       "      <td>2.30</td>\n",
       "      <td>3.35</td>\n",
       "      <td>3.25</td>\n",
       "      <td>1.39</td>\n",
       "      <td>2.10</td>\n",
       "      <td>3.50</td>\n",
       "      <td>6.75</td>\n",
       "      <td>1.91</td>\n",
       "      <td>1.91</td>\n",
       "      <td>John Smith's Stadium (Huddersfield- West Yorks...</td>\n",
       "    </tr>\n",
       "    <tr>\n",
       "      <th>53</th>\n",
       "      <td>1630159200</td>\n",
       "      <td>Aug 28 2021 - 2:00pm</td>\n",
       "      <td>complete</td>\n",
       "      <td>NaN</td>\n",
       "      <td>Hull City</td>\n",
       "      <td>AFC Bournemouth</td>\n",
       "      <td>Geoff Eltringham</td>\n",
       "      <td>5</td>\n",
       "      <td>0.0</td>\n",
       "      <td>3.0</td>\n",
       "      <td>...</td>\n",
       "      <td>3.40</td>\n",
       "      <td>3.35</td>\n",
       "      <td>2.25</td>\n",
       "      <td>1.41</td>\n",
       "      <td>2.15</td>\n",
       "      <td>3.60</td>\n",
       "      <td>7.00</td>\n",
       "      <td>1.95</td>\n",
       "      <td>1.87</td>\n",
       "      <td>The MKM Stadium (Hull)</td>\n",
       "    </tr>\n",
       "    <tr>\n",
       "      <th>54</th>\n",
       "      <td>1630159200</td>\n",
       "      <td>Aug 28 2021 - 2:00pm</td>\n",
       "      <td>complete</td>\n",
       "      <td>NaN</td>\n",
       "      <td>Luton Town</td>\n",
       "      <td>Sheffield United</td>\n",
       "      <td>Andy Davies</td>\n",
       "      <td>5</td>\n",
       "      <td>1.5</td>\n",
       "      <td>0.5</td>\n",
       "      <td>...</td>\n",
       "      <td>2.95</td>\n",
       "      <td>3.15</td>\n",
       "      <td>2.65</td>\n",
       "      <td>1.49</td>\n",
       "      <td>2.30</td>\n",
       "      <td>3.95</td>\n",
       "      <td>7.75</td>\n",
       "      <td>2.05</td>\n",
       "      <td>1.80</td>\n",
       "      <td>Kenilworth Road (Luton- Bedfordshire)</td>\n",
       "    </tr>\n",
       "    <tr>\n",
       "      <th>55</th>\n",
       "      <td>1630159200</td>\n",
       "      <td>Aug 28 2021 - 2:00pm</td>\n",
       "      <td>complete</td>\n",
       "      <td>NaN</td>\n",
       "      <td>Middlesbrough</td>\n",
       "      <td>Blackburn Rovers</td>\n",
       "      <td>Michael Salisbury</td>\n",
       "      <td>5</td>\n",
       "      <td>1.5</td>\n",
       "      <td>2.0</td>\n",
       "      <td>...</td>\n",
       "      <td>2.40</td>\n",
       "      <td>3.25</td>\n",
       "      <td>3.20</td>\n",
       "      <td>1.43</td>\n",
       "      <td>2.20</td>\n",
       "      <td>3.75</td>\n",
       "      <td>7.25</td>\n",
       "      <td>1.95</td>\n",
       "      <td>1.87</td>\n",
       "      <td>Riverside Stadium (Middlesbrough)</td>\n",
       "    </tr>\n",
       "    <tr>\n",
       "      <th>56</th>\n",
       "      <td>1630159200</td>\n",
       "      <td>Aug 28 2021 - 2:00pm</td>\n",
       "      <td>complete</td>\n",
       "      <td>NaN</td>\n",
       "      <td>Millwall</td>\n",
       "      <td>Blackpool</td>\n",
       "      <td>Gavin Ward</td>\n",
       "      <td>5</td>\n",
       "      <td>0.5</td>\n",
       "      <td>1.0</td>\n",
       "      <td>...</td>\n",
       "      <td>1.87</td>\n",
       "      <td>3.45</td>\n",
       "      <td>4.60</td>\n",
       "      <td>1.43</td>\n",
       "      <td>2.20</td>\n",
       "      <td>3.80</td>\n",
       "      <td>7.50</td>\n",
       "      <td>2.10</td>\n",
       "      <td>1.77</td>\n",
       "      <td>The Den (London)</td>\n",
       "    </tr>\n",
       "    <tr>\n",
       "      <th>57</th>\n",
       "      <td>1630159200</td>\n",
       "      <td>Aug 28 2021 - 2:00pm</td>\n",
       "      <td>complete</td>\n",
       "      <td>NaN</td>\n",
       "      <td>Preston North End</td>\n",
       "      <td>Swansea City</td>\n",
       "      <td>Thomas Bramall</td>\n",
       "      <td>5</td>\n",
       "      <td>1.5</td>\n",
       "      <td>1.5</td>\n",
       "      <td>...</td>\n",
       "      <td>2.35</td>\n",
       "      <td>3.25</td>\n",
       "      <td>3.30</td>\n",
       "      <td>1.43</td>\n",
       "      <td>2.20</td>\n",
       "      <td>3.75</td>\n",
       "      <td>7.50</td>\n",
       "      <td>2.00</td>\n",
       "      <td>1.83</td>\n",
       "      <td>Deepdale (Preston)</td>\n",
       "    </tr>\n",
       "    <tr>\n",
       "      <th>58</th>\n",
       "      <td>1630159200</td>\n",
       "      <td>Aug 28 2021 - 2:00pm</td>\n",
       "      <td>complete</td>\n",
       "      <td>NaN</td>\n",
       "      <td>Queens Park Rangers</td>\n",
       "      <td>Coventry City</td>\n",
       "      <td>Dean Whitestone</td>\n",
       "      <td>5</td>\n",
       "      <td>1.0</td>\n",
       "      <td>1.5</td>\n",
       "      <td>...</td>\n",
       "      <td>2.20</td>\n",
       "      <td>3.45</td>\n",
       "      <td>3.30</td>\n",
       "      <td>1.34</td>\n",
       "      <td>1.95</td>\n",
       "      <td>3.25</td>\n",
       "      <td>6.00</td>\n",
       "      <td>1.83</td>\n",
       "      <td>2.00</td>\n",
       "      <td>Kiyan Prince Foundation Stadium (London)</td>\n",
       "    </tr>\n",
       "    <tr>\n",
       "      <th>59</th>\n",
       "      <td>1630177200</td>\n",
       "      <td>Aug 28 2021 - 7:00pm</td>\n",
       "      <td>complete</td>\n",
       "      <td>NaN</td>\n",
       "      <td>Peterborough United</td>\n",
       "      <td>West Bromwich Albion</td>\n",
       "      <td>James Linington</td>\n",
       "      <td>5</td>\n",
       "      <td>2.0</td>\n",
       "      <td>2.0</td>\n",
       "      <td>...</td>\n",
       "      <td>5.50</td>\n",
       "      <td>4.10</td>\n",
       "      <td>1.61</td>\n",
       "      <td>1.30</td>\n",
       "      <td>1.83</td>\n",
       "      <td>3.00</td>\n",
       "      <td>5.50</td>\n",
       "      <td>1.91</td>\n",
       "      <td>1.95</td>\n",
       "      <td>Weston Homes Stadium (Peterborough)</td>\n",
       "    </tr>\n",
       "  </tbody>\n",
       "</table>\n",
       "<p>12 rows × 64 columns</p>\n",
       "</div>"
      ],
      "text/plain": [
       "     timestamp               date_GMT    status  attendance  \\\n",
       "48  1630150200  Aug 28 2021 - 11:30am  complete         NaN   \n",
       "49  1630150200  Aug 28 2021 - 11:30am  complete         NaN   \n",
       "50  1630159200   Aug 28 2021 - 2:00pm  complete         NaN   \n",
       "51  1630159200   Aug 28 2021 - 2:00pm  complete         NaN   \n",
       "52  1630159200   Aug 28 2021 - 2:00pm  complete         NaN   \n",
       "53  1630159200   Aug 28 2021 - 2:00pm  complete         NaN   \n",
       "54  1630159200   Aug 28 2021 - 2:00pm  complete         NaN   \n",
       "55  1630159200   Aug 28 2021 - 2:00pm  complete         NaN   \n",
       "56  1630159200   Aug 28 2021 - 2:00pm  complete         NaN   \n",
       "57  1630159200   Aug 28 2021 - 2:00pm  complete         NaN   \n",
       "58  1630159200   Aug 28 2021 - 2:00pm  complete         NaN   \n",
       "59  1630177200   Aug 28 2021 - 7:00pm  complete         NaN   \n",
       "\n",
       "         home_team_name        away_team_name            referee  Game Week  \\\n",
       "48         Cardiff City          Bristol City         David Webb          5   \n",
       "49         Derby County     Nottingham Forest       Tim Robinson          5   \n",
       "50             Barnsley       Birmingham City       Matt Donohue          5   \n",
       "51               Fulham            Stoke City     Jarred Gillett          5   \n",
       "52    Huddersfield Town               Reading      Leigh Doughty          5   \n",
       "53            Hull City       AFC Bournemouth   Geoff Eltringham          5   \n",
       "54           Luton Town      Sheffield United        Andy Davies          5   \n",
       "55        Middlesbrough      Blackburn Rovers  Michael Salisbury          5   \n",
       "56             Millwall             Blackpool         Gavin Ward          5   \n",
       "57    Preston North End          Swansea City     Thomas Bramall          5   \n",
       "58  Queens Park Rangers         Coventry City    Dean Whitestone          5   \n",
       "59  Peterborough United  West Bromwich Albion    James Linington          5   \n",
       "\n",
       "    Pre-Match PPG (Home)  Pre-Match PPG (Away)  ...  odds_ft_home_team_win  \\\n",
       "48                   2.0                   1.5  ...                   1.95   \n",
       "49                   1.0                   0.0  ...                   2.45   \n",
       "50                   1.5                   3.0  ...                   2.40   \n",
       "51                   2.0                   2.0  ...                   1.91   \n",
       "52                   1.5                   0.0  ...                   2.30   \n",
       "53                   0.0                   3.0  ...                   3.40   \n",
       "54                   1.5                   0.5  ...                   2.95   \n",
       "55                   1.5                   2.0  ...                   2.40   \n",
       "56                   0.5                   1.0  ...                   1.87   \n",
       "57                   1.5                   1.5  ...                   2.35   \n",
       "58                   1.0                   1.5  ...                   2.20   \n",
       "59                   2.0                   2.0  ...                   5.50   \n",
       "\n",
       "    odds_ft_draw  odds_ft_away_team_win  odds_ft_over15  odds_ft_over25  \\\n",
       "48          3.35                   4.35            1.43            2.20   \n",
       "49          2.95                   3.35            1.61            2.65   \n",
       "50          3.15                   3.30            1.49            2.30   \n",
       "51          3.40                   4.60            1.48            2.30   \n",
       "52          3.35                   3.25            1.39            2.10   \n",
       "53          3.35                   2.25            1.41            2.15   \n",
       "54          3.15                   2.65            1.49            2.30   \n",
       "55          3.25                   3.20            1.43            2.20   \n",
       "56          3.45                   4.60            1.43            2.20   \n",
       "57          3.25                   3.30            1.43            2.20   \n",
       "58          3.45                   3.30            1.34            1.95   \n",
       "59          4.10                   1.61            1.30            1.83   \n",
       "\n",
       "    odds_ft_over35  odds_ft_over45  odds_btts_yes odds_btts_no  \\\n",
       "48            3.80            7.50           2.05         1.80   \n",
       "49            4.85            9.75           2.25         1.67   \n",
       "50            4.05            8.00           2.05         1.80   \n",
       "51            4.10            8.25           2.15         1.71   \n",
       "52            3.50            6.75           1.91         1.91   \n",
       "53            3.60            7.00           1.95         1.87   \n",
       "54            3.95            7.75           2.05         1.80   \n",
       "55            3.75            7.25           1.95         1.87   \n",
       "56            3.80            7.50           2.10         1.77   \n",
       "57            3.75            7.50           2.00         1.83   \n",
       "58            3.25            6.00           1.83         2.00   \n",
       "59            3.00            5.50           1.91         1.95   \n",
       "\n",
       "                                         stadium_name  \n",
       "48          Cardiff City Stadium (Cardiff (Caerdydd))  \n",
       "49                         Pride Park Stadium (Derby)  \n",
       "50                Oakwell (Barnsley- South Yorkshire)  \n",
       "51                            Craven Cottage (London)  \n",
       "52  John Smith's Stadium (Huddersfield- West Yorks...  \n",
       "53                             The MKM Stadium (Hull)  \n",
       "54              Kenilworth Road (Luton- Bedfordshire)  \n",
       "55                  Riverside Stadium (Middlesbrough)  \n",
       "56                                   The Den (London)  \n",
       "57                                 Deepdale (Preston)  \n",
       "58           Kiyan Prince Foundation Stadium (London)  \n",
       "59                Weston Homes Stadium (Peterborough)  \n",
       "\n",
       "[12 rows x 64 columns]"
      ]
     },
     "execution_count": 72,
     "metadata": {},
     "output_type": "execute_result"
    }
   ],
   "source": [
    "games = games[48:60]\n",
    "games\n",
    "#Played matches"
   ]
  },
  {
   "cell_type": "code",
   "execution_count": 73,
   "metadata": {},
   "outputs": [
    {
     "data": {
      "text/html": [
       "<div>\n",
       "<style scoped>\n",
       "    .dataframe tbody tr th:only-of-type {\n",
       "        vertical-align: middle;\n",
       "    }\n",
       "\n",
       "    .dataframe tbody tr th {\n",
       "        vertical-align: top;\n",
       "    }\n",
       "\n",
       "    .dataframe thead th {\n",
       "        text-align: right;\n",
       "    }\n",
       "</style>\n",
       "<table border=\"1\" class=\"dataframe\">\n",
       "  <thead>\n",
       "    <tr style=\"text-align: right;\">\n",
       "      <th></th>\n",
       "      <th>home_team_name</th>\n",
       "      <th>away_team_name</th>\n",
       "      <th>team_a_xg</th>\n",
       "      <th>team_b_xg</th>\n",
       "      <th>home_team_goal_count</th>\n",
       "      <th>away_team_goal_count</th>\n",
       "    </tr>\n",
       "  </thead>\n",
       "  <tbody>\n",
       "    <tr>\n",
       "      <th>48</th>\n",
       "      <td>Cardiff City</td>\n",
       "      <td>Bristol City</td>\n",
       "      <td>1.76</td>\n",
       "      <td>1.38</td>\n",
       "      <td>1</td>\n",
       "      <td>2</td>\n",
       "    </tr>\n",
       "    <tr>\n",
       "      <th>49</th>\n",
       "      <td>Derby County</td>\n",
       "      <td>Nottingham Forest</td>\n",
       "      <td>1.55</td>\n",
       "      <td>1.54</td>\n",
       "      <td>1</td>\n",
       "      <td>1</td>\n",
       "    </tr>\n",
       "    <tr>\n",
       "      <th>50</th>\n",
       "      <td>Barnsley</td>\n",
       "      <td>Birmingham City</td>\n",
       "      <td>0.96</td>\n",
       "      <td>1.71</td>\n",
       "      <td>1</td>\n",
       "      <td>1</td>\n",
       "    </tr>\n",
       "    <tr>\n",
       "      <th>51</th>\n",
       "      <td>Fulham</td>\n",
       "      <td>Stoke City</td>\n",
       "      <td>1.87</td>\n",
       "      <td>1.33</td>\n",
       "      <td>3</td>\n",
       "      <td>0</td>\n",
       "    </tr>\n",
       "    <tr>\n",
       "      <th>52</th>\n",
       "      <td>Huddersfield Town</td>\n",
       "      <td>Reading</td>\n",
       "      <td>1.88</td>\n",
       "      <td>1.01</td>\n",
       "      <td>4</td>\n",
       "      <td>0</td>\n",
       "    </tr>\n",
       "    <tr>\n",
       "      <th>53</th>\n",
       "      <td>Hull City</td>\n",
       "      <td>AFC Bournemouth</td>\n",
       "      <td>0.56</td>\n",
       "      <td>1.24</td>\n",
       "      <td>0</td>\n",
       "      <td>0</td>\n",
       "    </tr>\n",
       "    <tr>\n",
       "      <th>54</th>\n",
       "      <td>Luton Town</td>\n",
       "      <td>Sheffield United</td>\n",
       "      <td>1.27</td>\n",
       "      <td>1.38</td>\n",
       "      <td>0</td>\n",
       "      <td>0</td>\n",
       "    </tr>\n",
       "    <tr>\n",
       "      <th>55</th>\n",
       "      <td>Middlesbrough</td>\n",
       "      <td>Blackburn Rovers</td>\n",
       "      <td>1.60</td>\n",
       "      <td>0.78</td>\n",
       "      <td>1</td>\n",
       "      <td>1</td>\n",
       "    </tr>\n",
       "    <tr>\n",
       "      <th>56</th>\n",
       "      <td>Millwall</td>\n",
       "      <td>Blackpool</td>\n",
       "      <td>2.47</td>\n",
       "      <td>0.99</td>\n",
       "      <td>2</td>\n",
       "      <td>1</td>\n",
       "    </tr>\n",
       "    <tr>\n",
       "      <th>57</th>\n",
       "      <td>Preston North End</td>\n",
       "      <td>Swansea City</td>\n",
       "      <td>1.62</td>\n",
       "      <td>0.72</td>\n",
       "      <td>3</td>\n",
       "      <td>1</td>\n",
       "    </tr>\n",
       "    <tr>\n",
       "      <th>58</th>\n",
       "      <td>Queens Park Rangers</td>\n",
       "      <td>Coventry City</td>\n",
       "      <td>1.56</td>\n",
       "      <td>1.69</td>\n",
       "      <td>2</td>\n",
       "      <td>0</td>\n",
       "    </tr>\n",
       "    <tr>\n",
       "      <th>59</th>\n",
       "      <td>Peterborough United</td>\n",
       "      <td>West Bromwich Albion</td>\n",
       "      <td>0.48</td>\n",
       "      <td>1.66</td>\n",
       "      <td>0</td>\n",
       "      <td>1</td>\n",
       "    </tr>\n",
       "  </tbody>\n",
       "</table>\n",
       "</div>"
      ],
      "text/plain": [
       "         home_team_name        away_team_name  team_a_xg  team_b_xg  \\\n",
       "48         Cardiff City          Bristol City       1.76       1.38   \n",
       "49         Derby County     Nottingham Forest       1.55       1.54   \n",
       "50             Barnsley       Birmingham City       0.96       1.71   \n",
       "51               Fulham            Stoke City       1.87       1.33   \n",
       "52    Huddersfield Town               Reading       1.88       1.01   \n",
       "53            Hull City       AFC Bournemouth       0.56       1.24   \n",
       "54           Luton Town      Sheffield United       1.27       1.38   \n",
       "55        Middlesbrough      Blackburn Rovers       1.60       0.78   \n",
       "56             Millwall             Blackpool       2.47       0.99   \n",
       "57    Preston North End          Swansea City       1.62       0.72   \n",
       "58  Queens Park Rangers         Coventry City       1.56       1.69   \n",
       "59  Peterborough United  West Bromwich Albion       0.48       1.66   \n",
       "\n",
       "    home_team_goal_count  away_team_goal_count  \n",
       "48                     1                     2  \n",
       "49                     1                     1  \n",
       "50                     1                     1  \n",
       "51                     3                     0  \n",
       "52                     4                     0  \n",
       "53                     0                     0  \n",
       "54                     0                     0  \n",
       "55                     1                     1  \n",
       "56                     2                     1  \n",
       "57                     3                     1  \n",
       "58                     2                     0  \n",
       "59                     0                     1  "
      ]
     },
     "execution_count": 73,
     "metadata": {},
     "output_type": "execute_result"
    }
   ],
   "source": [
    "xg_view = games[['home_team_name', 'away_team_name', 'team_a_xg', 'team_b_xg', 'home_team_goal_count', 'away_team_goal_count']]\n",
    "xg_view"
   ]
  },
  {
   "cell_type": "markdown",
   "metadata": {},
   "source": [
    "# Goal Analysis"
   ]
  },
  {
   "cell_type": "code",
   "execution_count": 74,
   "metadata": {},
   "outputs": [],
   "source": [
    "season_goal_total = games['total_goal_count'].sum()\n",
    "season_1h_goal_total = games['total_goals_at_half_time'].sum()\n",
    "percent_goals_1h = ((season_1h_goal_total)/(season_goal_total)) * 100"
   ]
  },
  {
   "cell_type": "code",
   "execution_count": 75,
   "metadata": {},
   "outputs": [
    {
     "name": "stdout",
     "output_type": "stream",
     "text": [
      "There were 26 goals scored this season\n"
     ]
    }
   ],
   "source": [
    "print(f'There were {season_goal_total} goals scored this season')"
   ]
  },
  {
   "cell_type": "code",
   "execution_count": 76,
   "metadata": {},
   "outputs": [
    {
     "name": "stdout",
     "output_type": "stream",
     "text": [
      "There were 11 goals scored in the 1H this season, \n"
     ]
    }
   ],
   "source": [
    "print(f'There were {season_1h_goal_total} goals scored in the 1H this season, ')"
   ]
  },
  {
   "cell_type": "code",
   "execution_count": 77,
   "metadata": {},
   "outputs": [
    {
     "data": {
      "text/plain": [
       "0.42"
      ]
     },
     "execution_count": 77,
     "metadata": {},
     "output_type": "execute_result"
    }
   ],
   "source": [
    "round(season_1h_goal_total/season_goal_total, 2)\n",
    "#% of first half goals"
   ]
  },
  {
   "cell_type": "code",
   "execution_count": 78,
   "metadata": {},
   "outputs": [
    {
     "data": {
      "text/plain": [
       "12"
      ]
     },
     "execution_count": 78,
     "metadata": {},
     "output_type": "execute_result"
    }
   ],
   "source": [
    "games['total_goals_at_half_time'].count()"
   ]
  },
  {
   "cell_type": "code",
   "execution_count": 79,
   "metadata": {},
   "outputs": [
    {
     "data": {
      "text/plain": [
       "0    5\n",
       "1    4\n",
       "2    2\n",
       "3    1\n",
       "Name: total_goals_at_half_time, dtype: int64"
      ]
     },
     "execution_count": 79,
     "metadata": {},
     "output_type": "execute_result"
    }
   ],
   "source": [
    "games['total_goals_at_half_time'].value_counts()"
   ]
  },
  {
   "cell_type": "markdown",
   "metadata": {},
   "source": [
    "# Adding more columns"
   ]
  },
  {
   "cell_type": "code",
   "execution_count": 80,
   "metadata": {},
   "outputs": [],
   "source": [
    "games['home_xg'] = \"\"\n",
    "games['away_xg'] = \"\"\n",
    "games['home_xg_against'] = \"\"\n",
    "games['away_xg_against'] = \"\"\n",
    "games['home_total_corners'] = \"\"\n",
    "games['away_total_corners'] = \"\"\n",
    "\n",
    "# Creating new columns where our data will go"
   ]
  },
  {
   "cell_type": "markdown",
   "metadata": {},
   "source": [
    "Let's write a function to help fill xg in our games df"
   ]
  },
  {
   "cell_type": "code",
   "execution_count": 81,
   "metadata": {},
   "outputs": [
    {
     "data": {
      "text/html": [
       "<div>\n",
       "<style scoped>\n",
       "    .dataframe tbody tr th:only-of-type {\n",
       "        vertical-align: middle;\n",
       "    }\n",
       "\n",
       "    .dataframe tbody tr th {\n",
       "        vertical-align: top;\n",
       "    }\n",
       "\n",
       "    .dataframe thead th {\n",
       "        text-align: right;\n",
       "    }\n",
       "</style>\n",
       "<table border=\"1\" class=\"dataframe\">\n",
       "  <thead>\n",
       "    <tr style=\"text-align: right;\">\n",
       "      <th></th>\n",
       "      <th>common_name</th>\n",
       "      <th>xg_against_avg_overall</th>\n",
       "    </tr>\n",
       "  </thead>\n",
       "  <tbody>\n",
       "    <tr>\n",
       "      <th>0</th>\n",
       "      <td>Stoke City</td>\n",
       "      <td>0.85</td>\n",
       "    </tr>\n",
       "    <tr>\n",
       "      <th>1</th>\n",
       "      <td>West Bromwich Albion</td>\n",
       "      <td>0.55</td>\n",
       "    </tr>\n",
       "    <tr>\n",
       "      <th>2</th>\n",
       "      <td>Middlesbrough</td>\n",
       "      <td>0.83</td>\n",
       "    </tr>\n",
       "    <tr>\n",
       "      <th>3</th>\n",
       "      <td>AFC Bournemouth</td>\n",
       "      <td>1.08</td>\n",
       "    </tr>\n",
       "    <tr>\n",
       "      <th>4</th>\n",
       "      <td>Hull City</td>\n",
       "      <td>1.08</td>\n",
       "    </tr>\n",
       "    <tr>\n",
       "      <th>5</th>\n",
       "      <td>Swansea City</td>\n",
       "      <td>1.27</td>\n",
       "    </tr>\n",
       "    <tr>\n",
       "      <th>6</th>\n",
       "      <td>Queens Park Rangers</td>\n",
       "      <td>1.18</td>\n",
       "    </tr>\n",
       "    <tr>\n",
       "      <th>7</th>\n",
       "      <td>Cardiff City</td>\n",
       "      <td>0.82</td>\n",
       "    </tr>\n",
       "    <tr>\n",
       "      <th>8</th>\n",
       "      <td>Fulham</td>\n",
       "      <td>0.66</td>\n",
       "    </tr>\n",
       "    <tr>\n",
       "      <th>9</th>\n",
       "      <td>Birmingham City</td>\n",
       "      <td>0.79</td>\n",
       "    </tr>\n",
       "    <tr>\n",
       "      <th>10</th>\n",
       "      <td>Bristol City</td>\n",
       "      <td>0.92</td>\n",
       "    </tr>\n",
       "    <tr>\n",
       "      <th>11</th>\n",
       "      <td>Preston North End</td>\n",
       "      <td>0.82</td>\n",
       "    </tr>\n",
       "    <tr>\n",
       "      <th>12</th>\n",
       "      <td>Nottingham Forest</td>\n",
       "      <td>1.04</td>\n",
       "    </tr>\n",
       "    <tr>\n",
       "      <th>13</th>\n",
       "      <td>Derby County</td>\n",
       "      <td>1.11</td>\n",
       "    </tr>\n",
       "    <tr>\n",
       "      <th>14</th>\n",
       "      <td>Barnsley</td>\n",
       "      <td>1.07</td>\n",
       "    </tr>\n",
       "    <tr>\n",
       "      <th>15</th>\n",
       "      <td>Blackburn Rovers</td>\n",
       "      <td>1.22</td>\n",
       "    </tr>\n",
       "    <tr>\n",
       "      <th>16</th>\n",
       "      <td>Huddersfield Town</td>\n",
       "      <td>1.17</td>\n",
       "    </tr>\n",
       "    <tr>\n",
       "      <th>17</th>\n",
       "      <td>Reading</td>\n",
       "      <td>1.42</td>\n",
       "    </tr>\n",
       "    <tr>\n",
       "      <th>18</th>\n",
       "      <td>Blackpool</td>\n",
       "      <td>1.40</td>\n",
       "    </tr>\n",
       "    <tr>\n",
       "      <th>19</th>\n",
       "      <td>Millwall</td>\n",
       "      <td>1.02</td>\n",
       "    </tr>\n",
       "    <tr>\n",
       "      <th>20</th>\n",
       "      <td>Coventry City</td>\n",
       "      <td>0.90</td>\n",
       "    </tr>\n",
       "    <tr>\n",
       "      <th>21</th>\n",
       "      <td>Peterborough United</td>\n",
       "      <td>1.12</td>\n",
       "    </tr>\n",
       "    <tr>\n",
       "      <th>22</th>\n",
       "      <td>Sheffield United</td>\n",
       "      <td>0.74</td>\n",
       "    </tr>\n",
       "    <tr>\n",
       "      <th>23</th>\n",
       "      <td>Luton Town</td>\n",
       "      <td>1.20</td>\n",
       "    </tr>\n",
       "  </tbody>\n",
       "</table>\n",
       "</div>"
      ],
      "text/plain": [
       "             common_name  xg_against_avg_overall\n",
       "0             Stoke City                    0.85\n",
       "1   West Bromwich Albion                    0.55\n",
       "2          Middlesbrough                    0.83\n",
       "3        AFC Bournemouth                    1.08\n",
       "4              Hull City                    1.08\n",
       "5           Swansea City                    1.27\n",
       "6    Queens Park Rangers                    1.18\n",
       "7           Cardiff City                    0.82\n",
       "8                 Fulham                    0.66\n",
       "9        Birmingham City                    0.79\n",
       "10          Bristol City                    0.92\n",
       "11     Preston North End                    0.82\n",
       "12     Nottingham Forest                    1.04\n",
       "13          Derby County                    1.11\n",
       "14              Barnsley                    1.07\n",
       "15      Blackburn Rovers                    1.22\n",
       "16     Huddersfield Town                    1.17\n",
       "17               Reading                    1.42\n",
       "18             Blackpool                    1.40\n",
       "19              Millwall                    1.02\n",
       "20         Coventry City                    0.90\n",
       "21   Peterborough United                    1.12\n",
       "22      Sheffield United                    0.74\n",
       "23            Luton Town                    1.20"
      ]
     },
     "execution_count": 81,
     "metadata": {},
     "output_type": "execute_result"
    }
   ],
   "source": [
    "xg_stats = team_stats[['common_name', 'xg_for_avg_overall']]\n",
    "corner_stats = team_stats[['common_name', 'corners_per_match']]\n",
    "xga_stats = team_stats[['common_name', 'xg_against_avg_overall']]\n",
    "\n",
    "xga_stats"
   ]
  },
  {
   "cell_type": "code",
   "execution_count": 82,
   "metadata": {},
   "outputs": [],
   "source": [
    "xg_stats = dict(xg_stats.values)\n",
    "corner_stats = dict(corner_stats.values)\n",
    "xga_stats = dict(xga_stats.values)\n",
    "\n",
    "#By making this into dictionaries, it will be easier to call them/update them with the function"
   ]
  },
  {
   "cell_type": "code",
   "execution_count": 83,
   "metadata": {},
   "outputs": [],
   "source": [
    "def fill_stats(team):\n",
    "    games['home_xg'] = np.where(games['home_team_name'] == team, xg_stats[team], games['home_xg'])\n",
    "    games['away_xg'] = np.where(games['away_team_name'] == team, xg_stats[team], games['away_xg'])\n",
    "    games['home_xg_against'] = np.where(games['home_team_name'] == team, xga_stats[team], games['home_xg_against'])\n",
    "    games['away_xg_against'] = np.where(games['away_team_name'] == team, xga_stats[team], games['away_xg_against'])\n",
    "    games['home_total_corners'] = np.where(games['home_team_name'] == team, corner_stats[team], games['home_total_corners'])\n",
    "    games['away_total_corners'] = np.where(games['away_team_name'] == team, corner_stats[team], games['away_total_corners'])\n",
    "    \n",
    "#Function to put team stats into games dataframe"
   ]
  },
  {
   "cell_type": "code",
   "execution_count": 84,
   "metadata": {},
   "outputs": [],
   "source": [
    "fill_stats('Fulham')\n",
    "fill_stats('Blackburn Rovers')\n",
    "fill_stats('West Bromwich Albion')\n",
    "fill_stats('Queens Park Rangers')\n",
    "fill_stats('AFC Bournemouth')\n",
    "fill_stats('Middlesbrough')\n",
    "fill_stats('Barnsley')\n",
    "fill_stats('Millwall')\n",
    "fill_stats('Sheffield United')\n",
    "fill_stats('Reading')\n",
    "fill_stats('Cardiff City')\n",
    "fill_stats('Nottingham Forest')\n",
    "fill_stats('Hull City')\n",
    "fill_stats('Blackpool')\n",
    "fill_stats('Luton Town')\n",
    "fill_stats('Stoke City')\n",
    "fill_stats('Swansea City')\n",
    "fill_stats('Derby County')\n",
    "fill_stats('Huddersfield Town')\n",
    "fill_stats('Preston North End')\n",
    "fill_stats('Coventry City')\n",
    "fill_stats('Peterborough United')\n",
    "fill_stats('Birmingham City')\n",
    "fill_stats('Bristol City')\n",
    "\n",
    "#Reading in stats"
   ]
  },
  {
   "cell_type": "markdown",
   "metadata": {},
   "source": [
    "# Some more EDA"
   ]
  },
  {
   "cell_type": "markdown",
   "metadata": {},
   "source": [
    "Let's write a function to help fill xg in our games df"
   ]
  },
  {
   "cell_type": "code",
   "execution_count": 85,
   "metadata": {},
   "outputs": [],
   "source": [
    "games['home_xg'] = \"\"\n",
    "games['away_xg'] = \"\"\n",
    "games['home_xg_against'] = \"\"\n",
    "games['away_xg_against'] = \"\"\n",
    "games['home_total_corners'] = \"\"\n",
    "games['away_total_corners'] = \"\"\n",
    "\n",
    "# Creating new columns where our data will go\n",
    "\n",
    "\n",
    "\n",
    "xg_stats = team_stats[['common_name', 'xg_for_avg_overall']]\n",
    "corner_stats = team_stats[['common_name', 'corners_per_match']]\n",
    "xga_stats = team_stats[['common_name', 'xg_against_avg_overall']]\n",
    "\n",
    "xga_stats.head()\n",
    "\n",
    "xg_stats = dict(xg_stats.values)\n",
    "corner_stats = dict(corner_stats.values)\n",
    "xga_stats = dict(xga_stats.values)\n",
    "\n",
    "#By making this into dictionaries, it will be easier to call them/update them with the function\n",
    "\n",
    "def fill_stats(team):\n",
    "    games['home_xg'] = np.where(games['home_team_name'] == team, xg_stats[team], games['home_xg'])\n",
    "    games['away_xg'] = np.where(games['away_team_name'] == team, xg_stats[team], games['away_xg'])\n",
    "    games['home_xg_against'] = np.where(games['home_team_name'] == team, xga_stats[team], games['home_xg_against'])\n",
    "    games['away_xg_against'] = np.where(games['away_team_name'] == team, xga_stats[team], games['away_xg_against'])\n",
    "    games['home_total_corners'] = np.where(games['home_team_name'] == team, corner_stats[team], games['home_total_corners'])\n",
    "    games['away_total_corners'] = np.where(games['away_team_name'] == team, corner_stats[team], games['away_total_corners'])\n",
    "    \n",
    "#Function to put team stats into games dataframe\n",
    "\n",
    "fill_stats('Fulham')\n",
    "fill_stats('Blackburn Rovers')\n",
    "fill_stats('West Bromwich Albion')\n",
    "fill_stats('Queens Park Rangers')\n",
    "fill_stats('AFC Bournemouth')\n",
    "fill_stats('Middlesbrough')\n",
    "fill_stats('Barnsley')\n",
    "fill_stats('Millwall')\n",
    "fill_stats('Sheffield United')\n",
    "fill_stats('Reading')\n",
    "fill_stats('Cardiff City')\n",
    "fill_stats('Nottingham Forest')\n",
    "fill_stats('Hull City')\n",
    "fill_stats('Blackpool')\n",
    "fill_stats('Luton Town')\n",
    "fill_stats('Stoke City')\n",
    "fill_stats('Swansea City')\n",
    "fill_stats('Derby County')\n",
    "fill_stats('Huddersfield Town')\n",
    "fill_stats('Preston North End')\n",
    "fill_stats('Coventry City')\n",
    "fill_stats('Peterborough United')\n",
    "fill_stats('Birmingham City')\n",
    "fill_stats('Bristol City')\n",
    "\n",
    "#Reading in stats\n",
    "\n",
    "# Some more EDA"
   ]
  },
  {
   "cell_type": "markdown",
   "metadata": {},
   "source": [
    "# Over/Under 2.5?"
   ]
  },
  {
   "cell_type": "code",
   "execution_count": 86,
   "metadata": {},
   "outputs": [],
   "source": [
    "games['over/under'] = np.where(games['home_team_goal_count'] + games['away_team_goal_count'] > 2.5, 1, 0)\n",
    "# Adding column 0 represents under 2.5, 1 represents over 2.5"
   ]
  },
  {
   "cell_type": "code",
   "execution_count": 87,
   "metadata": {},
   "outputs": [
    {
     "data": {
      "text/plain": [
       "0    7\n",
       "1    5\n",
       "Name: over/under, dtype: int64"
      ]
     },
     "execution_count": 87,
     "metadata": {},
     "output_type": "execute_result"
    }
   ],
   "source": [
    "games['over/under'].value_counts()"
   ]
  },
  {
   "cell_type": "markdown",
   "metadata": {},
   "source": [
    "# xG Over/Under 2.5? "
   ]
  },
  {
   "cell_type": "code",
   "execution_count": 88,
   "metadata": {},
   "outputs": [],
   "source": [
    "games['xg_over/under'] = np.where(games['team_a_xg'] + games['team_b_xg'] > 2.99, 1, 0)\n",
    "# Adding column 0 represents under 2.5, 1 represents over 2.5\n",
    "games['xg_over/under_1.99'] = np.where(games['team_a_xg'] + games['team_b_xg'] > 1.99, 1, 0)\n",
    "# Adding column 0 represents under 1.5, 1 represents over 1.5"
   ]
  },
  {
   "cell_type": "code",
   "execution_count": 89,
   "metadata": {},
   "outputs": [
    {
     "data": {
      "text/plain": [
       "0    7\n",
       "1    5\n",
       "Name: xg_over/under, dtype: int64"
      ]
     },
     "execution_count": 89,
     "metadata": {},
     "output_type": "execute_result"
    }
   ],
   "source": [
    "games['xg_over/under'].value_counts()"
   ]
  },
  {
   "cell_type": "code",
   "execution_count": 90,
   "metadata": {},
   "outputs": [
    {
     "data": {
      "text/plain": [
       "1    11\n",
       "0     1\n",
       "Name: xg_over/under_1.99, dtype: int64"
      ]
     },
     "execution_count": 90,
     "metadata": {},
     "output_type": "execute_result"
    }
   ],
   "source": [
    "games['xg_over/under_1.99'].value_counts()"
   ]
  },
  {
   "cell_type": "code",
   "execution_count": null,
   "metadata": {},
   "outputs": [],
   "source": []
  },
  {
   "cell_type": "markdown",
   "metadata": {},
   "source": [
    "# First Week"
   ]
  },
  {
   "cell_type": "code",
   "execution_count": 91,
   "metadata": {},
   "outputs": [],
   "source": [
    "games['over/under_1.5'] = np.where(games['home_team_goal_count'] + games['away_team_goal_count'] > 1.5, 1, 0)\n",
    "# Adding column 0 represents under 1.5, 1 represents over 1.5"
   ]
  },
  {
   "cell_type": "code",
   "execution_count": 92,
   "metadata": {},
   "outputs": [],
   "source": [
    "first_matchweek = games[0:12]"
   ]
  },
  {
   "cell_type": "code",
   "execution_count": 93,
   "metadata": {},
   "outputs": [
    {
     "data": {
      "text/plain": [
       "0    7\n",
       "1    5\n",
       "Name: over/under, dtype: int64"
      ]
     },
     "execution_count": 93,
     "metadata": {},
     "output_type": "execute_result"
    }
   ],
   "source": [
    "first_matchweek['over/under'].value_counts()"
   ]
  },
  {
   "cell_type": "code",
   "execution_count": 94,
   "metadata": {},
   "outputs": [
    {
     "data": {
      "text/plain": [
       "1    9\n",
       "0    3\n",
       "Name: over/under_1.5, dtype: int64"
      ]
     },
     "execution_count": 94,
     "metadata": {},
     "output_type": "execute_result"
    }
   ],
   "source": [
    "first_matchweek['over/under_1.5'].value_counts()"
   ]
  },
  {
   "cell_type": "code",
   "execution_count": 95,
   "metadata": {},
   "outputs": [
    {
     "data": {
      "text/plain": [
       "0    7\n",
       "1    5\n",
       "Name: xg_over/under, dtype: int64"
      ]
     },
     "execution_count": 95,
     "metadata": {},
     "output_type": "execute_result"
    }
   ],
   "source": [
    "first_matchweek['xg_over/under'].value_counts()"
   ]
  },
  {
   "cell_type": "code",
   "execution_count": 96,
   "metadata": {},
   "outputs": [
    {
     "data": {
      "text/plain": [
       "1    11\n",
       "0     1\n",
       "Name: xg_over/under_1.99, dtype: int64"
      ]
     },
     "execution_count": 96,
     "metadata": {},
     "output_type": "execute_result"
    }
   ],
   "source": [
    "first_matchweek['xg_over/under_1.99'].value_counts()"
   ]
  },
  {
   "cell_type": "code",
   "execution_count": 97,
   "metadata": {},
   "outputs": [
    {
     "data": {
      "text/plain": [
       "7"
      ]
     },
     "execution_count": 97,
     "metadata": {},
     "output_type": "execute_result"
    }
   ],
   "source": [
    "games['home_team_goal_count_half_time'].sum()"
   ]
  },
  {
   "cell_type": "code",
   "execution_count": 98,
   "metadata": {},
   "outputs": [
    {
     "data": {
      "text/plain": [
       "4"
      ]
     },
     "execution_count": 98,
     "metadata": {},
     "output_type": "execute_result"
    }
   ],
   "source": [
    "games['away_team_goal_count_half_time'].sum()"
   ]
  },
  {
   "cell_type": "code",
   "execution_count": null,
   "metadata": {},
   "outputs": [],
   "source": []
  },
  {
   "cell_type": "code",
   "execution_count": null,
   "metadata": {},
   "outputs": [],
   "source": []
  },
  {
   "cell_type": "markdown",
   "metadata": {},
   "source": [
    "# Let's take out the final week now and check percentage"
   ]
  },
  {
   "cell_type": "code",
   "execution_count": 99,
   "metadata": {},
   "outputs": [
    {
     "data": {
      "text/plain": [
       "0    7\n",
       "1    5\n",
       "Name: over/under, dtype: int64"
      ]
     },
     "execution_count": 99,
     "metadata": {},
     "output_type": "execute_result"
    }
   ],
   "source": [
    "first_41 = games[0:540]\n",
    "first_41['over/under'].value_counts()"
   ]
  },
  {
   "cell_type": "code",
   "execution_count": 100,
   "metadata": {},
   "outputs": [
    {
     "data": {
      "text/plain": [
       "0.40185185185185185"
      ]
     },
     "execution_count": 100,
     "metadata": {},
     "output_type": "execute_result"
    }
   ],
   "source": [
    "217/540\n",
    "# Percentage of games that went over"
   ]
  },
  {
   "cell_type": "markdown",
   "metadata": {},
   "source": [
    "# When were these goals scored?"
   ]
  },
  {
   "cell_type": "markdown",
   "metadata": {},
   "source": [
    "Second half stoppage time goals will start at 91 i.e. 90+1 will be 91\n",
    "First half stoppage time goals will start at 100 i.e. 45+1 = 110 ----"
   ]
  },
  {
   "cell_type": "code",
   "execution_count": null,
   "metadata": {},
   "outputs": [],
   "source": []
  },
  {
   "cell_type": "code",
   "execution_count": null,
   "metadata": {},
   "outputs": [],
   "source": []
  },
  {
   "cell_type": "markdown",
   "metadata": {},
   "source": [
    "Change stoppage time goals so we can cast them as floats"
   ]
  },
  {
   "cell_type": "code",
   "execution_count": 101,
   "metadata": {},
   "outputs": [
    {
     "ename": "NameError",
     "evalue": "name 'goal_timings' is not defined",
     "output_type": "error",
     "traceback": [
      "\u001b[1;31m---------------------------------------------------------------------------\u001b[0m",
      "\u001b[1;31mNameError\u001b[0m                                 Traceback (most recent call last)",
      "\u001b[1;32m<ipython-input-101-e20ea993df15>\u001b[0m in \u001b[0;36m<module>\u001b[1;34m\u001b[0m\n\u001b[1;32m----> 1\u001b[1;33m \u001b[0mgoal_timings\u001b[0m \u001b[1;33m=\u001b[0m \u001b[0mgoal_timings\u001b[0m\u001b[1;33m.\u001b[0m\u001b[0mreplace\u001b[0m\u001b[1;33m(\u001b[0m\u001b[0mto_replace\u001b[0m\u001b[1;33m=\u001b[0m\u001b[1;34m\"90'1\"\u001b[0m\u001b[1;33m,\u001b[0m \u001b[0mvalue\u001b[0m \u001b[1;33m=\u001b[0m \u001b[1;34m\"91\"\u001b[0m\u001b[1;33m)\u001b[0m\u001b[1;33m\u001b[0m\u001b[1;33m\u001b[0m\u001b[0m\n\u001b[0m\u001b[0;32m      2\u001b[0m \u001b[0mgoal_timings\u001b[0m \u001b[1;33m=\u001b[0m \u001b[0mgoal_timings\u001b[0m\u001b[1;33m.\u001b[0m\u001b[0mreplace\u001b[0m\u001b[1;33m(\u001b[0m\u001b[0mto_replace\u001b[0m\u001b[1;33m=\u001b[0m\u001b[1;34m\"90'2\"\u001b[0m\u001b[1;33m,\u001b[0m \u001b[0mvalue\u001b[0m \u001b[1;33m=\u001b[0m \u001b[1;34m\"92\"\u001b[0m\u001b[1;33m)\u001b[0m\u001b[1;33m\u001b[0m\u001b[1;33m\u001b[0m\u001b[0m\n\u001b[0;32m      3\u001b[0m \u001b[0mgoal_timings\u001b[0m \u001b[1;33m=\u001b[0m \u001b[0mgoal_timings\u001b[0m\u001b[1;33m.\u001b[0m\u001b[0mreplace\u001b[0m\u001b[1;33m(\u001b[0m\u001b[0mto_replace\u001b[0m\u001b[1;33m=\u001b[0m\u001b[1;34m\"90'3\"\u001b[0m\u001b[1;33m,\u001b[0m \u001b[0mvalue\u001b[0m \u001b[1;33m=\u001b[0m \u001b[1;34m\"93\"\u001b[0m\u001b[1;33m)\u001b[0m\u001b[1;33m\u001b[0m\u001b[1;33m\u001b[0m\u001b[0m\n\u001b[0;32m      4\u001b[0m \u001b[0mgoal_timings\u001b[0m \u001b[1;33m=\u001b[0m \u001b[0mgoal_timings\u001b[0m\u001b[1;33m.\u001b[0m\u001b[0mreplace\u001b[0m\u001b[1;33m(\u001b[0m\u001b[0mto_replace\u001b[0m\u001b[1;33m=\u001b[0m\u001b[1;34m\"90'4\"\u001b[0m\u001b[1;33m,\u001b[0m \u001b[0mvalue\u001b[0m \u001b[1;33m=\u001b[0m \u001b[1;34m\"94\"\u001b[0m\u001b[1;33m)\u001b[0m\u001b[1;33m\u001b[0m\u001b[1;33m\u001b[0m\u001b[0m\n\u001b[0;32m      5\u001b[0m \u001b[0mgoal_timings\u001b[0m \u001b[1;33m=\u001b[0m \u001b[0mgoal_timings\u001b[0m\u001b[1;33m.\u001b[0m\u001b[0mreplace\u001b[0m\u001b[1;33m(\u001b[0m\u001b[0mto_replace\u001b[0m\u001b[1;33m=\u001b[0m\u001b[1;34m\"90'5\"\u001b[0m\u001b[1;33m,\u001b[0m \u001b[0mvalue\u001b[0m \u001b[1;33m=\u001b[0m \u001b[1;34m\"95\"\u001b[0m\u001b[1;33m)\u001b[0m\u001b[1;33m\u001b[0m\u001b[1;33m\u001b[0m\u001b[0m\n",
      "\u001b[1;31mNameError\u001b[0m: name 'goal_timings' is not defined"
     ]
    }
   ],
   "source": [
    "goal_timings = goal_timings.replace(to_replace=\"90'1\", value = \"91\")\n",
    "goal_timings = goal_timings.replace(to_replace=\"90'2\", value = \"92\")\n",
    "goal_timings = goal_timings.replace(to_replace=\"90'3\", value = \"93\")\n",
    "goal_timings = goal_timings.replace(to_replace=\"90'4\", value = \"94\")\n",
    "goal_timings = goal_timings.replace(to_replace=\"90'5\", value = \"95\")\n",
    "goal_timings = goal_timings.replace(to_replace=\"90'6\", value = \"96\")\n",
    "goal_timings = goal_timings.replace(to_replace=\"90'7\", value = \"97\")\n",
    "goal_timings = goal_timings.replace(to_replace=\"90'8\", value = \"98\")\n",
    "goal_timings = goal_timings.replace(to_replace=\"90'9\", value = \"99\")\n",
    "goal_timings = goal_timings.replace(to_replace=\"90'10\", value = \"100\")\n",
    "goal_timings = goal_timings.replace(to_replace=\"90'11\", value = \"101\")\n",
    "goal_timings = goal_timings.replace(to_replace=\"90'12\", value = \"102\")\n",
    "goal_timings = goal_timings.replace(to_replace=\"45'1\", value = \"110\")\n",
    "goal_timings = goal_timings.replace(to_replace=\"45'2\", value = \"111\")\n",
    "goal_timings = goal_timings.replace(to_replace=\"45'3\", value = \"112\")\n",
    "goal_timings = goal_timings.replace(to_replace=\"45'4\", value = \"113\")"
   ]
  },
  {
   "cell_type": "code",
   "execution_count": null,
   "metadata": {},
   "outputs": [],
   "source": [
    "goal_timings['All_goal_timings'] = goal_timings['All_goal_timings'].astype('int')"
   ]
  },
  {
   "cell_type": "code",
   "execution_count": null,
   "metadata": {},
   "outputs": [],
   "source": [
    "timing_totals = goal_timings['All_goal_timings'].value_counts()\n",
    "timing_totals = pd.DataFrame(timing_totals)"
   ]
  },
  {
   "cell_type": "code",
   "execution_count": null,
   "metadata": {},
   "outputs": [],
   "source": [
    "timing_totals = timing_totals.rename_axis(\"minute\", axis=\"columns\")\n",
    "timing_totals = timing_totals.rename(columns={\"All_goal_timings\":\"count\"})"
   ]
  },
  {
   "cell_type": "code",
   "execution_count": null,
   "metadata": {},
   "outputs": [],
   "source": [
    "timing_totals['section'] = \"\"\n",
    "timing_totals.head()"
   ]
  },
  {
   "cell_type": "code",
   "execution_count": null,
   "metadata": {},
   "outputs": [],
   "source": []
  },
  {
   "cell_type": "code",
   "execution_count": null,
   "metadata": {},
   "outputs": [],
   "source": []
  },
  {
   "cell_type": "code",
   "execution_count": null,
   "metadata": {},
   "outputs": [],
   "source": []
  },
  {
   "cell_type": "markdown",
   "metadata": {},
   "source": [
    "# In how many games did a team have more xG but lose?"
   ]
  },
  {
   "cell_type": "code",
   "execution_count": null,
   "metadata": {},
   "outputs": [],
   "source": []
  },
  {
   "cell_type": "code",
   "execution_count": null,
   "metadata": {},
   "outputs": [],
   "source": []
  },
  {
   "cell_type": "code",
   "execution_count": null,
   "metadata": {},
   "outputs": [],
   "source": []
  },
  {
   "cell_type": "code",
   "execution_count": null,
   "metadata": {},
   "outputs": [],
   "source": []
  },
  {
   "cell_type": "code",
   "execution_count": null,
   "metadata": {},
   "outputs": [],
   "source": []
  },
  {
   "cell_type": "code",
   "execution_count": null,
   "metadata": {},
   "outputs": [],
   "source": []
  }
 ],
 "metadata": {
  "kernelspec": {
   "display_name": "Python 3",
   "language": "python",
   "name": "python3"
  },
  "language_info": {
   "codemirror_mode": {
    "name": "ipython",
    "version": 3
   },
   "file_extension": ".py",
   "mimetype": "text/x-python",
   "name": "python",
   "nbconvert_exporter": "python",
   "pygments_lexer": "ipython3",
   "version": "3.8.3"
  }
 },
 "nbformat": 4,
 "nbformat_minor": 4
}
