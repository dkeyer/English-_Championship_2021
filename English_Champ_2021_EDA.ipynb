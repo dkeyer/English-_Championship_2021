{
 "cells": [
  {
   "cell_type": "markdown",
   "metadata": {},
   "source": [
    "# 2021 Championship EDA"
   ]
  },
  {
   "cell_type": "code",
   "execution_count": 1,
   "metadata": {},
   "outputs": [],
   "source": [
    "import pandas as pd\n",
    "import numpy as np\n",
    "import seaborn as sns\n",
    "import matplotlib.pyplot as plt\n",
    "from sklearn.linear_model import LinearRegression, LogisticRegression, Ridge, RidgeCV, Lasso, \\\n",
    "LassoCV, ElasticNet, ElasticNetCV\n",
    "from sklearn.model_selection import train_test_split, cross_val_score, GridSearchCV\n",
    "from sklearn.metrics import mean_squared_error, r2_score, accuracy_score\n",
    "from sklearn.preprocessing import StandardScaler, PolynomialFeatures\n",
    "from sklearn.neighbors import KNeighborsClassifier\n",
    "from sklearn.svm import SVR\n",
    "from sklearn.decomposition import PCA"
   ]
  },
  {
   "cell_type": "code",
   "execution_count": 2,
   "metadata": {},
   "outputs": [],
   "source": [
    "team_stats = pd.read_csv('../data/FS_champ_team_2021.csv')\n",
    "games = pd.read_csv('../data/FS_champ_games_2021.csv')\n",
    "goal_timings = pd.read_csv('../data/FS_Champ2021_Goal_timings.csv')"
   ]
  },
  {
   "cell_type": "code",
   "execution_count": 3,
   "metadata": {},
   "outputs": [
    {
     "data": {
      "text/html": [
       "<div>\n",
       "<style scoped>\n",
       "    .dataframe tbody tr th:only-of-type {\n",
       "        vertical-align: middle;\n",
       "    }\n",
       "\n",
       "    .dataframe tbody tr th {\n",
       "        vertical-align: top;\n",
       "    }\n",
       "\n",
       "    .dataframe thead th {\n",
       "        text-align: right;\n",
       "    }\n",
       "</style>\n",
       "<table border=\"1\" class=\"dataframe\">\n",
       "  <thead>\n",
       "    <tr style=\"text-align: right;\">\n",
       "      <th></th>\n",
       "      <th>matches_played</th>\n",
       "      <th>matches_played_home</th>\n",
       "      <th>matches_played_away</th>\n",
       "      <th>suspended_matches</th>\n",
       "      <th>wins</th>\n",
       "      <th>wins_home</th>\n",
       "      <th>wins_away</th>\n",
       "      <th>draws</th>\n",
       "      <th>draws_home</th>\n",
       "      <th>draws_away</th>\n",
       "      <th>...</th>\n",
       "      <th>goals_conceded_min_61_to_70</th>\n",
       "      <th>goals_conceded_min_71_to_80</th>\n",
       "      <th>goals_conceded_min_81_to_90</th>\n",
       "      <th>draw_percentage_overall</th>\n",
       "      <th>draw_percentage_home</th>\n",
       "      <th>draw_percentage_away</th>\n",
       "      <th>loss_percentage_ovearll</th>\n",
       "      <th>loss_percentage_home</th>\n",
       "      <th>loss_percentage_away</th>\n",
       "      <th>over145_corners_percentage</th>\n",
       "    </tr>\n",
       "  </thead>\n",
       "  <tbody>\n",
       "    <tr>\n",
       "      <th>count</th>\n",
       "      <td>24.000000</td>\n",
       "      <td>24.000000</td>\n",
       "      <td>24.000000</td>\n",
       "      <td>24.0</td>\n",
       "      <td>24.000000</td>\n",
       "      <td>24.000000</td>\n",
       "      <td>24.000000</td>\n",
       "      <td>24.000000</td>\n",
       "      <td>24.000000</td>\n",
       "      <td>24.000000</td>\n",
       "      <td>...</td>\n",
       "      <td>24.000000</td>\n",
       "      <td>24.000000</td>\n",
       "      <td>24.000000</td>\n",
       "      <td>24.000000</td>\n",
       "      <td>24.000000</td>\n",
       "      <td>24.000000</td>\n",
       "      <td>24.000000</td>\n",
       "      <td>24.000000</td>\n",
       "      <td>24.000000</td>\n",
       "      <td>24.000000</td>\n",
       "    </tr>\n",
       "    <tr>\n",
       "      <th>mean</th>\n",
       "      <td>46.416667</td>\n",
       "      <td>23.208333</td>\n",
       "      <td>23.208333</td>\n",
       "      <td>0.0</td>\n",
       "      <td>17.375000</td>\n",
       "      <td>9.583333</td>\n",
       "      <td>7.791667</td>\n",
       "      <td>11.666667</td>\n",
       "      <td>5.833333</td>\n",
       "      <td>5.833333</td>\n",
       "      <td>...</td>\n",
       "      <td>6.625000</td>\n",
       "      <td>5.541667</td>\n",
       "      <td>9.208333</td>\n",
       "      <td>25.166667</td>\n",
       "      <td>25.000000</td>\n",
       "      <td>25.125000</td>\n",
       "      <td>37.458333</td>\n",
       "      <td>33.708333</td>\n",
       "      <td>41.333333</td>\n",
       "      <td>4.583333</td>\n",
       "    </tr>\n",
       "    <tr>\n",
       "      <th>std</th>\n",
       "      <td>0.974308</td>\n",
       "      <td>0.508977</td>\n",
       "      <td>0.508977</td>\n",
       "      <td>0.0</td>\n",
       "      <td>5.427887</td>\n",
       "      <td>3.399702</td>\n",
       "      <td>2.918891</td>\n",
       "      <td>2.632021</td>\n",
       "      <td>2.119612</td>\n",
       "      <td>2.258639</td>\n",
       "      <td>...</td>\n",
       "      <td>2.533472</td>\n",
       "      <td>2.395270</td>\n",
       "      <td>3.833255</td>\n",
       "      <td>5.654292</td>\n",
       "      <td>8.968544</td>\n",
       "      <td>9.728097</td>\n",
       "      <td>11.754663</td>\n",
       "      <td>14.131307</td>\n",
       "      <td>14.187155</td>\n",
       "      <td>3.295803</td>\n",
       "    </tr>\n",
       "    <tr>\n",
       "      <th>min</th>\n",
       "      <td>46.000000</td>\n",
       "      <td>23.000000</td>\n",
       "      <td>23.000000</td>\n",
       "      <td>0.0</td>\n",
       "      <td>11.000000</td>\n",
       "      <td>5.000000</td>\n",
       "      <td>4.000000</td>\n",
       "      <td>6.000000</td>\n",
       "      <td>2.000000</td>\n",
       "      <td>2.000000</td>\n",
       "      <td>...</td>\n",
       "      <td>3.000000</td>\n",
       "      <td>1.000000</td>\n",
       "      <td>4.000000</td>\n",
       "      <td>13.000000</td>\n",
       "      <td>9.000000</td>\n",
       "      <td>9.000000</td>\n",
       "      <td>15.000000</td>\n",
       "      <td>8.000000</td>\n",
       "      <td>17.000000</td>\n",
       "      <td>0.000000</td>\n",
       "    </tr>\n",
       "    <tr>\n",
       "      <th>25%</th>\n",
       "      <td>46.000000</td>\n",
       "      <td>23.000000</td>\n",
       "      <td>23.000000</td>\n",
       "      <td>0.0</td>\n",
       "      <td>12.750000</td>\n",
       "      <td>7.000000</td>\n",
       "      <td>6.000000</td>\n",
       "      <td>10.000000</td>\n",
       "      <td>4.000000</td>\n",
       "      <td>4.000000</td>\n",
       "      <td>...</td>\n",
       "      <td>4.750000</td>\n",
       "      <td>4.000000</td>\n",
       "      <td>6.000000</td>\n",
       "      <td>22.000000</td>\n",
       "      <td>17.000000</td>\n",
       "      <td>17.000000</td>\n",
       "      <td>30.000000</td>\n",
       "      <td>26.000000</td>\n",
       "      <td>30.000000</td>\n",
       "      <td>2.000000</td>\n",
       "    </tr>\n",
       "    <tr>\n",
       "      <th>50%</th>\n",
       "      <td>46.000000</td>\n",
       "      <td>23.000000</td>\n",
       "      <td>23.000000</td>\n",
       "      <td>0.0</td>\n",
       "      <td>16.000000</td>\n",
       "      <td>8.500000</td>\n",
       "      <td>7.500000</td>\n",
       "      <td>11.000000</td>\n",
       "      <td>6.000000</td>\n",
       "      <td>6.000000</td>\n",
       "      <td>...</td>\n",
       "      <td>6.500000</td>\n",
       "      <td>5.000000</td>\n",
       "      <td>9.000000</td>\n",
       "      <td>24.000000</td>\n",
       "      <td>25.500000</td>\n",
       "      <td>25.500000</td>\n",
       "      <td>39.000000</td>\n",
       "      <td>32.500000</td>\n",
       "      <td>38.500000</td>\n",
       "      <td>4.000000</td>\n",
       "    </tr>\n",
       "    <tr>\n",
       "      <th>75%</th>\n",
       "      <td>46.000000</td>\n",
       "      <td>23.000000</td>\n",
       "      <td>23.000000</td>\n",
       "      <td>0.0</td>\n",
       "      <td>20.000000</td>\n",
       "      <td>12.000000</td>\n",
       "      <td>9.250000</td>\n",
       "      <td>13.000000</td>\n",
       "      <td>7.000000</td>\n",
       "      <td>8.000000</td>\n",
       "      <td>...</td>\n",
       "      <td>8.250000</td>\n",
       "      <td>7.250000</td>\n",
       "      <td>11.000000</td>\n",
       "      <td>28.000000</td>\n",
       "      <td>30.000000</td>\n",
       "      <td>33.500000</td>\n",
       "      <td>46.000000</td>\n",
       "      <td>40.000000</td>\n",
       "      <td>52.000000</td>\n",
       "      <td>6.250000</td>\n",
       "    </tr>\n",
       "    <tr>\n",
       "      <th>max</th>\n",
       "      <td>49.000000</td>\n",
       "      <td>25.000000</td>\n",
       "      <td>25.000000</td>\n",
       "      <td>0.0</td>\n",
       "      <td>29.000000</td>\n",
       "      <td>19.000000</td>\n",
       "      <td>15.000000</td>\n",
       "      <td>17.000000</td>\n",
       "      <td>10.000000</td>\n",
       "      <td>10.000000</td>\n",
       "      <td>...</td>\n",
       "      <td>12.000000</td>\n",
       "      <td>10.000000</td>\n",
       "      <td>17.000000</td>\n",
       "      <td>37.000000</td>\n",
       "      <td>43.000000</td>\n",
       "      <td>43.000000</td>\n",
       "      <td>57.000000</td>\n",
       "      <td>61.000000</td>\n",
       "      <td>70.000000</td>\n",
       "      <td>13.000000</td>\n",
       "    </tr>\n",
       "  </tbody>\n",
       "</table>\n",
       "<p>8 rows × 289 columns</p>\n",
       "</div>"
      ],
      "text/plain": [
       "       matches_played  matches_played_home  matches_played_away  \\\n",
       "count       24.000000            24.000000            24.000000   \n",
       "mean        46.416667            23.208333            23.208333   \n",
       "std          0.974308             0.508977             0.508977   \n",
       "min         46.000000            23.000000            23.000000   \n",
       "25%         46.000000            23.000000            23.000000   \n",
       "50%         46.000000            23.000000            23.000000   \n",
       "75%         46.000000            23.000000            23.000000   \n",
       "max         49.000000            25.000000            25.000000   \n",
       "\n",
       "       suspended_matches       wins  wins_home  wins_away      draws  \\\n",
       "count               24.0  24.000000  24.000000  24.000000  24.000000   \n",
       "mean                 0.0  17.375000   9.583333   7.791667  11.666667   \n",
       "std                  0.0   5.427887   3.399702   2.918891   2.632021   \n",
       "min                  0.0  11.000000   5.000000   4.000000   6.000000   \n",
       "25%                  0.0  12.750000   7.000000   6.000000  10.000000   \n",
       "50%                  0.0  16.000000   8.500000   7.500000  11.000000   \n",
       "75%                  0.0  20.000000  12.000000   9.250000  13.000000   \n",
       "max                  0.0  29.000000  19.000000  15.000000  17.000000   \n",
       "\n",
       "       draws_home  draws_away  ...  goals_conceded_min_61_to_70  \\\n",
       "count   24.000000   24.000000  ...                    24.000000   \n",
       "mean     5.833333    5.833333  ...                     6.625000   \n",
       "std      2.119612    2.258639  ...                     2.533472   \n",
       "min      2.000000    2.000000  ...                     3.000000   \n",
       "25%      4.000000    4.000000  ...                     4.750000   \n",
       "50%      6.000000    6.000000  ...                     6.500000   \n",
       "75%      7.000000    8.000000  ...                     8.250000   \n",
       "max     10.000000   10.000000  ...                    12.000000   \n",
       "\n",
       "       goals_conceded_min_71_to_80  goals_conceded_min_81_to_90  \\\n",
       "count                    24.000000                    24.000000   \n",
       "mean                      5.541667                     9.208333   \n",
       "std                       2.395270                     3.833255   \n",
       "min                       1.000000                     4.000000   \n",
       "25%                       4.000000                     6.000000   \n",
       "50%                       5.000000                     9.000000   \n",
       "75%                       7.250000                    11.000000   \n",
       "max                      10.000000                    17.000000   \n",
       "\n",
       "       draw_percentage_overall  draw_percentage_home  draw_percentage_away  \\\n",
       "count                24.000000             24.000000             24.000000   \n",
       "mean                 25.166667             25.000000             25.125000   \n",
       "std                   5.654292              8.968544              9.728097   \n",
       "min                  13.000000              9.000000              9.000000   \n",
       "25%                  22.000000             17.000000             17.000000   \n",
       "50%                  24.000000             25.500000             25.500000   \n",
       "75%                  28.000000             30.000000             33.500000   \n",
       "max                  37.000000             43.000000             43.000000   \n",
       "\n",
       "       loss_percentage_ovearll  loss_percentage_home  loss_percentage_away  \\\n",
       "count                24.000000             24.000000             24.000000   \n",
       "mean                 37.458333             33.708333             41.333333   \n",
       "std                  11.754663             14.131307             14.187155   \n",
       "min                  15.000000              8.000000             17.000000   \n",
       "25%                  30.000000             26.000000             30.000000   \n",
       "50%                  39.000000             32.500000             38.500000   \n",
       "75%                  46.000000             40.000000             52.000000   \n",
       "max                  57.000000             61.000000             70.000000   \n",
       "\n",
       "       over145_corners_percentage  \n",
       "count                   24.000000  \n",
       "mean                     4.583333  \n",
       "std                      3.295803  \n",
       "min                      0.000000  \n",
       "25%                      2.000000  \n",
       "50%                      4.000000  \n",
       "75%                      6.250000  \n",
       "max                     13.000000  \n",
       "\n",
       "[8 rows x 289 columns]"
      ]
     },
     "execution_count": 3,
     "metadata": {},
     "output_type": "execute_result"
    }
   ],
   "source": [
    "team_stats.describe()"
   ]
  },
  {
   "cell_type": "code",
   "execution_count": 4,
   "metadata": {},
   "outputs": [
    {
     "data": {
      "text/plain": [
       "Index(['timestamp', 'date_GMT', 'status', 'attendance', 'home_team_name',\n",
       "       'away_team_name', 'referee', 'Game Week', 'Pre-Match PPG (Home)',\n",
       "       'Pre-Match PPG (Away)', 'home_ppg', 'away_ppg', 'home_team_goal_count',\n",
       "       'away_team_goal_count', 'total_goal_count', 'total_goals_at_half_time',\n",
       "       'home_team_goal_count_half_time', 'away_team_goal_count_half_time',\n",
       "       'home_team_goal_timings', 'away_team_goal_timings',\n",
       "       'home_team_corner_count', 'away_team_corner_count',\n",
       "       'home_team_yellow_cards', 'home_team_red_cards',\n",
       "       'away_team_yellow_cards', 'away_team_red_cards',\n",
       "       'home_team_first_half_cards', 'home_team_second_half_cards',\n",
       "       'away_team_first_half_cards', 'away_team_second_half_cards',\n",
       "       'home_team_shots', 'away_team_shots', 'home_team_shots_on_target',\n",
       "       'away_team_shots_on_target', 'home_team_shots_off_target',\n",
       "       'away_team_shots_off_target', 'home_team_fouls', 'away_team_fouls',\n",
       "       'home_team_possession', 'away_team_possession', 'team_a_xg',\n",
       "       'team_b_xg', 'average_goals_per_match_pre_match',\n",
       "       'btts_percentage_pre_match', 'over_15_percentage_pre_match',\n",
       "       'over_25_percentage_pre_match', 'over_35_percentage_pre_match',\n",
       "       'over_45_percentage_pre_match', 'over_15_HT_FHG_percentage_pre_match',\n",
       "       'over_05_HT_FHG_percentage_pre_match',\n",
       "       'over_15_2HG_percentage_pre_match', 'over_05_2HG_percentage_pre_match',\n",
       "       'average_corners_per_match_pre_match',\n",
       "       'average_cards_per_match_pre_match', 'odds_ft_home_team_win',\n",
       "       'odds_ft_draw', 'odds_ft_away_team_win', 'odds_ft_over15',\n",
       "       'odds_ft_over25', 'odds_ft_over35', 'odds_ft_over45', 'odds_btts_yes',\n",
       "       'odds_btts_no', 'stadium_name'],\n",
       "      dtype='object')"
      ]
     },
     "execution_count": 4,
     "metadata": {},
     "output_type": "execute_result"
    }
   ],
   "source": [
    "games.columns"
   ]
  },
  {
   "cell_type": "code",
   "execution_count": 5,
   "metadata": {},
   "outputs": [
    {
     "data": {
      "text/plain": [
       "dtype('O')"
      ]
     },
     "execution_count": 5,
     "metadata": {},
     "output_type": "execute_result"
    }
   ],
   "source": [
    "games['home_team_goal_timings'].dtype"
   ]
  },
  {
   "cell_type": "markdown",
   "metadata": {},
   "source": [
    "# Goal Analysis"
   ]
  },
  {
   "cell_type": "code",
   "execution_count": 6,
   "metadata": {},
   "outputs": [],
   "source": [
    "season_goal_total = games['total_goal_count'].sum()\n",
    "season_1h_goal_total = games['total_goals_at_half_time'].sum()\n",
    "percent_goals_1h = ((season_1h_goal_total)/(season_goal_total)) * 100"
   ]
  },
  {
   "cell_type": "code",
   "execution_count": 7,
   "metadata": {},
   "outputs": [
    {
     "name": "stdout",
     "output_type": "stream",
     "text": [
      "There were 1284 goals scored this season\n"
     ]
    }
   ],
   "source": [
    "print(f'There were {season_goal_total} goals scored this season')"
   ]
  },
  {
   "cell_type": "code",
   "execution_count": 8,
   "metadata": {},
   "outputs": [
    {
     "name": "stdout",
     "output_type": "stream",
     "text": [
      "There were 575 goals scored in the 1H this season, \n"
     ]
    }
   ],
   "source": [
    "print(f'There were {season_1h_goal_total} goals scored in the 1H this season, ')"
   ]
  },
  {
   "cell_type": "code",
   "execution_count": 9,
   "metadata": {},
   "outputs": [
    {
     "data": {
      "text/plain": [
       "0.44781931464174457"
      ]
     },
     "execution_count": 9,
     "metadata": {},
     "output_type": "execute_result"
    }
   ],
   "source": [
    "season_1h_goal_total/season_goal_total\n",
    "#% of first half goals"
   ]
  },
  {
   "cell_type": "markdown",
   "metadata": {},
   "source": [
    "# When were these goals scored?"
   ]
  },
  {
   "cell_type": "code",
   "execution_count": 10,
   "metadata": {},
   "outputs": [],
   "source": [
    "goal_timings = goal_timings.rename(columns={'home_team_goal_timings':'Goal_1', 'Unnamed: 1': 'Goal_2', 'Unnamed: 2': 'Goal_3', \n",
    "                             'Unnamed: 3': 'Goal_4', 'Unnamed: 4': 'Goal_5',\n",
    "                             'Unnamed: 5': 'Goal_6', 'Unnamed: 6': 'Goal_7', 'away_team_goal_timings':'A_Goal_1', 'Unnamed: 8': 'A_Goal_2', 'Unnamed: 9': 'A_Goal_3', \n",
    "                             'Unnamed: 10': 'A_Goal_4', 'Unnamed: 11': 'A_Goal_5'})"
   ]
  },
  {
   "cell_type": "code",
   "execution_count": 11,
   "metadata": {},
   "outputs": [
    {
     "data": {
      "text/plain": [
       "557"
      ]
     },
     "execution_count": 11,
     "metadata": {},
     "output_type": "execute_result"
    }
   ],
   "source": [
    "len(goal_timings['Goal_1'])"
   ]
  },
  {
   "cell_type": "code",
   "execution_count": 12,
   "metadata": {},
   "outputs": [],
   "source": [
    "# df = goal_timings['Goal_1'].append(goal_timings['Goal_2'])"
   ]
  },
  {
   "cell_type": "code",
   "execution_count": null,
   "metadata": {},
   "outputs": [],
   "source": []
  },
  {
   "cell_type": "code",
   "execution_count": null,
   "metadata": {},
   "outputs": [],
   "source": []
  },
  {
   "cell_type": "code",
   "execution_count": null,
   "metadata": {},
   "outputs": [],
   "source": []
  },
  {
   "cell_type": "markdown",
   "metadata": {},
   "source": [
    "# In how many games did a team have more xG but lose?"
   ]
  },
  {
   "cell_type": "code",
   "execution_count": null,
   "metadata": {},
   "outputs": [],
   "source": []
  },
  {
   "cell_type": "code",
   "execution_count": null,
   "metadata": {},
   "outputs": [],
   "source": []
  },
  {
   "cell_type": "code",
   "execution_count": null,
   "metadata": {},
   "outputs": [],
   "source": []
  }
 ],
 "metadata": {
  "kernelspec": {
   "display_name": "Python 3",
   "language": "python",
   "name": "python3"
  },
  "language_info": {
   "codemirror_mode": {
    "name": "ipython",
    "version": 3
   },
   "file_extension": ".py",
   "mimetype": "text/x-python",
   "name": "python",
   "nbconvert_exporter": "python",
   "pygments_lexer": "ipython3",
   "version": "3.8.3"
  }
 },
 "nbformat": 4,
 "nbformat_minor": 4
}
