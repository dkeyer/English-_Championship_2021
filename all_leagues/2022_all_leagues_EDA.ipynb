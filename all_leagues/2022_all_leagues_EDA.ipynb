{
 "cells": [
  {
   "cell_type": "markdown",
   "metadata": {},
   "source": [
    "# 2022 Championship EDA"
   ]
  },
  {
   "cell_type": "code",
   "execution_count": 1,
   "metadata": {},
   "outputs": [],
   "source": [
    "import pandas as pd\n",
    "import numpy as np\n",
    "import seaborn as sns\n",
    "import matplotlib.pyplot as plt"
   ]
  },
  {
   "cell_type": "code",
   "execution_count": 2,
   "metadata": {},
   "outputs": [],
   "source": [
    "prem_team_stats = pd.read_csv('../../footy_data/england-premier-league-teams-2021-to-2022-stats.csv')\n",
    "prem_games = pd.read_csv('../../footy_data/england-premier-league-matches-2021-to-2022-stats.csv')\n",
    "champ_team_stats = pd.read_csv('../../footy_data/england-championship-teams-2021-to-2022-stats.csv')\n",
    "champ_games = pd.read_csv('../../footy_data/england-championship-matches-2021-to-2022-stats.csv')\n",
    "league_one_team_stats = pd.read_csv('../../footy_data/england-efl-league-one-teams-2021-to-2022-stats.csv')\n",
    "league_one_games = pd.read_csv('../../footy_data/england-efl-league-one-matches-2021-to-2022-stats.csv')\n",
    "league_two_team_stats = pd.read_csv('../../footy_data/england-efl-league-two-teams-2021-to-2022-stats.csv')\n",
    "league_two_games = pd.read_csv('../../footy_data/england-efl-league-two-matches-2021-to-2022-stats.csv')\n",
    "segunda_team_stats = pd.read_csv('../../footy_data/spain-segunda-division-teams-2021-to-2022-stats.csv')\n",
    "segunda_games = pd.read_csv('../../footy_data/spain-segunda-division-matches-2021-to-2022-stats.csv')\n",
    "laliga_team_stats = pd.read_csv('../../footy_data/spain-la-liga-teams-2021-to-2022-stats.csv')\n",
    "laliga_games = pd.read_csv('../../footy_data/spain-la-liga-matches-2021-to-2022-stats.csv')"
   ]
  },
  {
   "cell_type": "code",
   "execution_count": 3,
   "metadata": {},
   "outputs": [],
   "source": [
    "prem_games = prem_games.loc[prem_games['status'] == 'complete']\n",
    "champ_games = champ_games.loc[champ_games['status'] == 'complete']\n",
    "league_one_games = league_one_games.loc[league_one_games['status'] == 'complete']\n",
    "league_two_games = league_two_games.loc[league_two_games['status'] == 'complete']\n",
    "segunda_games = segunda_games.loc[segunda_games['status'] == 'complete']\n",
    "laliga_games = laliga_games.loc[laliga_games['status'] == 'complete']\n",
    "#Played matches"
   ]
  },
  {
   "cell_type": "code",
   "execution_count": 4,
   "metadata": {},
   "outputs": [],
   "source": [
    "champ_team_stats['real_xg'] = \"\"\n",
    "champ_team_stats['real_xga'] = \"\"\n",
    "league_one_team_stats['real_xg'] = \"\"\n",
    "league_one_team_stats['real_xga'] = \"\"\n",
    "league_two_team_stats['real_xg'] = \"\"\n",
    "league_two_team_stats['real_xga'] = \"\"\n",
    "segunda_team_stats['real_xg'] = \"\"\n",
    "segunda_team_stats['real_xga'] = \"\"\n",
    "prem_team_stats['real_xg'] = \"\"\n",
    "prem_team_stats['real_xga'] = \"\"\n",
    "laliga_team_stats['real_xg'] = \"\"\n",
    "laliga_team_stats['real_xga'] = \"\"\n",
    "#Setting up to fix xg and xga"
   ]
  },
  {
   "cell_type": "markdown",
   "metadata": {},
   "source": [
    "The average xG stats for each team in Footystats' spreadsheet is incorrect, so I'll write a function to fill it myself "
   ]
  },
  {
   "cell_type": "code",
   "execution_count": 5,
   "metadata": {},
   "outputs": [],
   "source": [
    "def xg_fixer(team_name, team_stats, league_games):\n",
    "    total = league_games.loc[league_games['home_team_name'] == team_name, 'team_a_xg'].sum()\n",
    "    total = total + league_games.loc[league_games['away_team_name'] == team_name, 'team_b_xg'].sum()\n",
    "    total = total / (team_stats.loc[team_stats['common_name'] == team_name, 'matches_played'].iloc[0])\n",
    "    team_stats['real_xg'] = np.where(team_stats['common_name'] == team_name, total, team_stats['real_xg'])"
   ]
  },
  {
   "cell_type": "code",
   "execution_count": 6,
   "metadata": {},
   "outputs": [],
   "source": [
    "def xg_against_fixer(team_name, team_stats, league_games):\n",
    "    total = league_games.loc[league_games['home_team_name'] == team_name, 'team_b_xg'].sum()\n",
    "    #Want team B this time because we want goals against\n",
    "    total = total + league_games.loc[league_games['away_team_name'] == team_name, 'team_a_xg'].sum()\n",
    "    total = total / (team_stats.loc[team_stats['common_name'] == team_name, 'matches_played'].iloc[0])\n",
    "    team_stats['real_xga'] = np.where(team_stats['common_name'] == team_name, total, team_stats['real_xga'])"
   ]
  },
  {
   "cell_type": "markdown",
   "metadata": {},
   "source": [
    "# Fix xG and xGA"
   ]
  },
  {
   "cell_type": "markdown",
   "metadata": {},
   "source": [
    "Leagues with 24 teams"
   ]
  },
  {
   "cell_type": "code",
   "execution_count": 7,
   "metadata": {},
   "outputs": [],
   "source": [
    "for i in range (0,24):\n",
    "    xg_fixer(champ_team_stats['common_name'][i], champ_team_stats, champ_games)\n",
    "    xg_fixer(league_one_team_stats['common_name'][i], league_one_team_stats, league_one_games)\n",
    "    xg_fixer(league_two_team_stats['common_name'][i], league_two_team_stats, league_two_games)\n",
    "    xg_against_fixer(champ_team_stats['common_name'][i], champ_team_stats, champ_games)\n",
    "    xg_against_fixer(league_one_team_stats['common_name'][i], league_one_team_stats, league_one_games)\n",
    "    xg_against_fixer(league_two_team_stats['common_name'][i], league_two_team_stats, league_two_games)"
   ]
  },
  {
   "cell_type": "markdown",
   "metadata": {},
   "source": [
    "Leagues with 22 Teams"
   ]
  },
  {
   "cell_type": "code",
   "execution_count": 8,
   "metadata": {},
   "outputs": [],
   "source": [
    "for i in range (0,22):\n",
    "    xg_fixer(segunda_team_stats['common_name'][i], segunda_team_stats, segunda_games)\n",
    "    xg_against_fixer(segunda_team_stats['common_name'][i], segunda_team_stats, segunda_games)"
   ]
  },
  {
   "cell_type": "markdown",
   "metadata": {},
   "source": [
    "Leagues with 20 Teams"
   ]
  },
  {
   "cell_type": "code",
   "execution_count": 9,
   "metadata": {},
   "outputs": [],
   "source": [
    "for i in range (0,20):\n",
    "    xg_fixer(prem_team_stats['common_name'][i], prem_team_stats, prem_games)\n",
    "    xg_fixer(laliga_team_stats['common_name'][i], laliga_team_stats, laliga_games)\n",
    "    xg_against_fixer(prem_team_stats['common_name'][i], prem_team_stats, prem_games)\n",
    "    xg_against_fixer(laliga_team_stats['common_name'][i], laliga_team_stats, laliga_games)"
   ]
  },
  {
   "cell_type": "markdown",
   "metadata": {},
   "source": [
    "# Fill Stats"
   ]
  },
  {
   "cell_type": "code",
   "execution_count": 10,
   "metadata": {},
   "outputs": [],
   "source": [
    "champ_games['home_xg'] = \"\"\n",
    "champ_games['away_xg'] = \"\"\n",
    "champ_games['home_xg_against'] = \"\"\n",
    "champ_games['away_xg_against'] = \"\"\n",
    "champ_games['home_total_corners'] = \"\"\n",
    "champ_games['away_total_corners'] = \"\"\n",
    "\n",
    "laliga_games['home_xg'] = \"\"\n",
    "laliga_games['away_xg'] = \"\"\n",
    "laliga_games['home_xg_against'] = \"\"\n",
    "laliga_games['away_xg_against'] = \"\"\n",
    "laliga_games['home_total_corners'] = \"\"\n",
    "laliga_games['away_total_corners'] = \"\"\n",
    "\n",
    "segunda_games['home_xg'] = \"\"\n",
    "segunda_games['away_xg'] = \"\"\n",
    "segunda_games['home_xg_against'] = \"\"\n",
    "segunda_games['away_xg_against'] = \"\"\n",
    "segunda_games['home_total_corners'] = \"\"\n",
    "segunda_games['away_total_corners'] = \"\"\n",
    "\n",
    "league_one_games['home_xg'] = \"\"\n",
    "league_one_games['away_xg'] = \"\"\n",
    "league_one_games['home_xg_against'] = \"\"\n",
    "league_one_games['away_xg_against'] = \"\"\n",
    "league_one_games['home_total_corners'] = \"\"\n",
    "league_one_games['away_total_corners'] = \"\"\n",
    "\n",
    "league_two_games['home_xg'] = \"\"\n",
    "league_two_games['away_xg'] = \"\"\n",
    "league_two_games['home_xg_against'] = \"\"\n",
    "league_two_games['away_xg_against'] = \"\"\n",
    "league_two_games['home_total_corners'] = \"\"\n",
    "league_two_games['away_total_corners'] = \"\"\n",
    "\n",
    "prem_games['home_xg'] = \"\"\n",
    "prem_games['away_xg'] = \"\"\n",
    "prem_games['home_xg_against'] = \"\"\n",
    "prem_games['away_xg_against'] = \"\"\n",
    "prem_games['home_total_corners'] = \"\"\n",
    "prem_games['away_total_corners'] = \"\"\n",
    "\n",
    "# Creating new columns where our xg and corner data will go"
   ]
  },
  {
   "cell_type": "code",
   "execution_count": 45,
   "metadata": {},
   "outputs": [],
   "source": [
    "prem_xg_stats = dict(prem_team_stats[['common_name', 'real_xg']].values)\n",
    "prem_corner_stats = dict(prem_team_stats[['common_name', 'corners_per_match']].values)\n",
    "prem_xga_stats = dict(prem_team_stats[['common_name', 'real_xga']].values)\n",
    "champ_xg_stats = dict(champ_team_stats[['common_name', 'real_xg']].values)\n",
    "champ_corner_stats = dict(champ_team_stats[['common_name', 'corners_per_match']].values)\n",
    "champ_xga_stats = dict(champ_team_stats[['common_name', 'real_xga']].values)\n",
    "league_one_xg_stats = dict(league_one_team_stats[['common_name', 'real_xg']].values)\n",
    "league_one_corner_stats = dict(league_one_team_stats[['common_name', 'corners_per_match']].values)\n",
    "league_one_xga_stats = dict(league_one_team_stats[['common_name', 'real_xga']].values)\n",
    "league_two_xg_stats = dict(league_two_team_stats[['common_name', 'real_xg']].values)\n",
    "league_two_corner_stats = dict(league_two_team_stats[['common_name', 'corners_per_match']].values)\n",
    "league_two_xga_stats = dict(league_two_team_stats[['common_name', 'real_xga']].values)\n",
    "laliga_xg_stats = dict(laliga_team_stats[['common_name', 'real_xg']].values)\n",
    "laliga_corner_stats = dict(laliga_team_stats[['common_name', 'real_xg']].values)\n",
    "laliga_xga_stats = dict(laliga_team_stats[['common_name', 'real_xg']].values)\n",
    "segunda_xg_stats = dict(segunda_team_stats[['common_name', 'real_xg']].values)\n",
    "segunda_corner_stats = dict(segunda_team_stats[['common_name', 'corners_per_match']].values)\n",
    "segunda_xga_stats = dict(segunda_team_stats[['common_name', 'real_xga']].values)\n",
    "#creating new variables for the average stats -- eventually will go into the champ_games df\n",
    "#By making this into dictionaries, it will be easier to call them/update them with the function"
   ]
  },
  {
   "cell_type": "code",
   "execution_count": 46,
   "metadata": {},
   "outputs": [],
   "source": [
    "def fill_stats(team, games, xg_stats, xga_stats, corner_stats):\n",
    "    games['home_xg'] = np.where(games['home_team_name'] == team, xg_stats[team], games['home_xg'])\n",
    "    games['away_xg'] = np.where(games['away_team_name'] == team, xg_stats[team], games['away_xg'])\n",
    "    games['home_xg_against'] = np.where(games['home_team_name'] == team, xga_stats[team], games['home_xg_against'])\n",
    "    games['away_xg_against'] = np.where(games['away_team_name'] == team, xga_stats[team], games['away_xg_against'])\n",
    "    games['home_total_corners'] = np.where(games['home_team_name'] == team, corner_stats[team], games['home_total_corners'])\n",
    "    games['away_total_corners'] = np.where(games['away_team_name'] == team, corner_stats[team], games['away_total_corners'])\n",
    "#Function to put team stats into games dataframe"
   ]
  },
  {
   "cell_type": "code",
   "execution_count": null,
   "metadata": {},
   "outputs": [],
   "source": []
  },
  {
   "cell_type": "code",
   "execution_count": 49,
   "metadata": {},
   "outputs": [],
   "source": [
    "for i in range (0,24):\n",
    "    fill_stats(champ_team_stats['common_name'][i], champ_games, champ_xg_stats, champ_xga_stats, champ_corner_stats)"
   ]
  },
  {
   "cell_type": "code",
   "execution_count": 50,
   "metadata": {},
   "outputs": [
    {
     "data": {
      "text/html": [
       "<div>\n",
       "<style scoped>\n",
       "    .dataframe tbody tr th:only-of-type {\n",
       "        vertical-align: middle;\n",
       "    }\n",
       "\n",
       "    .dataframe tbody tr th {\n",
       "        vertical-align: top;\n",
       "    }\n",
       "\n",
       "    .dataframe thead th {\n",
       "        text-align: right;\n",
       "    }\n",
       "</style>\n",
       "<table border=\"1\" class=\"dataframe\">\n",
       "  <thead>\n",
       "    <tr style=\"text-align: right;\">\n",
       "      <th></th>\n",
       "      <th>timestamp</th>\n",
       "      <th>date_GMT</th>\n",
       "      <th>status</th>\n",
       "      <th>attendance</th>\n",
       "      <th>home_team_name</th>\n",
       "      <th>away_team_name</th>\n",
       "      <th>referee</th>\n",
       "      <th>Game Week</th>\n",
       "      <th>Pre-Match PPG (Home)</th>\n",
       "      <th>Pre-Match PPG (Away)</th>\n",
       "      <th>...</th>\n",
       "      <th>odds_ft_over45</th>\n",
       "      <th>odds_btts_yes</th>\n",
       "      <th>odds_btts_no</th>\n",
       "      <th>stadium_name</th>\n",
       "      <th>home_xg</th>\n",
       "      <th>away_xg</th>\n",
       "      <th>home_xg_against</th>\n",
       "      <th>away_xg_against</th>\n",
       "      <th>home_total_corners</th>\n",
       "      <th>away_total_corners</th>\n",
       "    </tr>\n",
       "  </thead>\n",
       "  <tbody>\n",
       "    <tr>\n",
       "      <th>0</th>\n",
       "      <td>1628275500</td>\n",
       "      <td>Aug 06 2021 - 6:45pm</td>\n",
       "      <td>complete</td>\n",
       "      <td>NaN</td>\n",
       "      <td>AFC Bournemouth</td>\n",
       "      <td>West Bromwich Albion</td>\n",
       "      <td>Dean Whitestone</td>\n",
       "      <td>1</td>\n",
       "      <td>0.00</td>\n",
       "      <td>0.00</td>\n",
       "      <td>...</td>\n",
       "      <td>6.00</td>\n",
       "      <td>1.80</td>\n",
       "      <td>2.05</td>\n",
       "      <td>Vitality Stadium (Bournemouth- Dorset)</td>\n",
       "      <td>1.49882</td>\n",
       "      <td>1.83235</td>\n",
       "      <td>1.16176</td>\n",
       "      <td>1.03118</td>\n",
       "      <td>5.65</td>\n",
       "      <td>6.76</td>\n",
       "    </tr>\n",
       "    <tr>\n",
       "      <th>1</th>\n",
       "      <td>1628344800</td>\n",
       "      <td>Aug 07 2021 - 2:00pm</td>\n",
       "      <td>complete</td>\n",
       "      <td>NaN</td>\n",
       "      <td>Blackburn Rovers</td>\n",
       "      <td>Swansea City</td>\n",
       "      <td>David Webb</td>\n",
       "      <td>1</td>\n",
       "      <td>0.00</td>\n",
       "      <td>0.00</td>\n",
       "      <td>...</td>\n",
       "      <td>7.25</td>\n",
       "      <td>1.95</td>\n",
       "      <td>1.87</td>\n",
       "      <td>Ewood Park (Blackburn- Lancashire)</td>\n",
       "      <td>1.32765</td>\n",
       "      <td>1.25412</td>\n",
       "      <td>1.57412</td>\n",
       "      <td>1.34235</td>\n",
       "      <td>3.47</td>\n",
       "      <td>4.88</td>\n",
       "    </tr>\n",
       "    <tr>\n",
       "      <th>2</th>\n",
       "      <td>1628344800</td>\n",
       "      <td>Aug 07 2021 - 2:00pm</td>\n",
       "      <td>complete</td>\n",
       "      <td>NaN</td>\n",
       "      <td>Bristol City</td>\n",
       "      <td>Blackpool</td>\n",
       "      <td>Andy Davies</td>\n",
       "      <td>1</td>\n",
       "      <td>0.00</td>\n",
       "      <td>0.00</td>\n",
       "      <td>...</td>\n",
       "      <td>6.75</td>\n",
       "      <td>1.95</td>\n",
       "      <td>1.91</td>\n",
       "      <td>Ashton Gate (Bristol)</td>\n",
       "      <td>1.25471</td>\n",
       "      <td>1.28118</td>\n",
       "      <td>1.80647</td>\n",
       "      <td>1.52765</td>\n",
       "      <td>3.82</td>\n",
       "      <td>4.35</td>\n",
       "    </tr>\n",
       "    <tr>\n",
       "      <th>3</th>\n",
       "      <td>1628344800</td>\n",
       "      <td>Aug 07 2021 - 2:00pm</td>\n",
       "      <td>complete</td>\n",
       "      <td>NaN</td>\n",
       "      <td>Cardiff City</td>\n",
       "      <td>Barnsley</td>\n",
       "      <td>Steve Martin</td>\n",
       "      <td>1</td>\n",
       "      <td>0.00</td>\n",
       "      <td>0.00</td>\n",
       "      <td>...</td>\n",
       "      <td>7.50</td>\n",
       "      <td>1.95</td>\n",
       "      <td>1.91</td>\n",
       "      <td>Cardiff City Stadium (Cardiff (Caerdydd))</td>\n",
       "      <td>1.46294</td>\n",
       "      <td>1.36529</td>\n",
       "      <td>1.45882</td>\n",
       "      <td>1.61588</td>\n",
       "      <td>4.29</td>\n",
       "      <td>4.53</td>\n",
       "    </tr>\n",
       "    <tr>\n",
       "      <th>4</th>\n",
       "      <td>1628344800</td>\n",
       "      <td>Aug 07 2021 - 2:00pm</td>\n",
       "      <td>complete</td>\n",
       "      <td>NaN</td>\n",
       "      <td>Derby County</td>\n",
       "      <td>Huddersfield Town</td>\n",
       "      <td>Geoff Eltringham</td>\n",
       "      <td>1</td>\n",
       "      <td>0.00</td>\n",
       "      <td>0.00</td>\n",
       "      <td>...</td>\n",
       "      <td>7.00</td>\n",
       "      <td>1.95</td>\n",
       "      <td>1.87</td>\n",
       "      <td>Pride Park Stadium (Derby)</td>\n",
       "      <td>1.26647</td>\n",
       "      <td>1.27647</td>\n",
       "      <td>1.57647</td>\n",
       "      <td>1.44059</td>\n",
       "      <td>4.18</td>\n",
       "      <td>4</td>\n",
       "    </tr>\n",
       "    <tr>\n",
       "      <th>...</th>\n",
       "      <td>...</td>\n",
       "      <td>...</td>\n",
       "      <td>...</td>\n",
       "      <td>...</td>\n",
       "      <td>...</td>\n",
       "      <td>...</td>\n",
       "      <td>...</td>\n",
       "      <td>...</td>\n",
       "      <td>...</td>\n",
       "      <td>...</td>\n",
       "      <td>...</td>\n",
       "      <td>...</td>\n",
       "      <td>...</td>\n",
       "      <td>...</td>\n",
       "      <td>...</td>\n",
       "      <td>...</td>\n",
       "      <td>...</td>\n",
       "      <td>...</td>\n",
       "      <td>...</td>\n",
       "      <td>...</td>\n",
       "      <td>...</td>\n",
       "    </tr>\n",
       "    <tr>\n",
       "      <th>199</th>\n",
       "      <td>1636210800</td>\n",
       "      <td>Nov 06 2021 - 3:00pm</td>\n",
       "      <td>complete</td>\n",
       "      <td>NaN</td>\n",
       "      <td>Nottingham Forest</td>\n",
       "      <td>Preston North End</td>\n",
       "      <td>Simon Hooper</td>\n",
       "      <td>17</td>\n",
       "      <td>0.63</td>\n",
       "      <td>0.75</td>\n",
       "      <td>...</td>\n",
       "      <td>6.50</td>\n",
       "      <td>1.75</td>\n",
       "      <td>2.05</td>\n",
       "      <td>The City Ground (Nottingham- Nottinghamshire)</td>\n",
       "      <td>1.32647</td>\n",
       "      <td>1.29765</td>\n",
       "      <td>1.38235</td>\n",
       "      <td>1.47</td>\n",
       "      <td>5</td>\n",
       "      <td>4.71</td>\n",
       "    </tr>\n",
       "    <tr>\n",
       "      <th>200</th>\n",
       "      <td>1636210800</td>\n",
       "      <td>Nov 06 2021 - 3:00pm</td>\n",
       "      <td>complete</td>\n",
       "      <td>NaN</td>\n",
       "      <td>Peterborough United</td>\n",
       "      <td>Fulham</td>\n",
       "      <td>Dean Whitestone</td>\n",
       "      <td>17</td>\n",
       "      <td>1.50</td>\n",
       "      <td>2.00</td>\n",
       "      <td>...</td>\n",
       "      <td>6.50</td>\n",
       "      <td>1.85</td>\n",
       "      <td>1.95</td>\n",
       "      <td>Weston Homes Stadium (Peterborough)</td>\n",
       "      <td>1.08824</td>\n",
       "      <td>1.89765</td>\n",
       "      <td>1.70471</td>\n",
       "      <td>1.22882</td>\n",
       "      <td>2.82</td>\n",
       "      <td>5.65</td>\n",
       "    </tr>\n",
       "    <tr>\n",
       "      <th>201</th>\n",
       "      <td>1636210800</td>\n",
       "      <td>Nov 06 2021 - 3:00pm</td>\n",
       "      <td>complete</td>\n",
       "      <td>NaN</td>\n",
       "      <td>West Bromwich Albion</td>\n",
       "      <td>Middlesbrough</td>\n",
       "      <td>Matt Donohue</td>\n",
       "      <td>17</td>\n",
       "      <td>2.50</td>\n",
       "      <td>1.00</td>\n",
       "      <td>...</td>\n",
       "      <td>7.50</td>\n",
       "      <td>1.83</td>\n",
       "      <td>1.83</td>\n",
       "      <td>The Hawthorns (West Bromwich)</td>\n",
       "      <td>1.83235</td>\n",
       "      <td>1.56471</td>\n",
       "      <td>1.03118</td>\n",
       "      <td>1.29</td>\n",
       "      <td>6.76</td>\n",
       "      <td>5.35</td>\n",
       "    </tr>\n",
       "    <tr>\n",
       "      <th>202</th>\n",
       "      <td>1636212600</td>\n",
       "      <td>Nov 06 2021 - 3:30pm</td>\n",
       "      <td>complete</td>\n",
       "      <td>NaN</td>\n",
       "      <td>Birmingham City</td>\n",
       "      <td>Reading</td>\n",
       "      <td>Thomas Bramall</td>\n",
       "      <td>17</td>\n",
       "      <td>1.38</td>\n",
       "      <td>0.75</td>\n",
       "      <td>...</td>\n",
       "      <td>8.50</td>\n",
       "      <td>1.98</td>\n",
       "      <td>1.80</td>\n",
       "      <td>St Andrew's Stadium (Birmingham)</td>\n",
       "      <td>1.47353</td>\n",
       "      <td>1.30412</td>\n",
       "      <td>1.27529</td>\n",
       "      <td>1.86</td>\n",
       "      <td>4.18</td>\n",
       "      <td>3</td>\n",
       "    </tr>\n",
       "    <tr>\n",
       "      <th>203</th>\n",
       "      <td>1636219800</td>\n",
       "      <td>Nov 06 2021 - 5:30pm</td>\n",
       "      <td>complete</td>\n",
       "      <td>NaN</td>\n",
       "      <td>Blackpool</td>\n",
       "      <td>Queens Park Rangers</td>\n",
       "      <td>Joshua Smith</td>\n",
       "      <td>17</td>\n",
       "      <td>1.50</td>\n",
       "      <td>1.25</td>\n",
       "      <td>...</td>\n",
       "      <td>6.50</td>\n",
       "      <td>1.67</td>\n",
       "      <td>2.10</td>\n",
       "      <td>Bloomfield Road (Blackpool- Lancashire)</td>\n",
       "      <td>1.28118</td>\n",
       "      <td>1.59588</td>\n",
       "      <td>1.52765</td>\n",
       "      <td>1.47706</td>\n",
       "      <td>4.35</td>\n",
       "      <td>4.47</td>\n",
       "    </tr>\n",
       "  </tbody>\n",
       "</table>\n",
       "<p>204 rows × 70 columns</p>\n",
       "</div>"
      ],
      "text/plain": [
       "      timestamp              date_GMT    status  attendance  \\\n",
       "0    1628275500  Aug 06 2021 - 6:45pm  complete         NaN   \n",
       "1    1628344800  Aug 07 2021 - 2:00pm  complete         NaN   \n",
       "2    1628344800  Aug 07 2021 - 2:00pm  complete         NaN   \n",
       "3    1628344800  Aug 07 2021 - 2:00pm  complete         NaN   \n",
       "4    1628344800  Aug 07 2021 - 2:00pm  complete         NaN   \n",
       "..          ...                   ...       ...         ...   \n",
       "199  1636210800  Nov 06 2021 - 3:00pm  complete         NaN   \n",
       "200  1636210800  Nov 06 2021 - 3:00pm  complete         NaN   \n",
       "201  1636210800  Nov 06 2021 - 3:00pm  complete         NaN   \n",
       "202  1636212600  Nov 06 2021 - 3:30pm  complete         NaN   \n",
       "203  1636219800  Nov 06 2021 - 5:30pm  complete         NaN   \n",
       "\n",
       "           home_team_name        away_team_name           referee  Game Week  \\\n",
       "0         AFC Bournemouth  West Bromwich Albion   Dean Whitestone          1   \n",
       "1        Blackburn Rovers          Swansea City        David Webb          1   \n",
       "2            Bristol City             Blackpool       Andy Davies          1   \n",
       "3            Cardiff City              Barnsley      Steve Martin          1   \n",
       "4            Derby County     Huddersfield Town  Geoff Eltringham          1   \n",
       "..                    ...                   ...               ...        ...   \n",
       "199     Nottingham Forest     Preston North End      Simon Hooper         17   \n",
       "200   Peterborough United                Fulham   Dean Whitestone         17   \n",
       "201  West Bromwich Albion         Middlesbrough      Matt Donohue         17   \n",
       "202       Birmingham City               Reading    Thomas Bramall         17   \n",
       "203             Blackpool   Queens Park Rangers      Joshua Smith         17   \n",
       "\n",
       "     Pre-Match PPG (Home)  Pre-Match PPG (Away)  ...  odds_ft_over45  \\\n",
       "0                    0.00                  0.00  ...            6.00   \n",
       "1                    0.00                  0.00  ...            7.25   \n",
       "2                    0.00                  0.00  ...            6.75   \n",
       "3                    0.00                  0.00  ...            7.50   \n",
       "4                    0.00                  0.00  ...            7.00   \n",
       "..                    ...                   ...  ...             ...   \n",
       "199                  0.63                  0.75  ...            6.50   \n",
       "200                  1.50                  2.00  ...            6.50   \n",
       "201                  2.50                  1.00  ...            7.50   \n",
       "202                  1.38                  0.75  ...            8.50   \n",
       "203                  1.50                  1.25  ...            6.50   \n",
       "\n",
       "     odds_btts_yes  odds_btts_no  \\\n",
       "0             1.80          2.05   \n",
       "1             1.95          1.87   \n",
       "2             1.95          1.91   \n",
       "3             1.95          1.91   \n",
       "4             1.95          1.87   \n",
       "..             ...           ...   \n",
       "199           1.75          2.05   \n",
       "200           1.85          1.95   \n",
       "201           1.83          1.83   \n",
       "202           1.98          1.80   \n",
       "203           1.67          2.10   \n",
       "\n",
       "                                      stadium_name  home_xg  away_xg  \\\n",
       "0           Vitality Stadium (Bournemouth- Dorset)  1.49882  1.83235   \n",
       "1               Ewood Park (Blackburn- Lancashire)  1.32765  1.25412   \n",
       "2                            Ashton Gate (Bristol)  1.25471  1.28118   \n",
       "3        Cardiff City Stadium (Cardiff (Caerdydd))  1.46294  1.36529   \n",
       "4                       Pride Park Stadium (Derby)  1.26647  1.27647   \n",
       "..                                             ...      ...      ...   \n",
       "199  The City Ground (Nottingham- Nottinghamshire)  1.32647  1.29765   \n",
       "200            Weston Homes Stadium (Peterborough)  1.08824  1.89765   \n",
       "201                  The Hawthorns (West Bromwich)  1.83235  1.56471   \n",
       "202               St Andrew's Stadium (Birmingham)  1.47353  1.30412   \n",
       "203        Bloomfield Road (Blackpool- Lancashire)  1.28118  1.59588   \n",
       "\n",
       "     home_xg_against  away_xg_against home_total_corners away_total_corners  \n",
       "0            1.16176          1.03118               5.65               6.76  \n",
       "1            1.57412          1.34235               3.47               4.88  \n",
       "2            1.80647          1.52765               3.82               4.35  \n",
       "3            1.45882          1.61588               4.29               4.53  \n",
       "4            1.57647          1.44059               4.18                  4  \n",
       "..               ...              ...                ...                ...  \n",
       "199          1.38235             1.47                  5               4.71  \n",
       "200          1.70471          1.22882               2.82               5.65  \n",
       "201          1.03118             1.29               6.76               5.35  \n",
       "202          1.27529             1.86               4.18                  3  \n",
       "203          1.52765          1.47706               4.35               4.47  \n",
       "\n",
       "[204 rows x 70 columns]"
      ]
     },
     "execution_count": 50,
     "metadata": {},
     "output_type": "execute_result"
    }
   ],
   "source": [
    "champ_games"
   ]
  },
  {
   "cell_type": "markdown",
   "metadata": {},
   "source": [
    "24 Team Leagues"
   ]
  },
  {
   "cell_type": "code",
   "execution_count": 14,
   "metadata": {},
   "outputs": [
    {
     "ename": "KeyError",
     "evalue": "'Stoke City'",
     "output_type": "error",
     "traceback": [
      "\u001b[1;31m---------------------------------------------------------------------------\u001b[0m",
      "\u001b[1;31mKeyError\u001b[0m                                  Traceback (most recent call last)",
      "\u001b[1;32m<ipython-input-14-7fe64739af28>\u001b[0m in \u001b[0;36m<module>\u001b[1;34m\u001b[0m\n\u001b[0;32m      1\u001b[0m \u001b[1;32mfor\u001b[0m \u001b[0mi\u001b[0m \u001b[1;32min\u001b[0m \u001b[0mrange\u001b[0m \u001b[1;33m(\u001b[0m\u001b[1;36m0\u001b[0m\u001b[1;33m,\u001b[0m\u001b[1;36m24\u001b[0m\u001b[1;33m)\u001b[0m\u001b[1;33m:\u001b[0m\u001b[1;33m\u001b[0m\u001b[1;33m\u001b[0m\u001b[0m\n\u001b[1;32m----> 2\u001b[1;33m     \u001b[0mfill_stats\u001b[0m\u001b[1;33m(\u001b[0m\u001b[0mchamp_team_stats\u001b[0m\u001b[1;33m[\u001b[0m\u001b[1;34m'common_name'\u001b[0m\u001b[1;33m]\u001b[0m\u001b[1;33m[\u001b[0m\u001b[0mi\u001b[0m\u001b[1;33m]\u001b[0m\u001b[1;33m,\u001b[0m \u001b[0mchamp_games\u001b[0m\u001b[1;33m,\u001b[0m \u001b[0mchamp_xg_stats\u001b[0m\u001b[1;33m,\u001b[0m \u001b[0mchamp_xga_stats\u001b[0m\u001b[1;33m,\u001b[0m \u001b[0mchamp_corner_stats\u001b[0m\u001b[1;33m)\u001b[0m\u001b[1;33m\u001b[0m\u001b[1;33m\u001b[0m\u001b[0m\n\u001b[0m",
      "\u001b[1;32m<ipython-input-12-be2f663b6b2f>\u001b[0m in \u001b[0;36mfill_stats\u001b[1;34m(team, games, xg_stats, xga_stats, corner_stats)\u001b[0m\n\u001b[0;32m      1\u001b[0m \u001b[1;32mdef\u001b[0m \u001b[0mfill_stats\u001b[0m\u001b[1;33m(\u001b[0m\u001b[0mteam\u001b[0m\u001b[1;33m,\u001b[0m \u001b[0mgames\u001b[0m\u001b[1;33m,\u001b[0m \u001b[0mxg_stats\u001b[0m\u001b[1;33m,\u001b[0m \u001b[0mxga_stats\u001b[0m\u001b[1;33m,\u001b[0m \u001b[0mcorner_stats\u001b[0m\u001b[1;33m)\u001b[0m\u001b[1;33m:\u001b[0m\u001b[1;33m\u001b[0m\u001b[1;33m\u001b[0m\u001b[0m\n\u001b[1;32m----> 2\u001b[1;33m     \u001b[0mgames\u001b[0m\u001b[1;33m[\u001b[0m\u001b[1;34m'home_xg'\u001b[0m\u001b[1;33m]\u001b[0m \u001b[1;33m=\u001b[0m \u001b[0mnp\u001b[0m\u001b[1;33m.\u001b[0m\u001b[0mwhere\u001b[0m\u001b[1;33m(\u001b[0m\u001b[0mgames\u001b[0m\u001b[1;33m[\u001b[0m\u001b[1;34m'home_team_name'\u001b[0m\u001b[1;33m]\u001b[0m \u001b[1;33m==\u001b[0m \u001b[0mteam\u001b[0m\u001b[1;33m,\u001b[0m \u001b[0mxg_stats\u001b[0m\u001b[1;33m[\u001b[0m\u001b[0mteam\u001b[0m\u001b[1;33m]\u001b[0m\u001b[1;33m,\u001b[0m \u001b[0mgames\u001b[0m\u001b[1;33m[\u001b[0m\u001b[1;34m'home_xg'\u001b[0m\u001b[1;33m]\u001b[0m\u001b[1;33m)\u001b[0m\u001b[1;33m\u001b[0m\u001b[1;33m\u001b[0m\u001b[0m\n\u001b[0m\u001b[0;32m      3\u001b[0m     \u001b[0mgames\u001b[0m\u001b[1;33m[\u001b[0m\u001b[1;34m'away_xg'\u001b[0m\u001b[1;33m]\u001b[0m \u001b[1;33m=\u001b[0m \u001b[0mnp\u001b[0m\u001b[1;33m.\u001b[0m\u001b[0mwhere\u001b[0m\u001b[1;33m(\u001b[0m\u001b[0mgames\u001b[0m\u001b[1;33m[\u001b[0m\u001b[1;34m'away_team_name'\u001b[0m\u001b[1;33m]\u001b[0m \u001b[1;33m==\u001b[0m \u001b[0mteam\u001b[0m\u001b[1;33m,\u001b[0m \u001b[0mxg_stats\u001b[0m\u001b[1;33m[\u001b[0m\u001b[0mteam\u001b[0m\u001b[1;33m]\u001b[0m\u001b[1;33m,\u001b[0m \u001b[0mgames\u001b[0m\u001b[1;33m[\u001b[0m\u001b[1;34m'away_xg'\u001b[0m\u001b[1;33m]\u001b[0m\u001b[1;33m)\u001b[0m\u001b[1;33m\u001b[0m\u001b[1;33m\u001b[0m\u001b[0m\n\u001b[0;32m      4\u001b[0m     \u001b[0mgames\u001b[0m\u001b[1;33m[\u001b[0m\u001b[1;34m'home_xg_against'\u001b[0m\u001b[1;33m]\u001b[0m \u001b[1;33m=\u001b[0m \u001b[0mnp\u001b[0m\u001b[1;33m.\u001b[0m\u001b[0mwhere\u001b[0m\u001b[1;33m(\u001b[0m\u001b[0mgames\u001b[0m\u001b[1;33m[\u001b[0m\u001b[1;34m'home_team_name'\u001b[0m\u001b[1;33m]\u001b[0m \u001b[1;33m==\u001b[0m \u001b[0mteam\u001b[0m\u001b[1;33m,\u001b[0m \u001b[0mxga_stats\u001b[0m\u001b[1;33m[\u001b[0m\u001b[0mteam\u001b[0m\u001b[1;33m]\u001b[0m\u001b[1;33m,\u001b[0m \u001b[0mgames\u001b[0m\u001b[1;33m[\u001b[0m\u001b[1;34m'home_xg_against'\u001b[0m\u001b[1;33m]\u001b[0m\u001b[1;33m)\u001b[0m\u001b[1;33m\u001b[0m\u001b[1;33m\u001b[0m\u001b[0m\n\u001b[0;32m      5\u001b[0m     \u001b[0mgames\u001b[0m\u001b[1;33m[\u001b[0m\u001b[1;34m'away_xg_against'\u001b[0m\u001b[1;33m]\u001b[0m \u001b[1;33m=\u001b[0m \u001b[0mnp\u001b[0m\u001b[1;33m.\u001b[0m\u001b[0mwhere\u001b[0m\u001b[1;33m(\u001b[0m\u001b[0mgames\u001b[0m\u001b[1;33m[\u001b[0m\u001b[1;34m'away_team_name'\u001b[0m\u001b[1;33m]\u001b[0m \u001b[1;33m==\u001b[0m \u001b[0mteam\u001b[0m\u001b[1;33m,\u001b[0m \u001b[0mxga_stats\u001b[0m\u001b[1;33m[\u001b[0m\u001b[0mteam\u001b[0m\u001b[1;33m]\u001b[0m\u001b[1;33m,\u001b[0m \u001b[0mgames\u001b[0m\u001b[1;33m[\u001b[0m\u001b[1;34m'away_xg_against'\u001b[0m\u001b[1;33m]\u001b[0m\u001b[1;33m)\u001b[0m\u001b[1;33m\u001b[0m\u001b[1;33m\u001b[0m\u001b[0m\n",
      "\u001b[1;31mKeyError\u001b[0m: 'Stoke City'"
     ]
    }
   ],
   "source": [
    "for i in range (0,24):\n",
    "    fill_stats(champ_team_stats['common_name'][i], champ_games, champ_xg_stats, champ_xga_stats, champ_corner_stats)"
   ]
  },
  {
   "cell_type": "markdown",
   "metadata": {},
   "source": [
    "# English Championship"
   ]
  },
  {
   "cell_type": "code",
   "execution_count": null,
   "metadata": {
    "scrolled": false
   },
   "outputs": [],
   "source": [
    "xg_view = champ_games[['home_team_name', 'away_team_name', 'team_a_xg', 'team_b_xg', 'home_team_goal_count', 'away_team_goal_count']]\n",
    "xg_view[(len(champ_games) - 50):len(champ_games)]\n",
    "#We just want to see the most recent games here"
   ]
  },
  {
   "cell_type": "markdown",
   "metadata": {},
   "source": [
    "# Goal Analysis"
   ]
  },
  {
   "cell_type": "code",
   "execution_count": null,
   "metadata": {},
   "outputs": [],
   "source": [
    "season_goal_total = champ_games['total_goal_count'].sum()\n",
    "season_1h_goal_total = champ_games['total_goals_at_half_time'].sum()\n",
    "percent_goals_1h = ((season_1h_goal_total)/(season_goal_total)) * 100"
   ]
  },
  {
   "cell_type": "code",
   "execution_count": null,
   "metadata": {},
   "outputs": [],
   "source": [
    "print(f'There were {season_goal_total} goals scored this season')"
   ]
  },
  {
   "cell_type": "code",
   "execution_count": null,
   "metadata": {},
   "outputs": [],
   "source": [
    "print(f'There were {season_1h_goal_total} goals scored in the 1H this season, ')"
   ]
  },
  {
   "cell_type": "code",
   "execution_count": null,
   "metadata": {},
   "outputs": [],
   "source": [
    "round(season_1h_goal_total/season_goal_total, 2)\n",
    "#% of first half goals"
   ]
  },
  {
   "cell_type": "code",
   "execution_count": null,
   "metadata": {},
   "outputs": [],
   "source": [
    "champ_games['total_goals_at_half_time'].value_counts()"
   ]
  },
  {
   "cell_type": "code",
   "execution_count": null,
   "metadata": {},
   "outputs": [],
   "source": [
    "champ_games.columns"
   ]
  },
  {
   "cell_type": "markdown",
   "metadata": {},
   "source": [
    "More Columns"
   ]
  },
  {
   "cell_type": "code",
   "execution_count": null,
   "metadata": {},
   "outputs": [],
   "source": []
  },
  {
   "cell_type": "markdown",
   "metadata": {},
   "source": [
    "Let's write a function to help fill xg in our games df"
   ]
  },
  {
   "cell_type": "code",
   "execution_count": null,
   "metadata": {},
   "outputs": [],
   "source": []
  },
  {
   "cell_type": "code",
   "execution_count": null,
   "metadata": {},
   "outputs": [],
   "source": []
  },
  {
   "cell_type": "code",
   "execution_count": null,
   "metadata": {},
   "outputs": [],
   "source": []
  },
  {
   "cell_type": "code",
   "execution_count": null,
   "metadata": {},
   "outputs": [],
   "source": []
  },
  {
   "cell_type": "code",
   "execution_count": null,
   "metadata": {},
   "outputs": [],
   "source": [
    "fill_stats(champ_team_stats['common_name'][0], champ_games)\n",
    "fill_stats(champ_team_stats['common_name'][1], champ_games)\n",
    "fill_stats(champ_team_stats['common_name'][2], champ_games)\n",
    "fill_stats(champ_team_stats['common_name'][4], champ_games)\n",
    "fill_stats(champ_team_stats['common_name'][5], champ_games)\n",
    "fill_stats(champ_team_stats['common_name'][6], champ_games)\n",
    "fill_stats(champ_team_stats['common_name'][7], champ_games)\n",
    "fill_stats(champ_team_stats['common_name'][8], champ_games)\n",
    "fill_stats(champ_team_stats['common_name'][9], champ_games)\n",
    "fill_stats(champ_team_stats['common_name'][10], champ_games)\n",
    "fill_stats(champ_team_stats['common_name'][11], champ_games)\n",
    "fill_stats(champ_team_stats['common_name'][12], champ_games)\n",
    "fill_stats(champ_team_stats['common_name'][13], champ_games)\n",
    "fill_stats(champ_team_stats['common_name'][14], champ_games)\n",
    "fill_stats(champ_team_stats['common_name'][15], champ_games)\n",
    "fill_stats(champ_team_stats['common_name'][16], champ_games)\n",
    "fill_stats(champ_team_stats['common_name'][17], champ_games)\n",
    "fill_stats(champ_team_stats['common_name'][18], champ_games)\n",
    "fill_stats(champ_team_stats['common_name'][19], champ_games)\n",
    "fill_stats(champ_team_stats['common_name'][20], champ_games)\n",
    "fill_stats(champ_team_stats['common_name'][21], champ_games)\n",
    "fill_stats(champ_team_stats['common_name'][22], champ_games)\n",
    "fill_stats(champ_team_stats['common_name'][23], champ_games)"
   ]
  },
  {
   "cell_type": "markdown",
   "metadata": {},
   "source": [
    "# Over/Under 2.5?"
   ]
  },
  {
   "cell_type": "code",
   "execution_count": null,
   "metadata": {},
   "outputs": [],
   "source": [
    "champ_games['over/under'] = np.where(champ_games['home_team_goal_count'] + champ_games['away_team_goal_count'] > 2.5, 1, 0)\n",
    "# Adding column 0 represents under 2.5, 1 represents over 2.5"
   ]
  },
  {
   "cell_type": "code",
   "execution_count": null,
   "metadata": {},
   "outputs": [],
   "source": [
    "champ_games['over/under'].value_counts()"
   ]
  },
  {
   "cell_type": "markdown",
   "metadata": {},
   "source": [
    "# League One"
   ]
  },
  {
   "cell_type": "code",
   "execution_count": null,
   "metadata": {},
   "outputs": [],
   "source": [
    "xg_view = league_one_games[['home_team_name', 'away_team_name', 'team_a_xg', 'team_b_xg', 'home_team_goal_count', 'away_team_goal_count']]\n",
    "xg_view[(len(league_one_games) - 50):len(league_one_games)]"
   ]
  },
  {
   "cell_type": "markdown",
   "metadata": {},
   "source": [
    "# League Two"
   ]
  },
  {
   "cell_type": "code",
   "execution_count": null,
   "metadata": {},
   "outputs": [],
   "source": [
    "xg_view = league_two_games[['home_team_name', 'away_team_name', 'team_a_xg', 'team_b_xg', 'home_team_goal_count', 'away_team_goal_count']]\n",
    "xg_view[(len(league_two_games) - 50):len(league_two_games)]"
   ]
  },
  {
   "cell_type": "markdown",
   "metadata": {},
   "source": [
    "# La Liga"
   ]
  },
  {
   "cell_type": "code",
   "execution_count": null,
   "metadata": {},
   "outputs": [],
   "source": [
    "xg_view = laliga_games[['home_team_name', 'away_team_name', 'team_a_xg', 'team_b_xg', 'home_team_goal_count', 'away_team_goal_count']]\n",
    "xg_view[(len(laliga_games) - 50):len(laliga_games)]"
   ]
  },
  {
   "cell_type": "markdown",
   "metadata": {},
   "source": [
    "# Segunda"
   ]
  },
  {
   "cell_type": "code",
   "execution_count": null,
   "metadata": {},
   "outputs": [],
   "source": [
    "xg_view = segunda_games[['home_team_name', 'away_team_name', 'team_a_xg', 'team_b_xg', 'home_team_goal_count', 'away_team_goal_count']]\n",
    "xg_view[(len(segunda_games) - 50):len(segunda_games)]"
   ]
  },
  {
   "cell_type": "code",
   "execution_count": null,
   "metadata": {},
   "outputs": [],
   "source": []
  },
  {
   "cell_type": "markdown",
   "metadata": {},
   "source": [
    "# For Later"
   ]
  },
  {
   "cell_type": "code",
   "execution_count": null,
   "metadata": {},
   "outputs": [],
   "source": [
    "# league[['goals_min_0_to_10', 'goals_min_11_to_20', 'goals_min_21_to_30',\n",
    "#        'goals_min_31_to_40', 'goals_min_41_to_50', 'goals_min_51_to_60',\n",
    "#        'goals_min_61_to_70', 'goals_min_71_to_80', 'goals_min_81_to_90',\n",
    "#        'goals_min_0_to_15', 'goals_min_16_to_30', 'goals_min_31_to_45',\n",
    "#        'goals_min_46_to_60', 'goals_min_61_to_75', 'goals_min_76_to_90',\n",
    "#        'xg_avg_per_match']]"
   ]
  },
  {
   "cell_type": "code",
   "execution_count": null,
   "metadata": {},
   "outputs": [],
   "source": [
    "#For new xg and xga data\n",
    "\n",
    "#games['avg_home_xg_for_home_team'] = \"\"\n",
    "# games['avg_away_xg_against_home_team'] = \"\"\n",
    "# games['avg_xg_for_home_team'] = \"\"\n",
    "# games['avg_xg_against_home_team'] = \"\"\n",
    "# games['avg_home_xg_for_away_team'] = \"\"\n",
    "# games['avg_away_xg_against_away_team'] = \"\"\n",
    "# games['avg_xg_for_away_team'] = \"\"\n",
    "# games['avg_xg_against_away_team'] = \"\""
   ]
  },
  {
   "cell_type": "code",
   "execution_count": null,
   "metadata": {},
   "outputs": [],
   "source": [
    "usl_matches = pd.read_csv('../../footy_data/usa-usl-championship-matches-2021-to-2021-stats.csv')"
   ]
  },
  {
   "cell_type": "code",
   "execution_count": null,
   "metadata": {},
   "outputs": [],
   "source": [
    "xg_view = usl_matches[['home_team_name', 'away_team_name', 'team_a_xg', 'team_b_xg', 'home_team_goal_count', 'away_team_goal_count']]\n",
    "xg_view[(len(usl_matches) - 50):len(usl_matches)]"
   ]
  },
  {
   "cell_type": "code",
   "execution_count": null,
   "metadata": {},
   "outputs": [],
   "source": [
    "xg_view[xg_view['home_team_name'] == 'Louisville City']"
   ]
  },
  {
   "cell_type": "code",
   "execution_count": null,
   "metadata": {},
   "outputs": [],
   "source": [
    "xg_view[xg_view['away_team_name'] == 'Louisville City']"
   ]
  },
  {
   "cell_type": "code",
   "execution_count": null,
   "metadata": {},
   "outputs": [],
   "source": []
  }
 ],
 "metadata": {
  "kernelspec": {
   "display_name": "Python 3",
   "language": "python",
   "name": "python3"
  },
  "language_info": {
   "codemirror_mode": {
    "name": "ipython",
    "version": 3
   },
   "file_extension": ".py",
   "mimetype": "text/x-python",
   "name": "python",
   "nbconvert_exporter": "python",
   "pygments_lexer": "ipython3",
   "version": "3.8.3"
  }
 },
 "nbformat": 4,
 "nbformat_minor": 4
}
