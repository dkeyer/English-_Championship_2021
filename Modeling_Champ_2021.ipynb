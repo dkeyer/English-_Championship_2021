{
 "cells": [
  {
   "cell_type": "code",
   "execution_count": 2,
   "metadata": {},
   "outputs": [],
   "source": [
    "import pandas as pd\n",
    "import numpy as np\n",
    "import seaborn as sns\n",
    "import matplotlib.pyplot as plt\n",
    "from sklearn.model_selection import train_test_split, cross_val_score, GridSearchCV\n",
    "from sklearn.metrics import accuracy_score\n",
    "from sklearn.preprocessing import StandardScaler, PolynomialFeatures\n",
    "from sklearn.neighbors import KNeighborsClassifier\n",
    "from sklearn.svm import SVR\n",
    "from sklearn.decomposition import PCA\n",
    "from sklearn.linear_model import LogisticRegression\n",
    "from sklearn.tree import DecisionTreeClassifier\n",
    "from sklearn.neighbors import KNeighborsClassifier"
   ]
  },
  {
   "cell_type": "code",
   "execution_count": 3,
   "metadata": {},
   "outputs": [],
   "source": [
    "team_stats = pd.read_csv('../data/FS_champ_team_2021.csv')\n",
    "games = pd.read_csv('../data/FS_champ_games_2021.csv')\n",
    "goal_timings = pd.read_csv('../data/FS_Champ2021_Goal_timings.csv')"
   ]
  },
  {
   "cell_type": "code",
   "execution_count": 4,
   "metadata": {},
   "outputs": [],
   "source": [
    "games['over/under'] = np.where(games['home_team_goal_count'] + games['away_team_goal_count'] > 2.5, 1, 0)\n",
    "# Adding column 0 represents under 2.5, 1 represents over 2.5"
   ]
  },
  {
   "cell_type": "code",
   "execution_count": 5,
   "metadata": {},
   "outputs": [],
   "source": [
    "games = games[0:552]\n",
    "#Dropping playoff matches"
   ]
  },
  {
   "cell_type": "code",
   "execution_count": 6,
   "metadata": {},
   "outputs": [
    {
     "data": {
      "text/plain": [
       "Index(['team_name', 'common_name', 'season', 'country', 'matches_played',\n",
       "       'matches_played_home', 'matches_played_away', 'suspended_matches',\n",
       "       'wins', 'wins_home',\n",
       "       ...\n",
       "       'goals_conceded_min_61_to_70', 'goals_conceded_min_71_to_80',\n",
       "       'goals_conceded_min_81_to_90', 'draw_percentage_overall',\n",
       "       'draw_percentage_home', 'draw_percentage_away',\n",
       "       'loss_percentage_ovearll', 'loss_percentage_home',\n",
       "       'loss_percentage_away', 'over145_corners_percentage'],\n",
       "      dtype='object', length=293)"
      ]
     },
     "execution_count": 6,
     "metadata": {},
     "output_type": "execute_result"
    }
   ],
   "source": [
    "team_stats.columns"
   ]
  },
  {
   "cell_type": "code",
   "execution_count": 7,
   "metadata": {},
   "outputs": [],
   "source": [
    "games['home_xg'] = \"\"\n",
    "games['away_xg'] = \"\"\n",
    "games['home_xg_against'] = \"\"\n",
    "games['away_xg_against'] = \"\"\n",
    "games['home_total_corners'] = \"\"\n",
    "games['away_total_corners'] = \"\"\n",
    "\n",
    "# Creating new columns where our data will go"
   ]
  },
  {
   "cell_type": "markdown",
   "metadata": {},
   "source": [
    "Let's write a function to help fill xg in our games df"
   ]
  },
  {
   "cell_type": "code",
   "execution_count": 8,
   "metadata": {},
   "outputs": [
    {
     "data": {
      "text/html": [
       "<div>\n",
       "<style scoped>\n",
       "    .dataframe tbody tr th:only-of-type {\n",
       "        vertical-align: middle;\n",
       "    }\n",
       "\n",
       "    .dataframe tbody tr th {\n",
       "        vertical-align: top;\n",
       "    }\n",
       "\n",
       "    .dataframe thead th {\n",
       "        text-align: right;\n",
       "    }\n",
       "</style>\n",
       "<table border=\"1\" class=\"dataframe\">\n",
       "  <thead>\n",
       "    <tr style=\"text-align: right;\">\n",
       "      <th></th>\n",
       "      <th>common_name</th>\n",
       "      <th>xg_against_avg_overall</th>\n",
       "    </tr>\n",
       "  </thead>\n",
       "  <tbody>\n",
       "    <tr>\n",
       "      <th>0</th>\n",
       "      <td>Stoke City</td>\n",
       "      <td>1.21</td>\n",
       "    </tr>\n",
       "    <tr>\n",
       "      <th>1</th>\n",
       "      <td>Middlesbrough</td>\n",
       "      <td>1.13</td>\n",
       "    </tr>\n",
       "    <tr>\n",
       "      <th>2</th>\n",
       "      <td>AFC Bournemouth</td>\n",
       "      <td>1.29</td>\n",
       "    </tr>\n",
       "    <tr>\n",
       "      <th>3</th>\n",
       "      <td>Swansea City</td>\n",
       "      <td>1.28</td>\n",
       "    </tr>\n",
       "    <tr>\n",
       "      <th>4</th>\n",
       "      <td>Watford</td>\n",
       "      <td>1.29</td>\n",
       "    </tr>\n",
       "  </tbody>\n",
       "</table>\n",
       "</div>"
      ],
      "text/plain": [
       "       common_name  xg_against_avg_overall\n",
       "0       Stoke City                    1.21\n",
       "1    Middlesbrough                    1.13\n",
       "2  AFC Bournemouth                    1.29\n",
       "3     Swansea City                    1.28\n",
       "4          Watford                    1.29"
      ]
     },
     "execution_count": 8,
     "metadata": {},
     "output_type": "execute_result"
    }
   ],
   "source": [
    "xg_stats = team_stats[['common_name', 'xg_for_avg_overall']]\n",
    "corner_stats = team_stats[['common_name', 'corners_per_match']]\n",
    "xga_stats = team_stats[['common_name', 'xg_against_avg_overall']]\n",
    "\n",
    "xga_stats.head()"
   ]
  },
  {
   "cell_type": "code",
   "execution_count": 9,
   "metadata": {},
   "outputs": [],
   "source": [
    "xg_stats = dict(xg_stats.values)\n",
    "corner_stats = dict(corner_stats.values)\n",
    "xga_stats = dict(xga_stats.values)\n",
    "\n",
    "#By making this into dictionaries, it will be easier to call them/update them with the function"
   ]
  },
  {
   "cell_type": "code",
   "execution_count": 10,
   "metadata": {},
   "outputs": [],
   "source": [
    "def fill_stats(team):\n",
    "    games['home_xg'] = np.where(games['home_team_name'] == team, xg_stats[team], games['home_xg'])\n",
    "    games['away_xg'] = np.where(games['away_team_name'] == team, xg_stats[team], games['away_xg'])\n",
    "    games['home_xg_against'] = np.where(games['home_team_name'] == team, xga_stats[team], games['home_xg_against'])\n",
    "    games['away_xg_against'] = np.where(games['away_team_name'] == team, xga_stats[team], games['away_xg_against'])\n",
    "    games['home_total_corners'] = np.where(games['home_team_name'] == team, corner_stats[team], games['home_total_corners'])\n",
    "    games['away_total_corners'] = np.where(games['away_team_name'] == team, corner_stats[team], games['away_total_corners'])\n",
    "    \n",
    "#Function to put team stats into games dataframe"
   ]
  },
  {
   "cell_type": "code",
   "execution_count": null,
   "metadata": {},
   "outputs": [],
   "source": []
  },
  {
   "cell_type": "code",
   "execution_count": 11,
   "metadata": {},
   "outputs": [],
   "source": [
    "fill_stats('Norwich City')\n",
    "fill_stats('Blackburn Rovers')\n",
    "fill_stats('Brentford')\n",
    "fill_stats('Queens Park Rangers')\n",
    "fill_stats('AFC Bournemouth')\n",
    "fill_stats('Middlesbrough')\n",
    "fill_stats('Barnsley')\n",
    "fill_stats('Millwall')\n",
    "fill_stats('Watford')\n",
    "fill_stats('Reading')\n",
    "fill_stats('Cardiff City')\n",
    "fill_stats('Nottingham Forest')\n",
    "fill_stats('Rotherham United')\n",
    "fill_stats('Wycombe Wanderers')\n",
    "fill_stats('Luton Town')\n",
    "fill_stats('Stoke City')\n",
    "fill_stats('Swansea City')\n",
    "fill_stats('Derby County')\n",
    "fill_stats('Huddersfield Town')\n",
    "fill_stats('Preston North End')\n",
    "fill_stats('Coventry City')\n",
    "fill_stats('Sheffield Wednesday')\n",
    "fill_stats('Birmingham City')\n",
    "fill_stats('Bristol City')\n",
    "\n",
    "#Reading in stats"
   ]
  },
  {
   "cell_type": "markdown",
   "metadata": {},
   "source": [
    "# Some more EDA"
   ]
  },
  {
   "cell_type": "code",
   "execution_count": null,
   "metadata": {},
   "outputs": [],
   "source": []
  },
  {
   "cell_type": "code",
   "execution_count": null,
   "metadata": {},
   "outputs": [],
   "source": []
  },
  {
   "cell_type": "code",
   "execution_count": 12,
   "metadata": {},
   "outputs": [
    {
     "data": {
      "text/plain": [
       "over/under                             1.000000\n",
       "total_goal_count                       0.813089\n",
       "total_goals_at_half_time               0.564385\n",
       "home_team_goal_count                   0.563420\n",
       "away_team_goal_count                   0.538042\n",
       "home_team_goal_count_half_time         0.402322\n",
       "home_team_shots_on_target              0.361050\n",
       "away_team_goal_count_half_time         0.358810\n",
       "away_team_shots_on_target              0.284876\n",
       "team_a_xg                              0.221940\n",
       "team_b_xg                              0.181444\n",
       "home_team_shots                        0.156785\n",
       "away_team_shots                        0.150139\n",
       "average_goals_per_match_pre_match      0.091487\n",
       "over_15_percentage_pre_match           0.084846\n",
       "over_05_HT_FHG_percentage_pre_match    0.084284\n",
       "over_05_2HG_percentage_pre_match       0.083594\n",
       "over_25_percentage_pre_match           0.083280\n",
       "Game Week                              0.078257\n",
       "away_team_possession                   0.077439\n",
       "Name: over/under, dtype: float64"
      ]
     },
     "execution_count": 12,
     "metadata": {},
     "output_type": "execute_result"
    }
   ],
   "source": [
    "games.corr()['over/under'].sort_values(ascending=False)[0:20]"
   ]
  },
  {
   "cell_type": "markdown",
   "metadata": {},
   "source": [
    "# Now let's do some modeling"
   ]
  },
  {
   "cell_type": "code",
   "execution_count": 13,
   "metadata": {},
   "outputs": [],
   "source": [
    "features = ['home_xg', 'away_xg', 'home_xg_against', 'away_xg_against']\n",
    "X = games[features]\n",
    "y = games['over/under']"
   ]
  },
  {
   "cell_type": "code",
   "execution_count": 14,
   "metadata": {},
   "outputs": [],
   "source": [
    "X_train, X_test, y_train, y_test = train_test_split(X, y, test_size = 0.05, random_state = 42)"
   ]
  },
  {
   "cell_type": "code",
   "execution_count": 15,
   "metadata": {},
   "outputs": [],
   "source": [
    "logreg = LogisticRegression()\n",
    "knn = KNeighborsClassifier()\n",
    "dt = DecisionTreeClassifier()"
   ]
  },
  {
   "cell_type": "code",
   "execution_count": 16,
   "metadata": {},
   "outputs": [
    {
     "data": {
      "text/plain": [
       "LogisticRegression()"
      ]
     },
     "execution_count": 16,
     "metadata": {},
     "output_type": "execute_result"
    }
   ],
   "source": [
    "logreg.fit(X_train, y_train)"
   ]
  },
  {
   "cell_type": "code",
   "execution_count": 17,
   "metadata": {},
   "outputs": [],
   "source": [
    "preds = logreg.predict(X_test)"
   ]
  },
  {
   "cell_type": "code",
   "execution_count": 18,
   "metadata": {},
   "outputs": [
    {
     "data": {
      "text/plain": [
       "0.6428571428571429"
      ]
     },
     "execution_count": 18,
     "metadata": {},
     "output_type": "execute_result"
    }
   ],
   "source": [
    "accuracy_score(y_test, preds)"
   ]
  },
  {
   "cell_type": "code",
   "execution_count": 19,
   "metadata": {},
   "outputs": [
    {
     "data": {
      "text/plain": [
       "KNeighborsClassifier()"
      ]
     },
     "execution_count": 19,
     "metadata": {},
     "output_type": "execute_result"
    }
   ],
   "source": [
    "knn.fit(X_train, y_train)"
   ]
  },
  {
   "cell_type": "code",
   "execution_count": 20,
   "metadata": {},
   "outputs": [],
   "source": [
    "preds = knn.predict(X_test)"
   ]
  },
  {
   "cell_type": "code",
   "execution_count": 21,
   "metadata": {},
   "outputs": [
    {
     "data": {
      "text/plain": [
       "0.5714285714285714"
      ]
     },
     "execution_count": 21,
     "metadata": {},
     "output_type": "execute_result"
    }
   ],
   "source": [
    "accuracy_score(y_test, preds)"
   ]
  },
  {
   "cell_type": "code",
   "execution_count": 22,
   "metadata": {},
   "outputs": [
    {
     "data": {
      "text/plain": [
       "DecisionTreeClassifier()"
      ]
     },
     "execution_count": 22,
     "metadata": {},
     "output_type": "execute_result"
    }
   ],
   "source": [
    "dt.fit(X_train, y_train)"
   ]
  },
  {
   "cell_type": "code",
   "execution_count": 23,
   "metadata": {},
   "outputs": [],
   "source": [
    "preds = dt.predict(X_test)"
   ]
  },
  {
   "cell_type": "code",
   "execution_count": 24,
   "metadata": {},
   "outputs": [
    {
     "data": {
      "text/plain": [
       "0.5714285714285714"
      ]
     },
     "execution_count": 24,
     "metadata": {},
     "output_type": "execute_result"
    }
   ],
   "source": [
    "accuracy_score(y_test, preds)"
   ]
  },
  {
   "cell_type": "code",
   "execution_count": 25,
   "metadata": {},
   "outputs": [],
   "source": [
    "#decision trees"
   ]
  },
  {
   "cell_type": "code",
   "execution_count": null,
   "metadata": {},
   "outputs": [],
   "source": []
  },
  {
   "cell_type": "code",
   "execution_count": null,
   "metadata": {},
   "outputs": [],
   "source": []
  },
  {
   "cell_type": "code",
   "execution_count": null,
   "metadata": {},
   "outputs": [],
   "source": []
  }
 ],
 "metadata": {
  "kernelspec": {
   "display_name": "Python 3",
   "language": "python",
   "name": "python3"
  },
  "language_info": {
   "codemirror_mode": {
    "name": "ipython",
    "version": 3
   },
   "file_extension": ".py",
   "mimetype": "text/x-python",
   "name": "python",
   "nbconvert_exporter": "python",
   "pygments_lexer": "ipython3",
   "version": "3.8.3"
  }
 },
 "nbformat": 4,
 "nbformat_minor": 4
}
