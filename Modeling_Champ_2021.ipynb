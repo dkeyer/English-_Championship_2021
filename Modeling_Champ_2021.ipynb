{
 "cells": [
  {
   "cell_type": "code",
   "execution_count": 102,
   "metadata": {},
   "outputs": [],
   "source": [
    "import pandas as pd\n",
    "import numpy as np\n",
    "import seaborn as sns\n",
    "import matplotlib.pyplot as plt\n",
    "from sklearn.model_selection import train_test_split, cross_val_score, GridSearchCV\n",
    "from sklearn.metrics import accuracy_score\n",
    "from sklearn.preprocessing import StandardScaler, PolynomialFeatures\n",
    "from sklearn.neighbors import KNeighborsClassifier\n",
    "from sklearn.svm import SVR\n",
    "from sklearn.decomposition import PCA\n",
    "from sklearn.linear_model import LogisticRegression\n",
    "from sklearn.tree import DecisionTreeClassifier\n",
    "from sklearn.neighbors import KNeighborsClassifier"
   ]
  },
  {
   "cell_type": "code",
   "execution_count": 103,
   "metadata": {},
   "outputs": [],
   "source": [
    "team_stats = pd.read_csv('../data/FS_champ_team_2021.csv')\n",
    "games = pd.read_csv('../data/FS_champ_games_2021.csv')\n",
    "goal_timings = pd.read_csv('../data/FS_Champ2021_Goal_timings.csv')"
   ]
  },
  {
   "cell_type": "code",
   "execution_count": 104,
   "metadata": {},
   "outputs": [],
   "source": [
    "games['over/under'] = np.where(games['home_team_goal_count'] + games['away_team_goal_count'] > 2.5, 1, 0)\n",
    "# Adding column 0 represents under 2.5, 1 represents over 2.5"
   ]
  },
  {
   "cell_type": "code",
   "execution_count": 105,
   "metadata": {},
   "outputs": [],
   "source": [
    "games = games[0:552]\n",
    "#Dropping playoff matches"
   ]
  },
  {
   "cell_type": "code",
   "execution_count": 106,
   "metadata": {},
   "outputs": [
    {
     "data": {
      "text/plain": [
       "Index(['team_name', 'common_name', 'season', 'country', 'matches_played',\n",
       "       'matches_played_home', 'matches_played_away', 'suspended_matches',\n",
       "       'wins', 'wins_home',\n",
       "       ...\n",
       "       'goals_conceded_min_61_to_70', 'goals_conceded_min_71_to_80',\n",
       "       'goals_conceded_min_81_to_90', 'draw_percentage_overall',\n",
       "       'draw_percentage_home', 'draw_percentage_away',\n",
       "       'loss_percentage_ovearll', 'loss_percentage_home',\n",
       "       'loss_percentage_away', 'over145_corners_percentage'],\n",
       "      dtype='object', length=293)"
      ]
     },
     "execution_count": 106,
     "metadata": {},
     "output_type": "execute_result"
    }
   ],
   "source": [
    "team_stats.columns"
   ]
  },
  {
   "cell_type": "code",
   "execution_count": 107,
   "metadata": {},
   "outputs": [],
   "source": [
    "games['home_xg'] = \"\"\n",
    "games['away_xg'] = \"\"\n",
    "games['home_xg_against'] = \"\"\n",
    "games['away_xg_against'] = \"\"\n",
    "games['home_total_corners'] = \"\"\n",
    "games['away_total_corners'] = \"\"\n",
    "\n",
    "# Creating new columns where our data will go"
   ]
  },
  {
   "cell_type": "markdown",
   "metadata": {},
   "source": [
    "Let's write a function to help fill xg in our games df"
   ]
  },
  {
   "cell_type": "code",
   "execution_count": 108,
   "metadata": {},
   "outputs": [
    {
     "data": {
      "text/html": [
       "<div>\n",
       "<style scoped>\n",
       "    .dataframe tbody tr th:only-of-type {\n",
       "        vertical-align: middle;\n",
       "    }\n",
       "\n",
       "    .dataframe tbody tr th {\n",
       "        vertical-align: top;\n",
       "    }\n",
       "\n",
       "    .dataframe thead th {\n",
       "        text-align: right;\n",
       "    }\n",
       "</style>\n",
       "<table border=\"1\" class=\"dataframe\">\n",
       "  <thead>\n",
       "    <tr style=\"text-align: right;\">\n",
       "      <th></th>\n",
       "      <th>common_name</th>\n",
       "      <th>xg_against_avg_overall</th>\n",
       "    </tr>\n",
       "  </thead>\n",
       "  <tbody>\n",
       "    <tr>\n",
       "      <th>0</th>\n",
       "      <td>Stoke City</td>\n",
       "      <td>1.21</td>\n",
       "    </tr>\n",
       "    <tr>\n",
       "      <th>1</th>\n",
       "      <td>Middlesbrough</td>\n",
       "      <td>1.13</td>\n",
       "    </tr>\n",
       "    <tr>\n",
       "      <th>2</th>\n",
       "      <td>AFC Bournemouth</td>\n",
       "      <td>1.29</td>\n",
       "    </tr>\n",
       "    <tr>\n",
       "      <th>3</th>\n",
       "      <td>Swansea City</td>\n",
       "      <td>1.28</td>\n",
       "    </tr>\n",
       "    <tr>\n",
       "      <th>4</th>\n",
       "      <td>Watford</td>\n",
       "      <td>1.29</td>\n",
       "    </tr>\n",
       "  </tbody>\n",
       "</table>\n",
       "</div>"
      ],
      "text/plain": [
       "       common_name  xg_against_avg_overall\n",
       "0       Stoke City                    1.21\n",
       "1    Middlesbrough                    1.13\n",
       "2  AFC Bournemouth                    1.29\n",
       "3     Swansea City                    1.28\n",
       "4          Watford                    1.29"
      ]
     },
     "execution_count": 108,
     "metadata": {},
     "output_type": "execute_result"
    }
   ],
   "source": [
    "xg_stats = team_stats[['common_name', 'xg_for_avg_overall']]\n",
    "corner_stats = team_stats[['common_name', 'corners_per_match']]\n",
    "xga_stats = team_stats[['common_name', 'xg_against_avg_overall']]\n",
    "\n",
    "xga_stats.head()"
   ]
  },
  {
   "cell_type": "code",
   "execution_count": 109,
   "metadata": {},
   "outputs": [],
   "source": [
    "xg_stats = dict(xg_stats.values)\n",
    "corner_stats = dict(corner_stats.values)\n",
    "xga_stats = dict(xga_stats.values)\n",
    "\n",
    "#By making this into dictionaries, it will be easier to call them/update them with the function"
   ]
  },
  {
   "cell_type": "code",
   "execution_count": 110,
   "metadata": {},
   "outputs": [],
   "source": [
    "def fill_stats(team):\n",
    "    games['home_xg'] = np.where(games['home_team_name'] == team, xg_stats[team], games['home_xg'])\n",
    "    games['away_xg'] = np.where(games['away_team_name'] == team, xg_stats[team], games['away_xg'])\n",
    "    games['home_xg_against'] = np.where(games['home_team_name'] == team, xga_stats[team], games['home_xg_against'])\n",
    "    games['away_xg_against'] = np.where(games['away_team_name'] == team, xga_stats[team], games['away_xg_against'])\n",
    "    games['home_total_corners'] = np.where(games['home_team_name'] == team, corner_stats[team], games['home_total_corners'])\n",
    "    games['away_total_corners'] = np.where(games['away_team_name'] == team, corner_stats[team], games['away_total_corners'])\n",
    "    \n",
    "#Function to put team stats into games dataframe"
   ]
  },
  {
   "cell_type": "code",
   "execution_count": null,
   "metadata": {},
   "outputs": [],
   "source": []
  },
  {
   "cell_type": "code",
   "execution_count": 111,
   "metadata": {},
   "outputs": [],
   "source": [
    "fill_stats('Norwich City')\n",
    "fill_stats('Blackburn Rovers')\n",
    "fill_stats('Brentford')\n",
    "fill_stats('Queens Park Rangers')\n",
    "fill_stats('AFC Bournemouth')\n",
    "fill_stats('Middlesbrough')\n",
    "fill_stats('Barnsley')\n",
    "fill_stats('Millwall')\n",
    "fill_stats('Watford')\n",
    "fill_stats('Reading')\n",
    "fill_stats('Cardiff City')\n",
    "fill_stats('Nottingham Forest')\n",
    "fill_stats('Rotherham United')\n",
    "fill_stats('Wycombe Wanderers')\n",
    "fill_stats('Luton Town')\n",
    "fill_stats('Stoke City')\n",
    "fill_stats('Swansea City')\n",
    "fill_stats('Derby County')\n",
    "fill_stats('Huddersfield Town')\n",
    "fill_stats('Preston North End')\n",
    "fill_stats('Coventry City')\n",
    "fill_stats('Sheffield Wednesday')\n",
    "fill_stats('Birmingham City')\n",
    "fill_stats('Bristol City')\n",
    "\n",
    "#Reading in stats"
   ]
  },
  {
   "cell_type": "code",
   "execution_count": 112,
   "metadata": {},
   "outputs": [
    {
     "data": {
      "text/html": [
       "<div>\n",
       "<style scoped>\n",
       "    .dataframe tbody tr th:only-of-type {\n",
       "        vertical-align: middle;\n",
       "    }\n",
       "\n",
       "    .dataframe tbody tr th {\n",
       "        vertical-align: top;\n",
       "    }\n",
       "\n",
       "    .dataframe thead th {\n",
       "        text-align: right;\n",
       "    }\n",
       "</style>\n",
       "<table border=\"1\" class=\"dataframe\">\n",
       "  <thead>\n",
       "    <tr style=\"text-align: right;\">\n",
       "      <th></th>\n",
       "      <th>timestamp</th>\n",
       "      <th>date_GMT</th>\n",
       "      <th>status</th>\n",
       "      <th>attendance</th>\n",
       "      <th>home_team_name</th>\n",
       "      <th>away_team_name</th>\n",
       "      <th>referee</th>\n",
       "      <th>Game Week</th>\n",
       "      <th>Pre-Match PPG (Home)</th>\n",
       "      <th>Pre-Match PPG (Away)</th>\n",
       "      <th>...</th>\n",
       "      <th>odds_btts_yes</th>\n",
       "      <th>odds_btts_no</th>\n",
       "      <th>stadium_name</th>\n",
       "      <th>over/under</th>\n",
       "      <th>home_xg</th>\n",
       "      <th>away_xg</th>\n",
       "      <th>home_xg_against</th>\n",
       "      <th>away_xg_against</th>\n",
       "      <th>home_total_corners</th>\n",
       "      <th>away_total_corners</th>\n",
       "    </tr>\n",
       "  </thead>\n",
       "  <tbody>\n",
       "    <tr>\n",
       "      <th>0</th>\n",
       "      <td>1599849900</td>\n",
       "      <td>Sep 11 2020 - 6:45pm</td>\n",
       "      <td>complete</td>\n",
       "      <td>NaN</td>\n",
       "      <td>Watford</td>\n",
       "      <td>Middlesbrough</td>\n",
       "      <td>Keith Stroud</td>\n",
       "      <td>1.0</td>\n",
       "      <td>0.00</td>\n",
       "      <td>0.00</td>\n",
       "      <td>...</td>\n",
       "      <td>1.95</td>\n",
       "      <td>1.74</td>\n",
       "      <td>Vicarage Road (Watford)</td>\n",
       "      <td>0</td>\n",
       "      <td>1.36</td>\n",
       "      <td>1.44</td>\n",
       "      <td>1.29</td>\n",
       "      <td>1.13</td>\n",
       "      <td>5.61</td>\n",
       "      <td>5.96</td>\n",
       "    </tr>\n",
       "    <tr>\n",
       "      <th>1</th>\n",
       "      <td>1599910200</td>\n",
       "      <td>Sep 12 2020 - 11:30am</td>\n",
       "      <td>complete</td>\n",
       "      <td>NaN</td>\n",
       "      <td>Birmingham City</td>\n",
       "      <td>Brentford</td>\n",
       "      <td>Tony Harrington</td>\n",
       "      <td>1.0</td>\n",
       "      <td>0.00</td>\n",
       "      <td>0.00</td>\n",
       "      <td>...</td>\n",
       "      <td>1.87</td>\n",
       "      <td>1.80</td>\n",
       "      <td>St Andrew's Trillion Trophy Stadium (Birmingham)</td>\n",
       "      <td>0</td>\n",
       "      <td>0.94</td>\n",
       "      <td>1.55</td>\n",
       "      <td>1.27</td>\n",
       "      <td>1.12</td>\n",
       "      <td>4.11</td>\n",
       "      <td>4.73</td>\n",
       "    </tr>\n",
       "    <tr>\n",
       "      <th>2</th>\n",
       "      <td>1599910200</td>\n",
       "      <td>Sep 12 2020 - 11:30am</td>\n",
       "      <td>complete</td>\n",
       "      <td>NaN</td>\n",
       "      <td>Wycombe Wanderers</td>\n",
       "      <td>Rotherham United</td>\n",
       "      <td>James Linington</td>\n",
       "      <td>1.0</td>\n",
       "      <td>0.00</td>\n",
       "      <td>0.00</td>\n",
       "      <td>...</td>\n",
       "      <td>1.74</td>\n",
       "      <td>1.95</td>\n",
       "      <td>Adams Park (High Wycombe- Buckinghamshire)</td>\n",
       "      <td>0</td>\n",
       "      <td>1.32</td>\n",
       "      <td>1.32</td>\n",
       "      <td>1.59</td>\n",
       "      <td>1.37</td>\n",
       "      <td>4.3</td>\n",
       "      <td>5.04</td>\n",
       "    </tr>\n",
       "    <tr>\n",
       "      <th>3</th>\n",
       "      <td>1599919200</td>\n",
       "      <td>Sep 12 2020 - 2:00pm</td>\n",
       "      <td>complete</td>\n",
       "      <td>NaN</td>\n",
       "      <td>AFC Bournemouth</td>\n",
       "      <td>Blackburn Rovers</td>\n",
       "      <td>Gavin Ward</td>\n",
       "      <td>1.0</td>\n",
       "      <td>0.00</td>\n",
       "      <td>0.00</td>\n",
       "      <td>...</td>\n",
       "      <td>1.74</td>\n",
       "      <td>1.95</td>\n",
       "      <td>Vitality Stadium (Bournemouth- Dorset)</td>\n",
       "      <td>1</td>\n",
       "      <td>1.44</td>\n",
       "      <td>1.75</td>\n",
       "      <td>1.29</td>\n",
       "      <td>1.29</td>\n",
       "      <td>5.21</td>\n",
       "      <td>4.61</td>\n",
       "    </tr>\n",
       "    <tr>\n",
       "      <th>4</th>\n",
       "      <td>1599919200</td>\n",
       "      <td>Sep 12 2020 - 2:00pm</td>\n",
       "      <td>complete</td>\n",
       "      <td>NaN</td>\n",
       "      <td>Barnsley</td>\n",
       "      <td>Luton Town</td>\n",
       "      <td>Jarred Gillett</td>\n",
       "      <td>1.0</td>\n",
       "      <td>0.00</td>\n",
       "      <td>0.00</td>\n",
       "      <td>...</td>\n",
       "      <td>1.77</td>\n",
       "      <td>1.91</td>\n",
       "      <td>Oakwell (Barnsley- South Yorkshire)</td>\n",
       "      <td>0</td>\n",
       "      <td>1.43</td>\n",
       "      <td>1.29</td>\n",
       "      <td>1.08</td>\n",
       "      <td>1.34</td>\n",
       "      <td>4.6</td>\n",
       "      <td>5.13</td>\n",
       "    </tr>\n",
       "    <tr>\n",
       "      <th>...</th>\n",
       "      <td>...</td>\n",
       "      <td>...</td>\n",
       "      <td>...</td>\n",
       "      <td>...</td>\n",
       "      <td>...</td>\n",
       "      <td>...</td>\n",
       "      <td>...</td>\n",
       "      <td>...</td>\n",
       "      <td>...</td>\n",
       "      <td>...</td>\n",
       "      <td>...</td>\n",
       "      <td>...</td>\n",
       "      <td>...</td>\n",
       "      <td>...</td>\n",
       "      <td>...</td>\n",
       "      <td>...</td>\n",
       "      <td>...</td>\n",
       "      <td>...</td>\n",
       "      <td>...</td>\n",
       "      <td>...</td>\n",
       "      <td>...</td>\n",
       "    </tr>\n",
       "    <tr>\n",
       "      <th>547</th>\n",
       "      <td>1620473400</td>\n",
       "      <td>May 08 2021 - 11:30am</td>\n",
       "      <td>complete</td>\n",
       "      <td>NaN</td>\n",
       "      <td>Middlesbrough</td>\n",
       "      <td>Wycombe Wanderers</td>\n",
       "      <td>Martin Atkinson</td>\n",
       "      <td>46.0</td>\n",
       "      <td>1.68</td>\n",
       "      <td>0.64</td>\n",
       "      <td>...</td>\n",
       "      <td>1.74</td>\n",
       "      <td>2.00</td>\n",
       "      <td>Riverside Stadium (Middlesbrough)</td>\n",
       "      <td>1</td>\n",
       "      <td>1.44</td>\n",
       "      <td>1.32</td>\n",
       "      <td>1.13</td>\n",
       "      <td>1.59</td>\n",
       "      <td>5.96</td>\n",
       "      <td>4.3</td>\n",
       "    </tr>\n",
       "    <tr>\n",
       "      <th>548</th>\n",
       "      <td>1620473400</td>\n",
       "      <td>May 08 2021 - 11:30am</td>\n",
       "      <td>complete</td>\n",
       "      <td>NaN</td>\n",
       "      <td>Nottingham Forest</td>\n",
       "      <td>Preston North End</td>\n",
       "      <td>Darren Bond</td>\n",
       "      <td>46.0</td>\n",
       "      <td>1.18</td>\n",
       "      <td>1.45</td>\n",
       "      <td>...</td>\n",
       "      <td>1.71</td>\n",
       "      <td>2.00</td>\n",
       "      <td>The City Ground (Nottingham- Nottinghamshire)</td>\n",
       "      <td>1</td>\n",
       "      <td>1.33</td>\n",
       "      <td>1.11</td>\n",
       "      <td>1.39</td>\n",
       "      <td>1.46</td>\n",
       "      <td>5.04</td>\n",
       "      <td>4.11</td>\n",
       "    </tr>\n",
       "    <tr>\n",
       "      <th>549</th>\n",
       "      <td>1620473400</td>\n",
       "      <td>May 08 2021 - 11:30am</td>\n",
       "      <td>complete</td>\n",
       "      <td>NaN</td>\n",
       "      <td>Queens Park Rangers</td>\n",
       "      <td>Luton Town</td>\n",
       "      <td>Tony Harrington</td>\n",
       "      <td>46.0</td>\n",
       "      <td>1.55</td>\n",
       "      <td>1.32</td>\n",
       "      <td>...</td>\n",
       "      <td>1.67</td>\n",
       "      <td>2.10</td>\n",
       "      <td>Kiyan Prince Foundation Stadium (London)</td>\n",
       "      <td>1</td>\n",
       "      <td>1.47</td>\n",
       "      <td>1.29</td>\n",
       "      <td>1.49</td>\n",
       "      <td>1.34</td>\n",
       "      <td>5.07</td>\n",
       "      <td>5.13</td>\n",
       "    </tr>\n",
       "    <tr>\n",
       "      <th>550</th>\n",
       "      <td>1620473400</td>\n",
       "      <td>May 08 2021 - 11:30am</td>\n",
       "      <td>complete</td>\n",
       "      <td>NaN</td>\n",
       "      <td>Reading</td>\n",
       "      <td>Huddersfield Town</td>\n",
       "      <td>Jarred Gillett</td>\n",
       "      <td>46.0</td>\n",
       "      <td>1.77</td>\n",
       "      <td>0.77</td>\n",
       "      <td>...</td>\n",
       "      <td>1.71</td>\n",
       "      <td>2.00</td>\n",
       "      <td>Madejski Stadium (Reading- Berkshire)</td>\n",
       "      <td>1</td>\n",
       "      <td>1.36</td>\n",
       "      <td>1.11</td>\n",
       "      <td>1.26</td>\n",
       "      <td>1.44</td>\n",
       "      <td>4.24</td>\n",
       "      <td>4.44</td>\n",
       "    </tr>\n",
       "    <tr>\n",
       "      <th>551</th>\n",
       "      <td>1620473400</td>\n",
       "      <td>May 08 2021 - 11:30am</td>\n",
       "      <td>complete</td>\n",
       "      <td>NaN</td>\n",
       "      <td>Watford</td>\n",
       "      <td>Swansea City</td>\n",
       "      <td>Geoff Eltringham</td>\n",
       "      <td>46.0</td>\n",
       "      <td>2.55</td>\n",
       "      <td>1.73</td>\n",
       "      <td>...</td>\n",
       "      <td>1.77</td>\n",
       "      <td>1.95</td>\n",
       "      <td>Vicarage Road (Watford)</td>\n",
       "      <td>0</td>\n",
       "      <td>1.36</td>\n",
       "      <td>1.15</td>\n",
       "      <td>1.29</td>\n",
       "      <td>1.28</td>\n",
       "      <td>5.61</td>\n",
       "      <td>5.14</td>\n",
       "    </tr>\n",
       "  </tbody>\n",
       "</table>\n",
       "<p>552 rows × 71 columns</p>\n",
       "</div>"
      ],
      "text/plain": [
       "      timestamp               date_GMT    status  attendance  \\\n",
       "0    1599849900   Sep 11 2020 - 6:45pm  complete         NaN   \n",
       "1    1599910200  Sep 12 2020 - 11:30am  complete         NaN   \n",
       "2    1599910200  Sep 12 2020 - 11:30am  complete         NaN   \n",
       "3    1599919200   Sep 12 2020 - 2:00pm  complete         NaN   \n",
       "4    1599919200   Sep 12 2020 - 2:00pm  complete         NaN   \n",
       "..          ...                    ...       ...         ...   \n",
       "547  1620473400  May 08 2021 - 11:30am  complete         NaN   \n",
       "548  1620473400  May 08 2021 - 11:30am  complete         NaN   \n",
       "549  1620473400  May 08 2021 - 11:30am  complete         NaN   \n",
       "550  1620473400  May 08 2021 - 11:30am  complete         NaN   \n",
       "551  1620473400  May 08 2021 - 11:30am  complete         NaN   \n",
       "\n",
       "          home_team_name     away_team_name           referee  Game Week  \\\n",
       "0                Watford      Middlesbrough      Keith Stroud        1.0   \n",
       "1        Birmingham City          Brentford   Tony Harrington        1.0   \n",
       "2      Wycombe Wanderers   Rotherham United   James Linington        1.0   \n",
       "3        AFC Bournemouth   Blackburn Rovers        Gavin Ward        1.0   \n",
       "4               Barnsley         Luton Town    Jarred Gillett        1.0   \n",
       "..                   ...                ...               ...        ...   \n",
       "547        Middlesbrough  Wycombe Wanderers   Martin Atkinson       46.0   \n",
       "548    Nottingham Forest  Preston North End       Darren Bond       46.0   \n",
       "549  Queens Park Rangers         Luton Town   Tony Harrington       46.0   \n",
       "550              Reading  Huddersfield Town    Jarred Gillett       46.0   \n",
       "551              Watford       Swansea City  Geoff Eltringham       46.0   \n",
       "\n",
       "     Pre-Match PPG (Home)  Pre-Match PPG (Away)  ...  odds_btts_yes  \\\n",
       "0                    0.00                  0.00  ...           1.95   \n",
       "1                    0.00                  0.00  ...           1.87   \n",
       "2                    0.00                  0.00  ...           1.74   \n",
       "3                    0.00                  0.00  ...           1.74   \n",
       "4                    0.00                  0.00  ...           1.77   \n",
       "..                    ...                   ...  ...            ...   \n",
       "547                  1.68                  0.64  ...           1.74   \n",
       "548                  1.18                  1.45  ...           1.71   \n",
       "549                  1.55                  1.32  ...           1.67   \n",
       "550                  1.77                  0.77  ...           1.71   \n",
       "551                  2.55                  1.73  ...           1.77   \n",
       "\n",
       "     odds_btts_no                                      stadium_name  \\\n",
       "0            1.74                           Vicarage Road (Watford)   \n",
       "1            1.80  St Andrew's Trillion Trophy Stadium (Birmingham)   \n",
       "2            1.95        Adams Park (High Wycombe- Buckinghamshire)   \n",
       "3            1.95            Vitality Stadium (Bournemouth- Dorset)   \n",
       "4            1.91               Oakwell (Barnsley- South Yorkshire)   \n",
       "..            ...                                               ...   \n",
       "547          2.00                 Riverside Stadium (Middlesbrough)   \n",
       "548          2.00     The City Ground (Nottingham- Nottinghamshire)   \n",
       "549          2.10          Kiyan Prince Foundation Stadium (London)   \n",
       "550          2.00             Madejski Stadium (Reading- Berkshire)   \n",
       "551          1.95                           Vicarage Road (Watford)   \n",
       "\n",
       "     over/under  home_xg  away_xg  home_xg_against  away_xg_against  \\\n",
       "0             0     1.36     1.44             1.29             1.13   \n",
       "1             0     0.94     1.55             1.27             1.12   \n",
       "2             0     1.32     1.32             1.59             1.37   \n",
       "3             1     1.44     1.75             1.29             1.29   \n",
       "4             0     1.43     1.29             1.08             1.34   \n",
       "..          ...      ...      ...              ...              ...   \n",
       "547           1     1.44     1.32             1.13             1.59   \n",
       "548           1     1.33     1.11             1.39             1.46   \n",
       "549           1     1.47     1.29             1.49             1.34   \n",
       "550           1     1.36     1.11             1.26             1.44   \n",
       "551           0     1.36     1.15             1.29             1.28   \n",
       "\n",
       "    home_total_corners away_total_corners  \n",
       "0                 5.61               5.96  \n",
       "1                 4.11               4.73  \n",
       "2                  4.3               5.04  \n",
       "3                 5.21               4.61  \n",
       "4                  4.6               5.13  \n",
       "..                 ...                ...  \n",
       "547               5.96                4.3  \n",
       "548               5.04               4.11  \n",
       "549               5.07               5.13  \n",
       "550               4.24               4.44  \n",
       "551               5.61               5.14  \n",
       "\n",
       "[552 rows x 71 columns]"
      ]
     },
     "execution_count": 112,
     "metadata": {},
     "output_type": "execute_result"
    }
   ],
   "source": [
    "games"
   ]
  },
  {
   "cell_type": "code",
   "execution_count": 113,
   "metadata": {},
   "outputs": [
    {
     "data": {
      "text/plain": [
       "over/under                             1.000000\n",
       "total_goal_count                       0.813089\n",
       "total_goals_at_half_time               0.564385\n",
       "home_team_goal_count                   0.563420\n",
       "away_team_goal_count                   0.538042\n",
       "home_team_goal_count_half_time         0.402322\n",
       "home_team_shots_on_target              0.361050\n",
       "away_team_goal_count_half_time         0.358810\n",
       "away_team_shots_on_target              0.284876\n",
       "team_a_xg                              0.221940\n",
       "team_b_xg                              0.181444\n",
       "home_team_shots                        0.156785\n",
       "away_team_shots                        0.150139\n",
       "average_goals_per_match_pre_match      0.091487\n",
       "over_15_percentage_pre_match           0.084846\n",
       "over_05_HT_FHG_percentage_pre_match    0.084284\n",
       "over_05_2HG_percentage_pre_match       0.083594\n",
       "over_25_percentage_pre_match           0.083280\n",
       "Game Week                              0.078257\n",
       "away_team_possession                   0.077439\n",
       "Name: over/under, dtype: float64"
      ]
     },
     "execution_count": 113,
     "metadata": {},
     "output_type": "execute_result"
    }
   ],
   "source": [
    "games.corr()['over/under'].sort_values(ascending=False)[0:20]"
   ]
  },
  {
   "cell_type": "markdown",
   "metadata": {},
   "source": [
    "# Now let's do some modeling"
   ]
  },
  {
   "cell_type": "code",
   "execution_count": 177,
   "metadata": {},
   "outputs": [],
   "source": [
    "features = ['home_xg', 'away_xg', 'home_xg_against', 'away_xg_against']\n",
    "X = games[features]\n",
    "y = games['over/under']"
   ]
  },
  {
   "cell_type": "code",
   "execution_count": 178,
   "metadata": {},
   "outputs": [],
   "source": [
    "X_train, X_test, y_train, y_test = train_test_split(X, y, test_size = 0.05, random_state = 42)"
   ]
  },
  {
   "cell_type": "code",
   "execution_count": 179,
   "metadata": {},
   "outputs": [],
   "source": [
    "logreg = LogisticRegression()\n",
    "knn = KNeighborsClassifier()\n",
    "dt = DecisionTreeClassifier()"
   ]
  },
  {
   "cell_type": "code",
   "execution_count": 180,
   "metadata": {},
   "outputs": [
    {
     "data": {
      "text/plain": [
       "LogisticRegression()"
      ]
     },
     "execution_count": 180,
     "metadata": {},
     "output_type": "execute_result"
    }
   ],
   "source": [
    "logreg.fit(X_train, y_train)"
   ]
  },
  {
   "cell_type": "code",
   "execution_count": 181,
   "metadata": {},
   "outputs": [],
   "source": [
    "preds = logreg.predict(X_test)"
   ]
  },
  {
   "cell_type": "code",
   "execution_count": 182,
   "metadata": {},
   "outputs": [
    {
     "data": {
      "text/plain": [
       "0.6428571428571429"
      ]
     },
     "execution_count": 182,
     "metadata": {},
     "output_type": "execute_result"
    }
   ],
   "source": [
    "accuracy_score(y_test, preds)"
   ]
  },
  {
   "cell_type": "code",
   "execution_count": 183,
   "metadata": {},
   "outputs": [
    {
     "data": {
      "text/plain": [
       "KNeighborsClassifier()"
      ]
     },
     "execution_count": 183,
     "metadata": {},
     "output_type": "execute_result"
    }
   ],
   "source": [
    "knn.fit(X_train, y_train)"
   ]
  },
  {
   "cell_type": "code",
   "execution_count": 184,
   "metadata": {},
   "outputs": [],
   "source": [
    "preds = knn.predict(X_test)"
   ]
  },
  {
   "cell_type": "code",
   "execution_count": 185,
   "metadata": {},
   "outputs": [
    {
     "data": {
      "text/plain": [
       "0.5714285714285714"
      ]
     },
     "execution_count": 185,
     "metadata": {},
     "output_type": "execute_result"
    }
   ],
   "source": [
    "accuracy_score(y_test, preds)"
   ]
  },
  {
   "cell_type": "code",
   "execution_count": 186,
   "metadata": {},
   "outputs": [
    {
     "data": {
      "text/plain": [
       "DecisionTreeClassifier()"
      ]
     },
     "execution_count": 186,
     "metadata": {},
     "output_type": "execute_result"
    }
   ],
   "source": [
    "dt.fit(X_train, y_train)"
   ]
  },
  {
   "cell_type": "code",
   "execution_count": 187,
   "metadata": {},
   "outputs": [],
   "source": [
    "preds = dt.predict(X_test)"
   ]
  },
  {
   "cell_type": "code",
   "execution_count": 188,
   "metadata": {},
   "outputs": [
    {
     "data": {
      "text/plain": [
       "0.5714285714285714"
      ]
     },
     "execution_count": 188,
     "metadata": {},
     "output_type": "execute_result"
    }
   ],
   "source": [
    "accuracy_score(y_test, preds)"
   ]
  },
  {
   "cell_type": "code",
   "execution_count": null,
   "metadata": {},
   "outputs": [],
   "source": []
  },
  {
   "cell_type": "code",
   "execution_count": null,
   "metadata": {},
   "outputs": [],
   "source": []
  },
  {
   "cell_type": "code",
   "execution_count": null,
   "metadata": {},
   "outputs": [],
   "source": []
  },
  {
   "cell_type": "code",
   "execution_count": null,
   "metadata": {},
   "outputs": [],
   "source": []
  }
 ],
 "metadata": {
  "kernelspec": {
   "display_name": "Python 3",
   "language": "python",
   "name": "python3"
  },
  "language_info": {
   "codemirror_mode": {
    "name": "ipython",
    "version": 3
   },
   "file_extension": ".py",
   "mimetype": "text/x-python",
   "name": "python",
   "nbconvert_exporter": "python",
   "pygments_lexer": "ipython3",
   "version": "3.8.3"
  }
 },
 "nbformat": 4,
 "nbformat_minor": 4
}
