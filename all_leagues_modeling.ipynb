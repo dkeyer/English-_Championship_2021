{
 "cells": [
  {
   "cell_type": "code",
   "execution_count": 1,
   "id": "a1b7cbfb",
   "metadata": {},
   "outputs": [],
   "source": [
    "import pandas as pd\n",
    "import numpy as np\n",
    "import seaborn as sns\n",
    "import matplotlib.pyplot as plt\n",
    "from sklearn.model_selection import train_test_split, cross_val_score, GridSearchCV\n",
    "from sklearn.metrics import accuracy_score\n",
    "from sklearn.preprocessing import StandardScaler, PolynomialFeatures\n",
    "from sklearn.neighbors import KNeighborsClassifier\n",
    "from sklearn.linear_model import LogisticRegression\n",
    "from sklearn.tree import DecisionTreeClassifier"
   ]
  },
  {
   "cell_type": "code",
   "execution_count": 2,
   "id": "49ac08fc",
   "metadata": {},
   "outputs": [],
   "source": [
    "prem_team_stats = pd.read_csv('../../footy_data/england-premier-league-teams-2021-to-2022-stats.csv')\n",
    "prem_games = pd.read_csv('../../footy_data/england-premier-league-matches-2021-to-2022-stats.csv')\n",
    "champ_team_stats = pd.read_csv('../../footy_data/england-championship-teams-2021-to-2022-stats.csv')\n",
    "champ_games = pd.read_csv('../../footy_data/england-championship-matches-2021-to-2022-stats.csv')\n",
    "league_one_team_stats = pd.read_csv('../../footy_data/england-efl-league-one-teams-2021-to-2022-stats.csv')\n",
    "league_one_games = pd.read_csv('../../footy_data/england-efl-league-one-matches-2021-to-2022-stats.csv')\n",
    "league_two_team_stats = pd.read_csv('../../footy_data/england-efl-league-two-teams-2021-to-2022-stats.csv')\n",
    "league_two_games = pd.read_csv('../../footy_data/england-efl-league-two-matches-2021-to-2022-stats.csv')\n",
    "segunda_team_stats = pd.read_csv('../../footy_data/spain-segunda-division-teams-2021-to-2022-stats.csv')\n",
    "segunda_games = pd.read_csv('../../footy_data/spain-segunda-division-matches-2021-to-2022-stats.csv')\n",
    "laliga_team_stats = pd.read_csv('../../footy_data/spain-la-liga-teams-2021-to-2022-stats.csv')\n",
    "laliga_games = pd.read_csv('../../footy_data/spain-la-liga-matches-2021-to-2022-stats.csv')"
   ]
  },
  {
   "cell_type": "markdown",
   "id": "491a4b6c",
   "metadata": {},
   "source": [
    "# Data Cleaning and Additions"
   ]
  },
  {
   "cell_type": "code",
   "execution_count": 3,
   "id": "6876523b",
   "metadata": {},
   "outputs": [
    {
     "data": {
      "text/plain": [
       "200"
      ]
     },
     "execution_count": 3,
     "metadata": {},
     "output_type": "execute_result"
    }
   ],
   "source": [
    "len(prem_games.loc[prem_games['status'] == 'complete']) +10"
   ]
  },
  {
   "cell_type": "code",
   "execution_count": 4,
   "id": "c2835b25",
   "metadata": {},
   "outputs": [],
   "source": [
    "# prem_games = prem_games.loc[prem_games['status'] == 'complete']\n",
    "# champ_games = champ_games.loc[champ_games['status'] == 'complete']\n",
    "# league_one_games = league_one_games.loc[league_one_games['status'] == 'complete']\n",
    "# league_two_games = league_two_games.loc[league_two_games['status'] == 'complete']\n",
    "# segunda_games = segunda_games.loc[segunda_games['status'] == 'complete']\n",
    "# laliga_games = laliga_games.loc[laliga_games['status'] == 'complete']\n",
    "\n",
    "#NOT ADDING THESE YET BECAUSE WE NEED MORE THAN THE COMPLETED GAMES -- NEED THE ONES TO PREDICT"
   ]
  },
  {
   "cell_type": "code",
   "execution_count": 5,
   "id": "f543589c",
   "metadata": {},
   "outputs": [],
   "source": [
    "champ_team_stats['real_xg'] = \"\"\n",
    "champ_team_stats['real_xga'] = \"\"\n",
    "league_one_team_stats['real_xg'] = \"\"\n",
    "league_one_team_stats['real_xga'] = \"\"\n",
    "league_two_team_stats['real_xg'] = \"\"\n",
    "league_two_team_stats['real_xga'] = \"\"\n",
    "segunda_team_stats['real_xg'] = \"\"\n",
    "segunda_team_stats['real_xga'] = \"\"\n",
    "prem_team_stats['real_xg'] = \"\"\n",
    "prem_team_stats['real_xga'] = \"\"\n",
    "laliga_team_stats['real_xg'] = \"\"\n",
    "laliga_team_stats['real_xga'] = \"\"\n",
    "#Setting up to fix xg and xga"
   ]
  },
  {
   "cell_type": "code",
   "execution_count": 6,
   "id": "f61543e4",
   "metadata": {},
   "outputs": [],
   "source": [
    "champ_team_stats['real_xg'] = \"\"\n",
    "champ_team_stats['real_xga'] = \"\"\n",
    "league_one_team_stats['real_xg'] = \"\"\n",
    "league_one_team_stats['real_xga'] = \"\"\n",
    "league_two_team_stats['real_xg'] = \"\"\n",
    "league_two_team_stats['real_xga'] = \"\"\n",
    "segunda_team_stats['real_xg'] = \"\"\n",
    "segunda_team_stats['real_xga'] = \"\"\n",
    "prem_team_stats['real_xg'] = \"\"\n",
    "prem_team_stats['real_xga'] = \"\"\n",
    "laliga_team_stats['real_xg'] = \"\"\n",
    "laliga_team_stats['real_xga'] = \"\""
   ]
  },
  {
   "cell_type": "code",
   "execution_count": 7,
   "id": "46a70ce1",
   "metadata": {},
   "outputs": [],
   "source": [
    "def xg_fixer(team_name, team_stats, league_games):\n",
    "    total = league_games.loc[league_games['home_team_name'] == team_name, 'team_a_xg'].sum()\n",
    "    total = total + league_games.loc[league_games['away_team_name'] == team_name, 'team_b_xg'].sum()\n",
    "    total = total / (team_stats.loc[team_stats['common_name'] == team_name, 'matches_played'].iloc[0])\n",
    "    team_stats['real_xg'] = np.where(team_stats['common_name'] == team_name, total, team_stats['real_xg'])\n",
    "#Function to get correct avg xg for each team\n"
   ]
  },
  {
   "cell_type": "code",
   "execution_count": 8,
   "id": "29a50ff0",
   "metadata": {},
   "outputs": [],
   "source": [
    "def xg_against_fixer(team_name, team_stats, league_games):\n",
    "    total = league_games.loc[league_games['home_team_name'] == team_name, 'team_b_xg'].sum()\n",
    "    #Want team B this time because we want goals against\n",
    "    total = total + league_games.loc[league_games['away_team_name'] == team_name, 'team_a_xg'].sum()\n",
    "    total = total / (team_stats.loc[team_stats['common_name'] == team_name, 'matches_played'].iloc[0])\n",
    "    team_stats['real_xga'] = np.where(team_stats['common_name'] == team_name, total, team_stats['real_xga'])\n",
    "#Function to get correct avg xga for each team"
   ]
  },
  {
   "cell_type": "code",
   "execution_count": 9,
   "id": "12d9894a",
   "metadata": {},
   "outputs": [],
   "source": [
    "for i in range (0,24):\n",
    "    xg_fixer(champ_team_stats['common_name'][i], champ_team_stats, champ_games)\n",
    "    xg_fixer(league_one_team_stats['common_name'][i], league_one_team_stats, league_one_games)\n",
    "    xg_fixer(league_two_team_stats['common_name'][i], league_two_team_stats, league_two_games)\n",
    "    xg_against_fixer(champ_team_stats['common_name'][i], champ_team_stats, champ_games)\n",
    "    xg_against_fixer(league_one_team_stats['common_name'][i], league_one_team_stats, league_one_games)\n",
    "    xg_against_fixer(league_two_team_stats['common_name'][i], league_two_team_stats, league_two_games)\n",
    "#Filling correct xg for leagues with 24 teams"
   ]
  },
  {
   "cell_type": "code",
   "execution_count": 10,
   "id": "4adbb175",
   "metadata": {},
   "outputs": [],
   "source": [
    "for i in range (0,22):\n",
    "    xg_fixer(segunda_team_stats['common_name'][i], segunda_team_stats, segunda_games)\n",
    "    xg_against_fixer(segunda_team_stats['common_name'][i], segunda_team_stats, segunda_games)\n",
    "#Filling correct xg for leagues with 22 teams"
   ]
  },
  {
   "cell_type": "code",
   "execution_count": 11,
   "id": "bfc72bb4",
   "metadata": {},
   "outputs": [],
   "source": [
    "for i in range (0,20):\n",
    "    xg_fixer(prem_team_stats['common_name'][i], prem_team_stats, prem_games)\n",
    "    xg_fixer(laliga_team_stats['common_name'][i], laliga_team_stats, laliga_games)\n",
    "    xg_against_fixer(prem_team_stats['common_name'][i], prem_team_stats, prem_games)\n",
    "    xg_against_fixer(laliga_team_stats['common_name'][i], laliga_team_stats, laliga_games)\n",
    "#Filling correct xg for leagues with 20 teams"
   ]
  },
  {
   "cell_type": "code",
   "execution_count": 12,
   "id": "5d03b6c5",
   "metadata": {},
   "outputs": [],
   "source": [
    "def add_over_under(games_df):\n",
    "    games_df['over/under'] = np.where(games_df['home_team_goal_count'] + games_df['away_team_goal_count'] > 2.5, 1, 0)\n",
    "    #Add column that fills with 1 if a game is over 2.5 goals, and a 0 if under 2.5 go"
   ]
  },
  {
   "cell_type": "code",
   "execution_count": 13,
   "id": "24e58f79",
   "metadata": {},
   "outputs": [
    {
     "data": {
      "text/html": [
       "<div>\n",
       "<style scoped>\n",
       "    .dataframe tbody tr th:only-of-type {\n",
       "        vertical-align: middle;\n",
       "    }\n",
       "\n",
       "    .dataframe tbody tr th {\n",
       "        vertical-align: top;\n",
       "    }\n",
       "\n",
       "    .dataframe thead th {\n",
       "        text-align: right;\n",
       "    }\n",
       "</style>\n",
       "<table border=\"1\" class=\"dataframe\">\n",
       "  <thead>\n",
       "    <tr style=\"text-align: right;\">\n",
       "      <th></th>\n",
       "      <th>timestamp</th>\n",
       "      <th>date_GMT</th>\n",
       "      <th>status</th>\n",
       "      <th>attendance</th>\n",
       "      <th>home_team_name</th>\n",
       "      <th>away_team_name</th>\n",
       "      <th>referee</th>\n",
       "      <th>Game Week</th>\n",
       "      <th>Pre-Match PPG (Home)</th>\n",
       "      <th>Pre-Match PPG (Away)</th>\n",
       "      <th>...</th>\n",
       "      <th>odds_ft_home_team_win</th>\n",
       "      <th>odds_ft_draw</th>\n",
       "      <th>odds_ft_away_team_win</th>\n",
       "      <th>odds_ft_over15</th>\n",
       "      <th>odds_ft_over25</th>\n",
       "      <th>odds_ft_over35</th>\n",
       "      <th>odds_ft_over45</th>\n",
       "      <th>odds_btts_yes</th>\n",
       "      <th>odds_btts_no</th>\n",
       "      <th>stadium_name</th>\n",
       "    </tr>\n",
       "  </thead>\n",
       "  <tbody>\n",
       "    <tr>\n",
       "      <th>0</th>\n",
       "      <td>1628881200</td>\n",
       "      <td>Aug 13 2021 - 7:00pm</td>\n",
       "      <td>complete</td>\n",
       "      <td>16479.0</td>\n",
       "      <td>Brentford</td>\n",
       "      <td>Arsenal</td>\n",
       "      <td>Michael Oliver</td>\n",
       "      <td>1</td>\n",
       "      <td>0.0</td>\n",
       "      <td>0.0</td>\n",
       "      <td>...</td>\n",
       "      <td>3.90</td>\n",
       "      <td>3.40</td>\n",
       "      <td>2.05</td>\n",
       "      <td>1.43</td>\n",
       "      <td>2.20</td>\n",
       "      <td>3.75</td>\n",
       "      <td>7.25</td>\n",
       "      <td>1.95</td>\n",
       "      <td>2.00</td>\n",
       "      <td>Brentford Community Stadium (Brentford- Middle...</td>\n",
       "    </tr>\n",
       "    <tr>\n",
       "      <th>1</th>\n",
       "      <td>1628940600</td>\n",
       "      <td>Aug 14 2021 - 11:30am</td>\n",
       "      <td>complete</td>\n",
       "      <td>NaN</td>\n",
       "      <td>Manchester United</td>\n",
       "      <td>Leeds United</td>\n",
       "      <td>Paul Tierney</td>\n",
       "      <td>1</td>\n",
       "      <td>0.0</td>\n",
       "      <td>0.0</td>\n",
       "      <td>...</td>\n",
       "      <td>1.62</td>\n",
       "      <td>4.15</td>\n",
       "      <td>5.25</td>\n",
       "      <td>1.25</td>\n",
       "      <td>1.69</td>\n",
       "      <td>2.60</td>\n",
       "      <td>4.55</td>\n",
       "      <td>1.71</td>\n",
       "      <td>2.25</td>\n",
       "      <td>Old Trafford (Manchester)</td>\n",
       "    </tr>\n",
       "    <tr>\n",
       "      <th>2</th>\n",
       "      <td>1628949600</td>\n",
       "      <td>Aug 14 2021 - 2:00pm</td>\n",
       "      <td>complete</td>\n",
       "      <td>NaN</td>\n",
       "      <td>Burnley</td>\n",
       "      <td>Brighton &amp; Hove Albion</td>\n",
       "      <td>David Coote</td>\n",
       "      <td>1</td>\n",
       "      <td>0.0</td>\n",
       "      <td>0.0</td>\n",
       "      <td>...</td>\n",
       "      <td>3.20</td>\n",
       "      <td>3.00</td>\n",
       "      <td>2.31</td>\n",
       "      <td>1.43</td>\n",
       "      <td>2.35</td>\n",
       "      <td>4.40</td>\n",
       "      <td>8.25</td>\n",
       "      <td>2.10</td>\n",
       "      <td>1.83</td>\n",
       "      <td>Turf Moor (Burnley)</td>\n",
       "    </tr>\n",
       "  </tbody>\n",
       "</table>\n",
       "<p>3 rows × 64 columns</p>\n",
       "</div>"
      ],
      "text/plain": [
       "    timestamp               date_GMT    status  attendance     home_team_name  \\\n",
       "0  1628881200   Aug 13 2021 - 7:00pm  complete     16479.0          Brentford   \n",
       "1  1628940600  Aug 14 2021 - 11:30am  complete         NaN  Manchester United   \n",
       "2  1628949600   Aug 14 2021 - 2:00pm  complete         NaN            Burnley   \n",
       "\n",
       "           away_team_name         referee  Game Week  Pre-Match PPG (Home)  \\\n",
       "0                 Arsenal  Michael Oliver          1                   0.0   \n",
       "1            Leeds United    Paul Tierney          1                   0.0   \n",
       "2  Brighton & Hove Albion     David Coote          1                   0.0   \n",
       "\n",
       "   Pre-Match PPG (Away)  ...  odds_ft_home_team_win  odds_ft_draw  \\\n",
       "0                   0.0  ...                   3.90          3.40   \n",
       "1                   0.0  ...                   1.62          4.15   \n",
       "2                   0.0  ...                   3.20          3.00   \n",
       "\n",
       "   odds_ft_away_team_win  odds_ft_over15  odds_ft_over25  odds_ft_over35  \\\n",
       "0                   2.05            1.43            2.20            3.75   \n",
       "1                   5.25            1.25            1.69            2.60   \n",
       "2                   2.31            1.43            2.35            4.40   \n",
       "\n",
       "   odds_ft_over45  odds_btts_yes odds_btts_no  \\\n",
       "0            7.25           1.95         2.00   \n",
       "1            4.55           1.71         2.25   \n",
       "2            8.25           2.10         1.83   \n",
       "\n",
       "                                        stadium_name  \n",
       "0  Brentford Community Stadium (Brentford- Middle...  \n",
       "1                          Old Trafford (Manchester)  \n",
       "2                                Turf Moor (Burnley)  \n",
       "\n",
       "[3 rows x 64 columns]"
      ]
     },
     "execution_count": 13,
     "metadata": {},
     "output_type": "execute_result"
    }
   ],
   "source": [
    "prem_games.head(3)"
   ]
  },
  {
   "cell_type": "code",
   "execution_count": 14,
   "id": "09987b0c",
   "metadata": {},
   "outputs": [],
   "source": [
    "add_over_under(prem_games)\n",
    "add_over_under(champ_games)\n",
    "add_over_under(league_one_games)\n",
    "add_over_under(league_two_games)\n",
    "add_over_under(laliga_games)\n",
    "add_over_under(segunda_games)\n",
    "#Filling dfs with that over/under column"
   ]
  },
  {
   "cell_type": "code",
   "execution_count": 15,
   "id": "373d7a3b",
   "metadata": {},
   "outputs": [
    {
     "data": {
      "text/html": [
       "<div>\n",
       "<style scoped>\n",
       "    .dataframe tbody tr th:only-of-type {\n",
       "        vertical-align: middle;\n",
       "    }\n",
       "\n",
       "    .dataframe tbody tr th {\n",
       "        vertical-align: top;\n",
       "    }\n",
       "\n",
       "    .dataframe thead th {\n",
       "        text-align: right;\n",
       "    }\n",
       "</style>\n",
       "<table border=\"1\" class=\"dataframe\">\n",
       "  <thead>\n",
       "    <tr style=\"text-align: right;\">\n",
       "      <th></th>\n",
       "      <th>timestamp</th>\n",
       "      <th>date_GMT</th>\n",
       "      <th>status</th>\n",
       "      <th>attendance</th>\n",
       "      <th>home_team_name</th>\n",
       "      <th>away_team_name</th>\n",
       "      <th>referee</th>\n",
       "      <th>Game Week</th>\n",
       "      <th>Pre-Match PPG (Home)</th>\n",
       "      <th>Pre-Match PPG (Away)</th>\n",
       "      <th>...</th>\n",
       "      <th>odds_ft_draw</th>\n",
       "      <th>odds_ft_away_team_win</th>\n",
       "      <th>odds_ft_over15</th>\n",
       "      <th>odds_ft_over25</th>\n",
       "      <th>odds_ft_over35</th>\n",
       "      <th>odds_ft_over45</th>\n",
       "      <th>odds_btts_yes</th>\n",
       "      <th>odds_btts_no</th>\n",
       "      <th>stadium_name</th>\n",
       "      <th>over/under</th>\n",
       "    </tr>\n",
       "  </thead>\n",
       "  <tbody>\n",
       "    <tr>\n",
       "      <th>0</th>\n",
       "      <td>1628881200</td>\n",
       "      <td>Aug 13 2021 - 7:00pm</td>\n",
       "      <td>complete</td>\n",
       "      <td>16479.0</td>\n",
       "      <td>Brentford</td>\n",
       "      <td>Arsenal</td>\n",
       "      <td>Michael Oliver</td>\n",
       "      <td>1</td>\n",
       "      <td>0.0</td>\n",
       "      <td>0.0</td>\n",
       "      <td>...</td>\n",
       "      <td>3.40</td>\n",
       "      <td>2.05</td>\n",
       "      <td>1.43</td>\n",
       "      <td>2.20</td>\n",
       "      <td>3.75</td>\n",
       "      <td>7.25</td>\n",
       "      <td>1.95</td>\n",
       "      <td>2.00</td>\n",
       "      <td>Brentford Community Stadium (Brentford- Middle...</td>\n",
       "      <td>0</td>\n",
       "    </tr>\n",
       "    <tr>\n",
       "      <th>1</th>\n",
       "      <td>1628940600</td>\n",
       "      <td>Aug 14 2021 - 11:30am</td>\n",
       "      <td>complete</td>\n",
       "      <td>NaN</td>\n",
       "      <td>Manchester United</td>\n",
       "      <td>Leeds United</td>\n",
       "      <td>Paul Tierney</td>\n",
       "      <td>1</td>\n",
       "      <td>0.0</td>\n",
       "      <td>0.0</td>\n",
       "      <td>...</td>\n",
       "      <td>4.15</td>\n",
       "      <td>5.25</td>\n",
       "      <td>1.25</td>\n",
       "      <td>1.69</td>\n",
       "      <td>2.60</td>\n",
       "      <td>4.55</td>\n",
       "      <td>1.71</td>\n",
       "      <td>2.25</td>\n",
       "      <td>Old Trafford (Manchester)</td>\n",
       "      <td>1</td>\n",
       "    </tr>\n",
       "    <tr>\n",
       "      <th>2</th>\n",
       "      <td>1628949600</td>\n",
       "      <td>Aug 14 2021 - 2:00pm</td>\n",
       "      <td>complete</td>\n",
       "      <td>NaN</td>\n",
       "      <td>Burnley</td>\n",
       "      <td>Brighton &amp; Hove Albion</td>\n",
       "      <td>David Coote</td>\n",
       "      <td>1</td>\n",
       "      <td>0.0</td>\n",
       "      <td>0.0</td>\n",
       "      <td>...</td>\n",
       "      <td>3.00</td>\n",
       "      <td>2.31</td>\n",
       "      <td>1.43</td>\n",
       "      <td>2.35</td>\n",
       "      <td>4.40</td>\n",
       "      <td>8.25</td>\n",
       "      <td>2.10</td>\n",
       "      <td>1.83</td>\n",
       "      <td>Turf Moor (Burnley)</td>\n",
       "      <td>1</td>\n",
       "    </tr>\n",
       "  </tbody>\n",
       "</table>\n",
       "<p>3 rows × 65 columns</p>\n",
       "</div>"
      ],
      "text/plain": [
       "    timestamp               date_GMT    status  attendance     home_team_name  \\\n",
       "0  1628881200   Aug 13 2021 - 7:00pm  complete     16479.0          Brentford   \n",
       "1  1628940600  Aug 14 2021 - 11:30am  complete         NaN  Manchester United   \n",
       "2  1628949600   Aug 14 2021 - 2:00pm  complete         NaN            Burnley   \n",
       "\n",
       "           away_team_name         referee  Game Week  Pre-Match PPG (Home)  \\\n",
       "0                 Arsenal  Michael Oliver          1                   0.0   \n",
       "1            Leeds United    Paul Tierney          1                   0.0   \n",
       "2  Brighton & Hove Albion     David Coote          1                   0.0   \n",
       "\n",
       "   Pre-Match PPG (Away)  ...  odds_ft_draw  odds_ft_away_team_win  \\\n",
       "0                   0.0  ...          3.40                   2.05   \n",
       "1                   0.0  ...          4.15                   5.25   \n",
       "2                   0.0  ...          3.00                   2.31   \n",
       "\n",
       "   odds_ft_over15  odds_ft_over25  odds_ft_over35  odds_ft_over45  \\\n",
       "0            1.43            2.20            3.75            7.25   \n",
       "1            1.25            1.69            2.60            4.55   \n",
       "2            1.43            2.35            4.40            8.25   \n",
       "\n",
       "   odds_btts_yes  odds_btts_no  \\\n",
       "0           1.95          2.00   \n",
       "1           1.71          2.25   \n",
       "2           2.10          1.83   \n",
       "\n",
       "                                        stadium_name over/under  \n",
       "0  Brentford Community Stadium (Brentford- Middle...          0  \n",
       "1                          Old Trafford (Manchester)          1  \n",
       "2                                Turf Moor (Burnley)          1  \n",
       "\n",
       "[3 rows x 65 columns]"
      ]
     },
     "execution_count": 15,
     "metadata": {},
     "output_type": "execute_result"
    }
   ],
   "source": [
    "prem_games.head(3)"
   ]
  },
  {
   "cell_type": "markdown",
   "id": "6fb3e371",
   "metadata": {},
   "source": [
    "# Fill Stats"
   ]
  },
  {
   "cell_type": "code",
   "execution_count": 16,
   "id": "0d4aef9b",
   "metadata": {},
   "outputs": [],
   "source": [
    "champ_games['home_xg'] = \"\"\n",
    "champ_games['away_xg'] = \"\"\n",
    "champ_games['home_xg_against'] = \"\"\n",
    "champ_games['away_xg_against'] = \"\"\n",
    "champ_games['home_total_corners'] = \"\"\n",
    "champ_games['away_total_corners'] = \"\"\n",
    "\n",
    "laliga_games['home_xg'] = \"\"\n",
    "laliga_games['away_xg'] = \"\"\n",
    "laliga_games['home_xg_against'] = \"\"\n",
    "laliga_games['away_xg_against'] = \"\"\n",
    "laliga_games['home_total_corners'] = \"\"\n",
    "laliga_games['away_total_corners'] = \"\"\n",
    "\n",
    "segunda_games['home_xg'] = \"\"\n",
    "segunda_games['away_xg'] = \"\"\n",
    "segunda_games['home_xg_against'] = \"\"\n",
    "segunda_games['away_xg_against'] = \"\"\n",
    "segunda_games['home_total_corners'] = \"\"\n",
    "segunda_games['away_total_corners'] = \"\"\n",
    "\n",
    "league_one_games['home_xg'] = \"\"\n",
    "league_one_games['away_xg'] = \"\"\n",
    "league_one_games['home_xg_against'] = \"\"\n",
    "league_one_games['away_xg_against'] = \"\"\n",
    "league_one_games['home_total_corners'] = \"\"\n",
    "league_one_games['away_total_corners'] = \"\"\n",
    "\n",
    "league_two_games['home_xg'] = \"\"\n",
    "league_two_games['away_xg'] = \"\"\n",
    "league_two_games['home_xg_against'] = \"\"\n",
    "league_two_games['away_xg_against'] = \"\"\n",
    "league_two_games['home_total_corners'] = \"\"\n",
    "league_two_games['away_total_corners'] = \"\"\n",
    "\n",
    "prem_games['home_xg'] = \"\"\n",
    "prem_games['away_xg'] = \"\"\n",
    "prem_games['home_xg_against'] = \"\"\n",
    "prem_games['away_xg_against'] = \"\"\n",
    "prem_games['home_total_corners'] = \"\"\n",
    "prem_games['away_total_corners'] = \"\"\n",
    "\n",
    "# Creating new columns where our xg and corner data will go -- need this in the Games df"
   ]
  },
  {
   "cell_type": "code",
   "execution_count": 17,
   "id": "738ff292",
   "metadata": {},
   "outputs": [],
   "source": [
    "prem_xg_stats = dict(prem_team_stats[['common_name', 'real_xg']].values)\n",
    "prem_corner_stats = dict(prem_team_stats[['common_name', 'corners_per_match']].values)\n",
    "prem_xga_stats = dict(prem_team_stats[['common_name', 'real_xga']].values)\n",
    "champ_xg_stats = dict(champ_team_stats[['common_name', 'real_xg']].values)\n",
    "champ_corner_stats = dict(champ_team_stats[['common_name', 'corners_per_match']].values)\n",
    "champ_xga_stats = dict(champ_team_stats[['common_name', 'real_xga']].values)\n",
    "league_one_xg_stats = dict(league_one_team_stats[['common_name', 'real_xg']].values)\n",
    "league_one_corner_stats = dict(league_one_team_stats[['common_name', 'corners_per_match']].values)\n",
    "league_one_xga_stats = dict(league_one_team_stats[['common_name', 'real_xga']].values)\n",
    "league_two_xg_stats = dict(league_two_team_stats[['common_name', 'real_xg']].values)\n",
    "league_two_corner_stats = dict(league_two_team_stats[['common_name', 'corners_per_match']].values)\n",
    "league_two_xga_stats = dict(league_two_team_stats[['common_name', 'real_xga']].values)\n",
    "laliga_xg_stats = dict(laliga_team_stats[['common_name', 'real_xg']].values)\n",
    "laliga_corner_stats = dict(laliga_team_stats[['common_name', 'real_xg']].values)\n",
    "laliga_xga_stats = dict(laliga_team_stats[['common_name', 'real_xg']].values)\n",
    "segunda_xg_stats = dict(segunda_team_stats[['common_name', 'real_xg']].values)\n",
    "segunda_corner_stats = dict(segunda_team_stats[['common_name', 'corners_per_match']].values)\n",
    "segunda_xga_stats = dict(segunda_team_stats[['common_name', 'real_xga']].values)\n",
    "#creating new variables for the average stats -- eventually will go into the champ_games df\n",
    "#By making this into dictionaries, it will be easier to call them/update them with the function"
   ]
  },
  {
   "cell_type": "code",
   "execution_count": 18,
   "id": "aae7249c",
   "metadata": {},
   "outputs": [],
   "source": [
    "def fill_stats(team, games, xg_stats, xga_stats, corner_stats):\n",
    "    games['home_xg'] = np.where(games['home_team_name'] == team, xg_stats[team], games['home_xg'])\n",
    "    games['away_xg'] = np.where(games['away_team_name'] == team, xg_stats[team], games['away_xg'])\n",
    "    games['home_xg_against'] = np.where(games['home_team_name'] == team, xga_stats[team], games['home_xg_against'])\n",
    "    games['away_xg_against'] = np.where(games['away_team_name'] == team, xga_stats[team], games['away_xg_against'])\n",
    "    games['home_total_corners'] = np.where(games['home_team_name'] == team, corner_stats[team], games['home_total_corners'])\n",
    "    games['away_total_corners'] = np.where(games['away_team_name'] == team, corner_stats[team], games['away_total_corners'])\n",
    "#Function to put team stats into games dataframe"
   ]
  },
  {
   "cell_type": "code",
   "execution_count": null,
   "id": "018587b6",
   "metadata": {},
   "outputs": [],
   "source": [
    "for i in range (0,24):\n",
    "    fill_stats(champ_team_stats['common_name'][i], champ_games, champ_xg_stats, champ_xga_stats, champ_corner_stats)\n",
    "    fill_stats(league_one_team_stats['common_name'][i], league_one_games, league_one_xg_stats, league_one_xga_stats, league_one_corner_stats)\n",
    "    fill_stats(league_two_team_stats['common_name'][i], league_two_games, league_two_xg_stats, league_two_xga_stats, league_two_corner_stats)"
   ]
  },
  {
   "cell_type": "markdown",
   "id": "c94ef9b3",
   "metadata": {},
   "source": [
    "22 Team Leagues"
   ]
  },
  {
   "cell_type": "code",
   "execution_count": null,
   "id": "4c7291e3",
   "metadata": {},
   "outputs": [],
   "source": [
    "for i in range (0,22):\n",
    "    fill_stats(segunda_team_stats['common_name'][i], segunda_games, segunda_xg_stats, segunda_xga_stats, segunda_corner_stats)"
   ]
  },
  {
   "cell_type": "markdown",
   "id": "10b01cfc",
   "metadata": {},
   "source": [
    "20 Team Leagues"
   ]
  },
  {
   "cell_type": "code",
   "execution_count": null,
   "id": "216e62ee",
   "metadata": {},
   "outputs": [],
   "source": [
    "for i in range (0,20):\n",
    "    fill_stats(laliga_team_stats['common_name'][i], laliga_games, laliga_xg_stats, laliga_xga_stats, laliga_corner_stats)\n",
    "    fill_stats(prem_team_stats['common_name'][i], prem_games, prem_xg_stats, prem_xga_stats, prem_corner_stats)"
   ]
  },
  {
   "cell_type": "markdown",
   "id": "0f1a68f0",
   "metadata": {},
   "source": [
    "# Prem Modeling"
   ]
  },
  {
   "cell_type": "code",
   "execution_count": null,
   "id": "399ea510",
   "metadata": {},
   "outputs": [],
   "source": [
    "features = ['home_xg', 'away_xg', 'home_xg_against', 'away_xg_against']\n",
    "X = prem_games.loc[prem_games['status'] == 'complete'][features]\n",
    "y = prem_games.loc[prem_games['status'] == 'complete']['over/under']\n",
    "#Using only the completed games in the model"
   ]
  },
  {
   "cell_type": "code",
   "execution_count": null,
   "id": "bf160267",
   "metadata": {},
   "outputs": [],
   "source": [
    "X_train, X_test, y_train, y_test = train_test_split(X, y, test_size = 0.2, random_state = 42)"
   ]
  },
  {
   "cell_type": "markdown",
   "id": "49423686",
   "metadata": {},
   "source": [
    "For now, I am going to table trying to predict a \"matchweek's\" games. There are too many cancellations happening and at the moment it is so unpredictable that continuing to write code for a matchweek is not working. Instead I will split all of the complete games and try to optimize the previous results from this season."
   ]
  },
  {
   "cell_type": "code",
   "execution_count": null,
   "id": "b3d53793",
   "metadata": {},
   "outputs": [],
   "source": [
    "logreg = LogisticRegression()\n",
    "knn = KNeighborsClassifier()\n",
    "dt = DecisionTreeClassifier()"
   ]
  },
  {
   "cell_type": "code",
   "execution_count": null,
   "id": "90fb1bb3",
   "metadata": {},
   "outputs": [],
   "source": [
    "logreg.fit(X_train, y_train)\n",
    "#Fit it on the data"
   ]
  },
  {
   "cell_type": "code",
   "execution_count": null,
   "id": "521d899b",
   "metadata": {},
   "outputs": [],
   "source": [
    "preds = logreg.predict(X_test)\n",
    "#Get our predictions"
   ]
  },
  {
   "cell_type": "code",
   "execution_count": null,
   "id": "8a27736a",
   "metadata": {},
   "outputs": [],
   "source": [
    "accuracy_score(y_test, preds)"
   ]
  },
  {
   "cell_type": "code",
   "execution_count": null,
   "id": "90c34c63",
   "metadata": {},
   "outputs": [],
   "source": [
    "knn.fit(X_train, y_train)\n",
    "#Fit it on the data"
   ]
  },
  {
   "cell_type": "code",
   "execution_count": null,
   "id": "d0625763",
   "metadata": {},
   "outputs": [],
   "source": [
    "preds = knn.predict(X_test)\n",
    "#Get our predictions"
   ]
  },
  {
   "cell_type": "code",
   "execution_count": null,
   "id": "e637ad2c",
   "metadata": {},
   "outputs": [],
   "source": [
    "accuracy_score(y_test, preds)"
   ]
  },
  {
   "cell_type": "code",
   "execution_count": null,
   "id": "ae1c3884",
   "metadata": {},
   "outputs": [],
   "source": [
    "dt.fit(X_train, y_train)\n",
    "#Fit it on the data"
   ]
  },
  {
   "cell_type": "code",
   "execution_count": null,
   "id": "3a176100",
   "metadata": {},
   "outputs": [],
   "source": [
    "preds = dt.predict(X_test)\n",
    "#Get our predictions"
   ]
  },
  {
   "cell_type": "code",
   "execution_count": null,
   "id": "65bcdb09",
   "metadata": {},
   "outputs": [],
   "source": [
    "accuracy_score(y_test, preds)"
   ]
  },
  {
   "cell_type": "markdown",
   "id": "178d2d0e",
   "metadata": {},
   "source": [
    "# Champ Modeling"
   ]
  },
  {
   "cell_type": "code",
   "execution_count": null,
   "id": "4ff3cb75",
   "metadata": {},
   "outputs": [],
   "source": [
    "features = ['home_xg', 'away_xg', 'home_xg_against', 'away_xg_against']\n",
    "X = champ_games.loc[champ_games['status'] == 'complete'][features]\n",
    "y = champ_games.loc[champ_games['status'] == 'complete']['over/under']\n",
    "#Using only the completed games in the model"
   ]
  },
  {
   "cell_type": "code",
   "execution_count": null,
   "id": "3d0f1538",
   "metadata": {},
   "outputs": [],
   "source": [
    "X_train, X_test, y_train, y_test = train_test_split(X, y, test_size = 0.2, random_state = 42)"
   ]
  },
  {
   "cell_type": "code",
   "execution_count": null,
   "id": "c7f4a1b8",
   "metadata": {},
   "outputs": [],
   "source": [
    "logreg = LogisticRegression()\n",
    "knn = KNeighborsClassifier()\n",
    "dt = DecisionTreeClassifier()"
   ]
  },
  {
   "cell_type": "code",
   "execution_count": null,
   "id": "85209676",
   "metadata": {},
   "outputs": [],
   "source": [
    "logreg.fit(X_train, y_train)\n",
    "#Fit it on the data"
   ]
  },
  {
   "cell_type": "code",
   "execution_count": null,
   "id": "909d0754",
   "metadata": {},
   "outputs": [],
   "source": [
    "preds = logreg.predict(X_test)\n",
    "#Get our predictions"
   ]
  },
  {
   "cell_type": "code",
   "execution_count": null,
   "id": "eae57bfa",
   "metadata": {},
   "outputs": [],
   "source": [
    "accuracy_score(y_test, preds)"
   ]
  },
  {
   "cell_type": "code",
   "execution_count": null,
   "id": "41d5f0ce",
   "metadata": {},
   "outputs": [],
   "source": [
    "knn.fit(X_train, y_train)\n",
    "#Fit it on the data"
   ]
  },
  {
   "cell_type": "code",
   "execution_count": null,
   "id": "3a921195",
   "metadata": {},
   "outputs": [],
   "source": [
    "preds = knn.predict(X_test)\n",
    "#Get our predictions"
   ]
  },
  {
   "cell_type": "code",
   "execution_count": null,
   "id": "3b2dd836",
   "metadata": {},
   "outputs": [],
   "source": [
    "accuracy_score(y_test, preds)"
   ]
  },
  {
   "cell_type": "code",
   "execution_count": null,
   "id": "5707d973",
   "metadata": {},
   "outputs": [],
   "source": [
    "dt.fit(X_train, y_train)\n",
    "#Fit it on the data"
   ]
  },
  {
   "cell_type": "code",
   "execution_count": null,
   "id": "ef39eede",
   "metadata": {},
   "outputs": [],
   "source": [
    "preds = dt.predict(X_test)\n",
    "#Get our predictions"
   ]
  },
  {
   "cell_type": "code",
   "execution_count": null,
   "id": "6ef2a597",
   "metadata": {},
   "outputs": [],
   "source": [
    "accuracy_score(y_test, preds)"
   ]
  },
  {
   "cell_type": "markdown",
   "id": "f177a038",
   "metadata": {},
   "source": [
    "# League One Modeling"
   ]
  },
  {
   "cell_type": "code",
   "execution_count": null,
   "id": "2230e78f",
   "metadata": {},
   "outputs": [],
   "source": [
    "features = ['home_xg', 'away_xg', 'home_xg_against', 'away_xg_against']\n",
    "X = league_one_games.loc[league_one_games['status'] == 'complete'][features]\n",
    "y = league_one_games.loc[league_one_games['status'] == 'complete']['over/under']\n",
    "#Using only the completed games in the model"
   ]
  },
  {
   "cell_type": "code",
   "execution_count": null,
   "id": "0ff7f316",
   "metadata": {},
   "outputs": [],
   "source": [
    "X_train, X_test, y_train, y_test = train_test_split(X, y, test_size = 0.2, random_state = 42)"
   ]
  },
  {
   "cell_type": "code",
   "execution_count": null,
   "id": "8839b5d4",
   "metadata": {},
   "outputs": [],
   "source": [
    "logreg = LogisticRegression()\n",
    "knn = KNeighborsClassifier()\n",
    "dt = DecisionTreeClassifier()"
   ]
  },
  {
   "cell_type": "code",
   "execution_count": null,
   "id": "9d4d4234",
   "metadata": {},
   "outputs": [],
   "source": [
    "logreg.fit(X_train, y_train)\n",
    "#Fit it on the data"
   ]
  },
  {
   "cell_type": "code",
   "execution_count": null,
   "id": "db6f3609",
   "metadata": {},
   "outputs": [],
   "source": [
    "preds = logreg.predict(X_test)\n",
    "#Get our predictions"
   ]
  },
  {
   "cell_type": "code",
   "execution_count": null,
   "id": "e109e119",
   "metadata": {},
   "outputs": [],
   "source": [
    "accuracy_score(y_test, preds)"
   ]
  },
  {
   "cell_type": "code",
   "execution_count": null,
   "id": "9c90bca2",
   "metadata": {},
   "outputs": [],
   "source": [
    "knn.fit(X_train, y_train)\n",
    "#Fit it on the data"
   ]
  },
  {
   "cell_type": "code",
   "execution_count": null,
   "id": "c07afaaa",
   "metadata": {},
   "outputs": [],
   "source": [
    "preds = knn.predict(X_test)\n",
    "#Get our predictions"
   ]
  },
  {
   "cell_type": "code",
   "execution_count": null,
   "id": "913c6f9c",
   "metadata": {},
   "outputs": [],
   "source": [
    "accuracy_score(y_test, preds)"
   ]
  },
  {
   "cell_type": "code",
   "execution_count": null,
   "id": "22bf13cd",
   "metadata": {},
   "outputs": [],
   "source": [
    "dt.fit(X_train, y_train)\n",
    "#Fit it on the data"
   ]
  },
  {
   "cell_type": "code",
   "execution_count": null,
   "id": "4266a21c",
   "metadata": {},
   "outputs": [],
   "source": [
    "preds = dt.predict(X_test)\n",
    "#Get our predictions"
   ]
  },
  {
   "cell_type": "code",
   "execution_count": null,
   "id": "4132a72a",
   "metadata": {},
   "outputs": [],
   "source": [
    "accuracy_score(y_test, preds)"
   ]
  },
  {
   "cell_type": "markdown",
   "id": "c7cf9821",
   "metadata": {},
   "source": [
    "# League Two Modeling"
   ]
  },
  {
   "cell_type": "code",
   "execution_count": null,
   "id": "c262e018",
   "metadata": {},
   "outputs": [],
   "source": [
    "features = ['home_xg', 'away_xg', 'home_xg_against', 'away_xg_against']\n",
    "X = league_two_games.loc[league_two_games['status'] == 'complete'][features]\n",
    "y = league_two_games.loc[league_two_games['status'] == 'complete']['over/under']\n",
    "#Using only the completed games in the model"
   ]
  },
  {
   "cell_type": "code",
   "execution_count": null,
   "id": "ec189ee8",
   "metadata": {},
   "outputs": [],
   "source": [
    "X_train, X_test, y_train, y_test = train_test_split(X, y, test_size = 0.2, random_state = 42)"
   ]
  },
  {
   "cell_type": "code",
   "execution_count": null,
   "id": "cb7a8ed5",
   "metadata": {},
   "outputs": [],
   "source": [
    "logreg = LogisticRegression()\n",
    "knn = KNeighborsClassifier()\n",
    "dt = DecisionTreeClassifier()"
   ]
  },
  {
   "cell_type": "code",
   "execution_count": null,
   "id": "e388d97b",
   "metadata": {},
   "outputs": [],
   "source": [
    "logreg.fit(X_train, y_train)\n",
    "#Fit it on the data"
   ]
  },
  {
   "cell_type": "code",
   "execution_count": null,
   "id": "2a930f72",
   "metadata": {},
   "outputs": [],
   "source": [
    "preds = logreg.predict(X_test)\n",
    "#Get our predictions"
   ]
  },
  {
   "cell_type": "code",
   "execution_count": null,
   "id": "ec7436c2",
   "metadata": {},
   "outputs": [],
   "source": [
    "accuracy_score(y_test, preds)"
   ]
  },
  {
   "cell_type": "code",
   "execution_count": null,
   "id": "812e77c9",
   "metadata": {},
   "outputs": [],
   "source": [
    "knn.fit(X_train, y_train)"
   ]
  },
  {
   "cell_type": "code",
   "execution_count": null,
   "id": "ac4132da",
   "metadata": {},
   "outputs": [],
   "source": [
    "preds = knn.predict(X_test)\n",
    "#Get our predictions"
   ]
  },
  {
   "cell_type": "code",
   "execution_count": null,
   "id": "04a62751",
   "metadata": {},
   "outputs": [],
   "source": [
    "accuracy_score(y_test, preds)"
   ]
  },
  {
   "cell_type": "code",
   "execution_count": null,
   "id": "95d9d321",
   "metadata": {},
   "outputs": [],
   "source": [
    "dt.fit(X_train, y_train)"
   ]
  },
  {
   "cell_type": "code",
   "execution_count": null,
   "id": "c7946db6",
   "metadata": {},
   "outputs": [],
   "source": [
    "preds = dt.predict(X_test)\n",
    "#Get our predictions"
   ]
  },
  {
   "cell_type": "code",
   "execution_count": null,
   "id": "415bf4f7",
   "metadata": {},
   "outputs": [],
   "source": [
    "accuracy_score(y_test, preds)"
   ]
  },
  {
   "cell_type": "markdown",
   "id": "47a2e6d1",
   "metadata": {},
   "source": [
    "# La Liga Modeling"
   ]
  },
  {
   "cell_type": "code",
   "execution_count": null,
   "id": "58bf88b9",
   "metadata": {},
   "outputs": [],
   "source": [
    "features = ['home_xg', 'away_xg', 'home_xg_against', 'away_xg_against']\n",
    "X = champ_games.loc[champ_games['status'] == 'complete'][features]\n",
    "y = champ_games.loc[champ_games['status'] == 'complete']['over/under']\n",
    "#Using only the completed games in the model"
   ]
  },
  {
   "cell_type": "code",
   "execution_count": null,
   "id": "96a9a6f4",
   "metadata": {},
   "outputs": [],
   "source": [
    "X_train, X_test, y_train, y_test = train_test_split(X, y, test_size = 0.2, random_state = 42)"
   ]
  },
  {
   "cell_type": "code",
   "execution_count": null,
   "id": "70c8bf2a",
   "metadata": {},
   "outputs": [],
   "source": [
    "logreg = LogisticRegression()\n",
    "knn = KNeighborsClassifier()\n",
    "dt = DecisionTreeClassifier()"
   ]
  },
  {
   "cell_type": "code",
   "execution_count": null,
   "id": "c93386ec",
   "metadata": {},
   "outputs": [],
   "source": [
    "logreg.fit(X_train, y_train)\n",
    "#Fit it on the data"
   ]
  },
  {
   "cell_type": "code",
   "execution_count": null,
   "id": "c4a1ec9f",
   "metadata": {},
   "outputs": [],
   "source": [
    "preds = logreg.predict(X_test)\n",
    "#Get our predictions"
   ]
  },
  {
   "cell_type": "code",
   "execution_count": null,
   "id": "6a645513",
   "metadata": {},
   "outputs": [],
   "source": [
    "accuracy_score(y_test, preds)"
   ]
  },
  {
   "cell_type": "markdown",
   "id": "38212b60",
   "metadata": {},
   "source": [
    "# Segunda Modeling"
   ]
  },
  {
   "cell_type": "code",
   "execution_count": null,
   "id": "5ad73779",
   "metadata": {},
   "outputs": [],
   "source": [
    "features = ['home_xg', 'away_xg', 'home_xg_against', 'away_xg_against']\n",
    "X = segunda_games.loc[segunda_games['status'] == 'complete'][features]\n",
    "y = segunda_games.loc[segunda_games['status'] == 'complete']['over/under']\n",
    "#Using only the completed games in the model"
   ]
  },
  {
   "cell_type": "code",
   "execution_count": null,
   "id": "896a4915",
   "metadata": {},
   "outputs": [],
   "source": [
    "X_train, X_test, y_train, y_test = train_test_split(X, y, test_size = 0.2, random_state = 42)"
   ]
  },
  {
   "cell_type": "code",
   "execution_count": null,
   "id": "0e7344c6",
   "metadata": {},
   "outputs": [],
   "source": [
    "logreg = LogisticRegression()\n",
    "knn = KNeighborsClassifier()\n",
    "dt = DecisionTreeClassifier()"
   ]
  },
  {
   "cell_type": "code",
   "execution_count": null,
   "id": "4bf84fd0",
   "metadata": {},
   "outputs": [],
   "source": [
    "logreg.fit(X_train, y_train)\n",
    "#Fit it on the data"
   ]
  },
  {
   "cell_type": "code",
   "execution_count": null,
   "id": "9a124243",
   "metadata": {},
   "outputs": [],
   "source": [
    "preds = logreg.predict(X_test)\n",
    "#Get our predictions"
   ]
  },
  {
   "cell_type": "code",
   "execution_count": null,
   "id": "628d5f06",
   "metadata": {},
   "outputs": [],
   "source": [
    "accuracy_score(y_test, preds)"
   ]
  },
  {
   "cell_type": "markdown",
   "id": "74402a5d",
   "metadata": {},
   "source": [
    "# Predicting Future Games"
   ]
  },
  {
   "cell_type": "markdown",
   "id": "b586bbc5",
   "metadata": {},
   "source": [
    "Because of the current postponement of certain games, I am putting this part of the project on hold, I will be optimizing the models and trying different modeling techniques like kNN, Decision Trees, etc. to see which works bets in the meantime. The general idea of this modeling is to split the data myself so that the test data consists of the matchweek's upcoming games, because those are the ones we want to predict"
   ]
  },
  {
   "cell_type": "code",
   "execution_count": null,
   "id": "0a7becc4",
   "metadata": {},
   "outputs": [],
   "source": [
    "features = ['home_xg', 'home_xg_against', 'away_xg', 'away_xg_against']\n",
    "X_train = prem_games[0:len(prem_games.loc[prem_games['status'] == 'complete'])][features]\n",
    "X_test = prem_games[len(prem_games.loc[prem_games['status'] == 'complete']):len(prem_games.loc[prem_games['status'] == 'complete']) + 10][features]\n",
    "y_train = prem_games[0:len(prem_games.loc[prem_games['status'] == 'complete'])]['over/under']\n",
    "y_test = prem_games[len(prem_games.loc[prem_games['status'] == 'complete']):len(prem_games.loc[prem_games['status'] == 'complete']) + 10]['over/under']\n",
    "\n",
    "#Explanation of code: for X_train, we want to train the data on the matches that have already been played, so we take the values\n",
    "# of all the matches that have been played (0: len(completed matches)\n",
    "# for X_test, we take the next 10 games -- the ones we want to predict (len(completed matches) : len(completed matches ) + 10) because 10 games/week"
   ]
  },
  {
   "cell_type": "markdown",
   "id": "1dc3309b",
   "metadata": {},
   "source": [
    "I'm also planning on some more model optimization such as cross validation and trying new modeling techniques like Naive Bayes and Random Forest, then I'd like to move more into which team will win, engineering more features etc."
   ]
  },
  {
   "cell_type": "code",
   "execution_count": null,
   "id": "bff6147f",
   "metadata": {},
   "outputs": [],
   "source": []
  }
 ],
 "metadata": {
  "kernelspec": {
   "display_name": "Python 3 (ipykernel)",
   "language": "python",
   "name": "python3"
  },
  "language_info": {
   "codemirror_mode": {
    "name": "ipython",
    "version": 3
   },
   "file_extension": ".py",
   "mimetype": "text/x-python",
   "name": "python",
   "nbconvert_exporter": "python",
   "pygments_lexer": "ipython3",
   "version": "3.9.7"
  }
 },
 "nbformat": 4,
 "nbformat_minor": 5
}
