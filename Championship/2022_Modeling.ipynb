{
 "cells": [
  {
   "cell_type": "code",
   "execution_count": 1,
   "metadata": {},
   "outputs": [],
   "source": [
    "import pandas as pd\n",
    "import numpy as np\n",
    "import seaborn as sns\n",
    "import matplotlib.pyplot as plt\n",
    "from sklearn.model_selection import train_test_split, cross_val_score, GridSearchCV\n",
    "from sklearn.metrics import accuracy_score\n",
    "from sklearn.preprocessing import StandardScaler, PolynomialFeatures\n",
    "from sklearn.neighbors import KNeighborsClassifier\n",
    "from sklearn.svm import SVR\n",
    "from sklearn.decomposition import PCA\n",
    "from sklearn.linear_model import LogisticRegression\n",
    "from sklearn.tree import DecisionTreeClassifier"
   ]
  },
  {
   "cell_type": "code",
   "execution_count": 12,
   "metadata": {},
   "outputs": [],
   "source": [
    "team_stats = pd.read_csv('../../footy_data/england-championship-teams-2021-to-2022-stats.csv')\n",
    "games = pd.read_csv('../../footy_data/england-championship-matches-2021-to-2022-stats.csv')"
   ]
  },
  {
   "cell_type": "code",
   "execution_count": 13,
   "metadata": {},
   "outputs": [],
   "source": [
    "games_for_later = games\n",
    "#I am saving this new variable so it will be the original df when I want to include games that are 'incomplete' later"
   ]
  },
  {
   "cell_type": "code",
   "execution_count": 14,
   "metadata": {},
   "outputs": [],
   "source": [
    "games['over/under'] = np.where(games['home_team_goal_count'] + games['away_team_goal_count'] > 2.5, 1, 0)\n",
    "# Adding column 0 represents under 2.5, 1 represents over 2.5"
   ]
  },
  {
   "cell_type": "code",
   "execution_count": 15,
   "metadata": {},
   "outputs": [],
   "source": [
    "games = games.loc[games['status'] == 'complete']\n",
    "#We only want games that have been completed"
   ]
  },
  {
   "cell_type": "code",
   "execution_count": 16,
   "metadata": {},
   "outputs": [],
   "source": [
    "team_stats['avg_home_xg_for_home_team'] = \"\"\n",
    "team_stats['avg_away_xg_against_home_team'] = \"\"\n",
    "team_stats['avg_xg_for_home_team'] = \"\"\n",
    "team_stats['avg_xg_against_home_team'] = \"\"\n",
    "team_stats['avg_home_xg_for_away_team'] = \"\"\n",
    "team_stats['avg_away_xg_against_away_team'] = \"\"\n",
    "team_stats['avg_xg_for_away_team'] = \"\"\n",
    "team_stats['avg_xg_against_away_team'] = \"\"\n",
    "#Creating average xG and xGA for each team myself because FootyStats is too lazy to put it correctly in the spreadsheet"
   ]
  },
  {
   "cell_type": "code",
   "execution_count": 17,
   "metadata": {},
   "outputs": [],
   "source": [
    "# #CODE TO FIX XG AND XGA HERE, use numpy\n",
    "# #average of home_team = common_name[0]xgfor and away_team = common_name[0] xgfor\n",
    "# def get_avg_xg(team):\n",
    "#     avg_for = games.loc[games['home_team_name'] == team_stats[team]\n",
    "#     avg_for = avg_stoke.append(games.loc[games['away_team_name'] == team_stats['common_name'][0]])"
   ]
  },
  {
   "cell_type": "code",
   "execution_count": 18,
   "metadata": {},
   "outputs": [
    {
     "name": "stderr",
     "output_type": "stream",
     "text": [
      "<ipython-input-18-c9fa362d6826>:1: SettingWithCopyWarning: \n",
      "A value is trying to be set on a copy of a slice from a DataFrame.\n",
      "Try using .loc[row_indexer,col_indexer] = value instead\n",
      "\n",
      "See the caveats in the documentation: https://pandas.pydata.org/pandas-docs/stable/user_guide/indexing.html#returning-a-view-versus-a-copy\n",
      "  games['home_xg'] = \"\"\n",
      "<ipython-input-18-c9fa362d6826>:2: SettingWithCopyWarning: \n",
      "A value is trying to be set on a copy of a slice from a DataFrame.\n",
      "Try using .loc[row_indexer,col_indexer] = value instead\n",
      "\n",
      "See the caveats in the documentation: https://pandas.pydata.org/pandas-docs/stable/user_guide/indexing.html#returning-a-view-versus-a-copy\n",
      "  games['away_xg'] = \"\"\n",
      "<ipython-input-18-c9fa362d6826>:3: SettingWithCopyWarning: \n",
      "A value is trying to be set on a copy of a slice from a DataFrame.\n",
      "Try using .loc[row_indexer,col_indexer] = value instead\n",
      "\n",
      "See the caveats in the documentation: https://pandas.pydata.org/pandas-docs/stable/user_guide/indexing.html#returning-a-view-versus-a-copy\n",
      "  games['home_xg_against'] = \"\"\n",
      "<ipython-input-18-c9fa362d6826>:4: SettingWithCopyWarning: \n",
      "A value is trying to be set on a copy of a slice from a DataFrame.\n",
      "Try using .loc[row_indexer,col_indexer] = value instead\n",
      "\n",
      "See the caveats in the documentation: https://pandas.pydata.org/pandas-docs/stable/user_guide/indexing.html#returning-a-view-versus-a-copy\n",
      "  games['away_xg_against'] = \"\"\n",
      "<ipython-input-18-c9fa362d6826>:5: SettingWithCopyWarning: \n",
      "A value is trying to be set on a copy of a slice from a DataFrame.\n",
      "Try using .loc[row_indexer,col_indexer] = value instead\n",
      "\n",
      "See the caveats in the documentation: https://pandas.pydata.org/pandas-docs/stable/user_guide/indexing.html#returning-a-view-versus-a-copy\n",
      "  games['home_total_corners'] = \"\"\n",
      "<ipython-input-18-c9fa362d6826>:6: SettingWithCopyWarning: \n",
      "A value is trying to be set on a copy of a slice from a DataFrame.\n",
      "Try using .loc[row_indexer,col_indexer] = value instead\n",
      "\n",
      "See the caveats in the documentation: https://pandas.pydata.org/pandas-docs/stable/user_guide/indexing.html#returning-a-view-versus-a-copy\n",
      "  games['away_total_corners'] = \"\"\n"
     ]
    }
   ],
   "source": [
    "games['home_xg'] = \"\"\n",
    "games['away_xg'] = \"\"\n",
    "games['home_xg_against'] = \"\"\n",
    "games['away_xg_against'] = \"\"\n",
    "games['home_total_corners'] = \"\"\n",
    "games['away_total_corners'] = \"\"\n",
    "\n",
    "# Creating new columns where our data will go"
   ]
  },
  {
   "cell_type": "markdown",
   "metadata": {},
   "source": [
    "Let's write a function to help fill xg in our games df"
   ]
  },
  {
   "cell_type": "code",
   "execution_count": 19,
   "metadata": {},
   "outputs": [],
   "source": [
    "xg_stats = team_stats[['common_name', 'xg_for_avg_overall']]\n",
    "corner_stats = team_stats[['common_name', 'corners_per_match']]\n",
    "xga_stats = team_stats[['common_name', 'xg_against_avg_overall']]"
   ]
  },
  {
   "cell_type": "code",
   "execution_count": 20,
   "metadata": {},
   "outputs": [],
   "source": [
    "xg_stats = dict(xg_stats.values)\n",
    "corner_stats = dict(corner_stats.values)\n",
    "xga_stats = dict(xga_stats.values)\n",
    "\n",
    "#By making this into dictionaries, it will be easier to call them/update them with the function"
   ]
  },
  {
   "cell_type": "code",
   "execution_count": 21,
   "metadata": {},
   "outputs": [],
   "source": [
    "def fill_stats(team):\n",
    "    games['home_xg'] = np.where(games['home_team_name'] == team, xg_stats[team], games['home_xg'])\n",
    "    games['away_xg'] = np.where(games['away_team_name'] == team, xg_stats[team], games['away_xg'])\n",
    "    games['home_xg_against'] = np.where(games['home_team_name'] == team, xga_stats[team], games['home_xg_against'])\n",
    "    games['away_xg_against'] = np.where(games['away_team_name'] == team, xga_stats[team], games['away_xg_against'])\n",
    "    games['home_total_corners'] = np.where(games['home_team_name'] == team, corner_stats[team], games['home_total_corners'])\n",
    "    games['away_total_corners'] = np.where(games['away_team_name'] == team, corner_stats[team], games['away_total_corners'])\n",
    "    \n",
    "#Function to put team stats into games dataframe"
   ]
  },
  {
   "cell_type": "code",
   "execution_count": 22,
   "metadata": {},
   "outputs": [
    {
     "name": "stderr",
     "output_type": "stream",
     "text": [
      "<ipython-input-21-a42fdaf3b0fe>:2: SettingWithCopyWarning: \n",
      "A value is trying to be set on a copy of a slice from a DataFrame.\n",
      "Try using .loc[row_indexer,col_indexer] = value instead\n",
      "\n",
      "See the caveats in the documentation: https://pandas.pydata.org/pandas-docs/stable/user_guide/indexing.html#returning-a-view-versus-a-copy\n",
      "  games['home_xg'] = np.where(games['home_team_name'] == team, xg_stats[team], games['home_xg'])\n",
      "<ipython-input-21-a42fdaf3b0fe>:3: SettingWithCopyWarning: \n",
      "A value is trying to be set on a copy of a slice from a DataFrame.\n",
      "Try using .loc[row_indexer,col_indexer] = value instead\n",
      "\n",
      "See the caveats in the documentation: https://pandas.pydata.org/pandas-docs/stable/user_guide/indexing.html#returning-a-view-versus-a-copy\n",
      "  games['away_xg'] = np.where(games['away_team_name'] == team, xg_stats[team], games['away_xg'])\n",
      "<ipython-input-21-a42fdaf3b0fe>:4: SettingWithCopyWarning: \n",
      "A value is trying to be set on a copy of a slice from a DataFrame.\n",
      "Try using .loc[row_indexer,col_indexer] = value instead\n",
      "\n",
      "See the caveats in the documentation: https://pandas.pydata.org/pandas-docs/stable/user_guide/indexing.html#returning-a-view-versus-a-copy\n",
      "  games['home_xg_against'] = np.where(games['home_team_name'] == team, xga_stats[team], games['home_xg_against'])\n",
      "<ipython-input-21-a42fdaf3b0fe>:5: SettingWithCopyWarning: \n",
      "A value is trying to be set on a copy of a slice from a DataFrame.\n",
      "Try using .loc[row_indexer,col_indexer] = value instead\n",
      "\n",
      "See the caveats in the documentation: https://pandas.pydata.org/pandas-docs/stable/user_guide/indexing.html#returning-a-view-versus-a-copy\n",
      "  games['away_xg_against'] = np.where(games['away_team_name'] == team, xga_stats[team], games['away_xg_against'])\n",
      "<ipython-input-21-a42fdaf3b0fe>:6: SettingWithCopyWarning: \n",
      "A value is trying to be set on a copy of a slice from a DataFrame.\n",
      "Try using .loc[row_indexer,col_indexer] = value instead\n",
      "\n",
      "See the caveats in the documentation: https://pandas.pydata.org/pandas-docs/stable/user_guide/indexing.html#returning-a-view-versus-a-copy\n",
      "  games['home_total_corners'] = np.where(games['home_team_name'] == team, corner_stats[team], games['home_total_corners'])\n",
      "<ipython-input-21-a42fdaf3b0fe>:7: SettingWithCopyWarning: \n",
      "A value is trying to be set on a copy of a slice from a DataFrame.\n",
      "Try using .loc[row_indexer,col_indexer] = value instead\n",
      "\n",
      "See the caveats in the documentation: https://pandas.pydata.org/pandas-docs/stable/user_guide/indexing.html#returning-a-view-versus-a-copy\n",
      "  games['away_total_corners'] = np.where(games['away_team_name'] == team, corner_stats[team], games['away_total_corners'])\n"
     ]
    }
   ],
   "source": [
    "fill_stats(team_stats['common_name'][0])\n",
    "fill_stats(team_stats['common_name'][1])\n",
    "fill_stats(team_stats['common_name'][2]) \n",
    "fill_stats(team_stats['common_name'][3]) \n",
    "fill_stats(team_stats['common_name'][4]) \n",
    "fill_stats(team_stats['common_name'][5]) \n",
    "fill_stats(team_stats['common_name'][6]) \n",
    "fill_stats(team_stats['common_name'][7]) \n",
    "fill_stats(team_stats['common_name'][8]) \n",
    "fill_stats(team_stats['common_name'][9]) \n",
    "fill_stats(team_stats['common_name'][10]) \n",
    "fill_stats(team_stats['common_name'][11]) \n",
    "fill_stats(team_stats['common_name'][12]) \n",
    "fill_stats(team_stats['common_name'][13]) \n",
    "fill_stats(team_stats['common_name'][14]) \n",
    "fill_stats(team_stats['common_name'][15]) \n",
    "fill_stats(team_stats['common_name'][16]) \n",
    "fill_stats(team_stats['common_name'][17]) \n",
    "fill_stats(team_stats['common_name'][18]) \n",
    "fill_stats(team_stats['common_name'][19]) \n",
    "fill_stats(team_stats['common_name'][20]) \n",
    "fill_stats(team_stats['common_name'][21]) \n",
    "fill_stats(team_stats['common_name'][22]) \n",
    "fill_stats(team_stats['common_name'][23]) \n",
    "\n",
    "#Reading in stats"
   ]
  },
  {
   "cell_type": "markdown",
   "metadata": {},
   "source": [
    "# Read in stats for new DF we'll use for testing"
   ]
  },
  {
   "cell_type": "code",
   "execution_count": 25,
   "metadata": {},
   "outputs": [],
   "source": [
    "# test_prediction_games['home_xg'] = \"\"\n",
    "# test_prediction_games['away_xg'] = \"\"\n",
    "# test_prediction_games['home_xg_against'] = \"\"\n",
    "# test_prediction_games['away_xg_against'] = \"\"\n",
    "# test_prediction_games['home_total_corners'] = \"\"\n",
    "# test_prediction_games['away_total_corners'] = \"\"\n",
    "\n",
    "# # Creating new columns where our data will go"
   ]
  },
  {
   "cell_type": "code",
   "execution_count": 26,
   "metadata": {},
   "outputs": [],
   "source": [
    "def fill_stats_new_test(team):\n",
    "    test_prediction_games['home_xg'] = np.where(test_prediction_games['home_team_name'] == team, xg_stats[team], test_prediction_games['home_xg'])\n",
    "    test_prediction_games['away_xg'] = np.where(test_prediction_games['away_team_name'] == team, xg_stats[team], test_prediction_games['away_xg'])\n",
    "    test_prediction_games['home_xg_against'] = np.where(test_prediction_games['home_team_name'] == team, xga_stats[team], test_prediction_games['home_xg_against'])\n",
    "    test_prediction_games['away_xg_against'] = np.where(test_prediction_games['away_team_name'] == team, xga_stats[team], test_prediction_games['away_xg_against'])\n",
    "    test_prediction_games['home_total_corners'] = np.where(test_prediction_games['home_team_name'] == team, corner_stats[team], test_prediction_games['home_total_corners'])\n",
    "    test_prediction_games['away_total_corners'] = np.where(test_prediction_games['away_team_name'] == team, corner_stats[team], test_prediction_games['away_total_corners'])\n",
    "    \n",
    "#Function to put team stats into games dataframe"
   ]
  },
  {
   "cell_type": "code",
   "execution_count": 27,
   "metadata": {},
   "outputs": [
    {
     "ename": "NameError",
     "evalue": "name 'test_prediction_games' is not defined",
     "output_type": "error",
     "traceback": [
      "\u001b[1;31m---------------------------------------------------------------------------\u001b[0m",
      "\u001b[1;31mNameError\u001b[0m                                 Traceback (most recent call last)",
      "\u001b[1;32m<ipython-input-27-64a214ea977e>\u001b[0m in \u001b[0;36m<module>\u001b[1;34m\u001b[0m\n\u001b[1;32m----> 1\u001b[1;33m \u001b[0mfill_stats_new_test\u001b[0m\u001b[1;33m(\u001b[0m\u001b[1;34m'Fulham'\u001b[0m\u001b[1;33m)\u001b[0m\u001b[1;33m\u001b[0m\u001b[1;33m\u001b[0m\u001b[0m\n\u001b[0m\u001b[0;32m      2\u001b[0m \u001b[0mfill_stats_new_test\u001b[0m\u001b[1;33m(\u001b[0m\u001b[1;34m'Blackburn Rovers'\u001b[0m\u001b[1;33m)\u001b[0m\u001b[1;33m\u001b[0m\u001b[1;33m\u001b[0m\u001b[0m\n\u001b[0;32m      3\u001b[0m \u001b[0mfill_stats_new_test\u001b[0m\u001b[1;33m(\u001b[0m\u001b[1;34m'West Bromwich Albion'\u001b[0m\u001b[1;33m)\u001b[0m\u001b[1;33m\u001b[0m\u001b[1;33m\u001b[0m\u001b[0m\n\u001b[0;32m      4\u001b[0m \u001b[0mfill_stats_new_test\u001b[0m\u001b[1;33m(\u001b[0m\u001b[1;34m'Queens Park Rangers'\u001b[0m\u001b[1;33m)\u001b[0m\u001b[1;33m\u001b[0m\u001b[1;33m\u001b[0m\u001b[0m\n\u001b[0;32m      5\u001b[0m \u001b[0mfill_stats_new_test\u001b[0m\u001b[1;33m(\u001b[0m\u001b[1;34m'AFC Bournemouth'\u001b[0m\u001b[1;33m)\u001b[0m\u001b[1;33m\u001b[0m\u001b[1;33m\u001b[0m\u001b[0m\n",
      "\u001b[1;32m<ipython-input-26-3c99b9ab2355>\u001b[0m in \u001b[0;36mfill_stats_new_test\u001b[1;34m(team)\u001b[0m\n\u001b[0;32m      1\u001b[0m \u001b[1;32mdef\u001b[0m \u001b[0mfill_stats_new_test\u001b[0m\u001b[1;33m(\u001b[0m\u001b[0mteam\u001b[0m\u001b[1;33m)\u001b[0m\u001b[1;33m:\u001b[0m\u001b[1;33m\u001b[0m\u001b[1;33m\u001b[0m\u001b[0m\n\u001b[1;32m----> 2\u001b[1;33m     \u001b[0mtest_prediction_games\u001b[0m\u001b[1;33m[\u001b[0m\u001b[1;34m'home_xg'\u001b[0m\u001b[1;33m]\u001b[0m \u001b[1;33m=\u001b[0m \u001b[0mnp\u001b[0m\u001b[1;33m.\u001b[0m\u001b[0mwhere\u001b[0m\u001b[1;33m(\u001b[0m\u001b[0mtest_prediction_games\u001b[0m\u001b[1;33m[\u001b[0m\u001b[1;34m'home_team_name'\u001b[0m\u001b[1;33m]\u001b[0m \u001b[1;33m==\u001b[0m \u001b[0mteam\u001b[0m\u001b[1;33m,\u001b[0m \u001b[0mxg_stats\u001b[0m\u001b[1;33m[\u001b[0m\u001b[0mteam\u001b[0m\u001b[1;33m]\u001b[0m\u001b[1;33m,\u001b[0m \u001b[0mtest_prediction_games\u001b[0m\u001b[1;33m[\u001b[0m\u001b[1;34m'home_xg'\u001b[0m\u001b[1;33m]\u001b[0m\u001b[1;33m)\u001b[0m\u001b[1;33m\u001b[0m\u001b[1;33m\u001b[0m\u001b[0m\n\u001b[0m\u001b[0;32m      3\u001b[0m     \u001b[0mtest_prediction_games\u001b[0m\u001b[1;33m[\u001b[0m\u001b[1;34m'away_xg'\u001b[0m\u001b[1;33m]\u001b[0m \u001b[1;33m=\u001b[0m \u001b[0mnp\u001b[0m\u001b[1;33m.\u001b[0m\u001b[0mwhere\u001b[0m\u001b[1;33m(\u001b[0m\u001b[0mtest_prediction_games\u001b[0m\u001b[1;33m[\u001b[0m\u001b[1;34m'away_team_name'\u001b[0m\u001b[1;33m]\u001b[0m \u001b[1;33m==\u001b[0m \u001b[0mteam\u001b[0m\u001b[1;33m,\u001b[0m \u001b[0mxg_stats\u001b[0m\u001b[1;33m[\u001b[0m\u001b[0mteam\u001b[0m\u001b[1;33m]\u001b[0m\u001b[1;33m,\u001b[0m \u001b[0mtest_prediction_games\u001b[0m\u001b[1;33m[\u001b[0m\u001b[1;34m'away_xg'\u001b[0m\u001b[1;33m]\u001b[0m\u001b[1;33m)\u001b[0m\u001b[1;33m\u001b[0m\u001b[1;33m\u001b[0m\u001b[0m\n\u001b[0;32m      4\u001b[0m     \u001b[0mtest_prediction_games\u001b[0m\u001b[1;33m[\u001b[0m\u001b[1;34m'home_xg_against'\u001b[0m\u001b[1;33m]\u001b[0m \u001b[1;33m=\u001b[0m \u001b[0mnp\u001b[0m\u001b[1;33m.\u001b[0m\u001b[0mwhere\u001b[0m\u001b[1;33m(\u001b[0m\u001b[0mtest_prediction_games\u001b[0m\u001b[1;33m[\u001b[0m\u001b[1;34m'home_team_name'\u001b[0m\u001b[1;33m]\u001b[0m \u001b[1;33m==\u001b[0m \u001b[0mteam\u001b[0m\u001b[1;33m,\u001b[0m \u001b[0mxga_stats\u001b[0m\u001b[1;33m[\u001b[0m\u001b[0mteam\u001b[0m\u001b[1;33m]\u001b[0m\u001b[1;33m,\u001b[0m \u001b[0mtest_prediction_games\u001b[0m\u001b[1;33m[\u001b[0m\u001b[1;34m'home_xg_against'\u001b[0m\u001b[1;33m]\u001b[0m\u001b[1;33m)\u001b[0m\u001b[1;33m\u001b[0m\u001b[1;33m\u001b[0m\u001b[0m\n\u001b[0;32m      5\u001b[0m     \u001b[0mtest_prediction_games\u001b[0m\u001b[1;33m[\u001b[0m\u001b[1;34m'away_xg_against'\u001b[0m\u001b[1;33m]\u001b[0m \u001b[1;33m=\u001b[0m \u001b[0mnp\u001b[0m\u001b[1;33m.\u001b[0m\u001b[0mwhere\u001b[0m\u001b[1;33m(\u001b[0m\u001b[0mtest_prediction_games\u001b[0m\u001b[1;33m[\u001b[0m\u001b[1;34m'away_team_name'\u001b[0m\u001b[1;33m]\u001b[0m \u001b[1;33m==\u001b[0m \u001b[0mteam\u001b[0m\u001b[1;33m,\u001b[0m \u001b[0mxga_stats\u001b[0m\u001b[1;33m[\u001b[0m\u001b[0mteam\u001b[0m\u001b[1;33m]\u001b[0m\u001b[1;33m,\u001b[0m \u001b[0mtest_prediction_games\u001b[0m\u001b[1;33m[\u001b[0m\u001b[1;34m'away_xg_against'\u001b[0m\u001b[1;33m]\u001b[0m\u001b[1;33m)\u001b[0m\u001b[1;33m\u001b[0m\u001b[1;33m\u001b[0m\u001b[0m\n",
      "\u001b[1;31mNameError\u001b[0m: name 'test_prediction_games' is not defined"
     ]
    }
   ],
   "source": [
    "fill_stats_new_test('Fulham')\n",
    "fill_stats_new_test('Blackburn Rovers')\n",
    "fill_stats_new_test('West Bromwich Albion')\n",
    "fill_stats_new_test('Queens Park Rangers')\n",
    "fill_stats_new_test('AFC Bournemouth')\n",
    "fill_stats_new_test('Middlesbrough')\n",
    "fill_stats_new_test('Barnsley')\n",
    "fill_stats_new_test('Millwall')\n",
    "fill_stats_new_test('Sheffield United')\n",
    "fill_stats_new_test('Reading')\n",
    "fill_stats_new_test('Cardiff City')\n",
    "fill_stats_new_test('Nottingham Forest')\n",
    "fill_stats_new_test('Hull City')\n",
    "fill_stats_new_test('Blackpool')\n",
    "fill_stats_new_test('Luton Town')\n",
    "fill_stats_new_test('Stoke City')\n",
    "fill_stats_new_test('Swansea City')\n",
    "fill_stats_new_test('Derby County')\n",
    "fill_stats_new_test('Huddersfield Town')\n",
    "fill_stats_new_test('Preston North End')\n",
    "fill_stats_new_test('Coventry City')\n",
    "fill_stats_new_test('Peterborough United')\n",
    "fill_stats_new_test('Birmingham City')\n",
    "fill_stats_new_test('Bristol City')"
   ]
  },
  {
   "cell_type": "markdown",
   "metadata": {},
   "source": [
    "# Some more EDA"
   ]
  },
  {
   "cell_type": "code",
   "execution_count": 28,
   "metadata": {},
   "outputs": [
    {
     "data": {
      "text/plain": [
       "over/under                        1.000000\n",
       "total_goal_count                  0.813885\n",
       "away_team_goal_count              0.564549\n",
       "home_team_goal_count              0.564415\n",
       "total_goals_at_half_time          0.431120\n",
       "home_team_shots_on_target         0.338370\n",
       "home_team_goal_count_half_time    0.309042\n",
       "away_team_goal_count_half_time    0.281679\n",
       "away_team_shots_on_target         0.280491\n",
       "odds_btts_no                      0.219733\n",
       "team_a_xg                         0.211337\n",
       "home_ppg                          0.199479\n",
       "home_team_shots                   0.169254\n",
       "home_team_fouls                   0.140905\n",
       "Pre-Match PPG (Home)              0.109827\n",
       "odds_ft_draw                      0.098503\n",
       "team_b_xg                         0.087455\n",
       "odds_ft_away_team_win             0.084549\n",
       "away_team_red_cards               0.067356\n",
       "away_ppg                          0.052869\n",
       "Name: over/under, dtype: float64"
      ]
     },
     "execution_count": 28,
     "metadata": {},
     "output_type": "execute_result"
    }
   ],
   "source": [
    "games.corr()['over/under'].sort_values(ascending=False)[0:20]"
   ]
  },
  {
   "cell_type": "markdown",
   "metadata": {},
   "source": [
    "# Now let's do some modeling"
   ]
  },
  {
   "cell_type": "markdown",
   "metadata": {},
   "source": [
    "This will be a 'normal' model in which we use train_test_split to divide up the data"
   ]
  },
  {
   "cell_type": "code",
   "execution_count": 16,
   "metadata": {},
   "outputs": [],
   "source": [
    "features = ['home_xg', 'away_xg', 'home_xg_against', 'away_xg_against']\n",
    "X = games[features]\n",
    "y = games['over/under']"
   ]
  },
  {
   "cell_type": "code",
   "execution_count": 17,
   "metadata": {},
   "outputs": [],
   "source": [
    "X_train, X_test, y_train, y_test = train_test_split(X, y, test_size = 0.20, random_state = 42)"
   ]
  },
  {
   "cell_type": "code",
   "execution_count": 18,
   "metadata": {},
   "outputs": [],
   "source": [
    "logreg = LogisticRegression()\n",
    "knn = KNeighborsClassifier()\n",
    "dt = DecisionTreeClassifier()"
   ]
  },
  {
   "cell_type": "code",
   "execution_count": 19,
   "metadata": {},
   "outputs": [
    {
     "data": {
      "text/plain": [
       "LogisticRegression()"
      ]
     },
     "execution_count": 19,
     "metadata": {},
     "output_type": "execute_result"
    }
   ],
   "source": [
    "logreg.fit(X_train, y_train)"
   ]
  },
  {
   "cell_type": "code",
   "execution_count": 20,
   "metadata": {},
   "outputs": [],
   "source": [
    "preds = logreg.predict(X_test)"
   ]
  },
  {
   "cell_type": "code",
   "execution_count": 21,
   "metadata": {},
   "outputs": [
    {
     "data": {
      "text/plain": [
       "0.32"
      ]
     },
     "execution_count": 21,
     "metadata": {},
     "output_type": "execute_result"
    }
   ],
   "source": [
    "accuracy_score(y_test, preds)"
   ]
  },
  {
   "cell_type": "code",
   "execution_count": 22,
   "metadata": {},
   "outputs": [
    {
     "data": {
      "text/plain": [
       "KNeighborsClassifier()"
      ]
     },
     "execution_count": 22,
     "metadata": {},
     "output_type": "execute_result"
    }
   ],
   "source": [
    "knn.fit(X_train, y_train)"
   ]
  },
  {
   "cell_type": "code",
   "execution_count": 23,
   "metadata": {},
   "outputs": [],
   "source": [
    "preds = knn.predict(X_test)"
   ]
  },
  {
   "cell_type": "code",
   "execution_count": 24,
   "metadata": {},
   "outputs": [
    {
     "data": {
      "text/plain": [
       "0.4"
      ]
     },
     "execution_count": 24,
     "metadata": {},
     "output_type": "execute_result"
    }
   ],
   "source": [
    "accuracy_score(y_test, preds)"
   ]
  },
  {
   "cell_type": "code",
   "execution_count": 25,
   "metadata": {},
   "outputs": [
    {
     "data": {
      "text/plain": [
       "DecisionTreeClassifier()"
      ]
     },
     "execution_count": 25,
     "metadata": {},
     "output_type": "execute_result"
    }
   ],
   "source": [
    "dt.fit(X_train, y_train)"
   ]
  },
  {
   "cell_type": "code",
   "execution_count": 26,
   "metadata": {},
   "outputs": [],
   "source": [
    "preds = dt.predict(X_test)"
   ]
  },
  {
   "cell_type": "code",
   "execution_count": 27,
   "metadata": {},
   "outputs": [
    {
     "data": {
      "text/plain": [
       "0.44"
      ]
     },
     "execution_count": 27,
     "metadata": {},
     "output_type": "execute_result"
    }
   ],
   "source": [
    "accuracy_score(y_test, preds)"
   ]
  },
  {
   "cell_type": "code",
   "execution_count": 28,
   "metadata": {},
   "outputs": [],
   "source": [
    "#decision trees"
   ]
  },
  {
   "cell_type": "code",
   "execution_count": 29,
   "metadata": {},
   "outputs": [
    {
     "data": {
      "text/plain": [
       "44     1\n",
       "47     0\n",
       "4      0\n",
       "55     0\n",
       "26     0\n",
       "64     0\n",
       "73     0\n",
       "10     0\n",
       "40     1\n",
       "108    1\n",
       "18     1\n",
       "62     1\n",
       "11     1\n",
       "36     0\n",
       "90     1\n",
       "118    0\n",
       "110    0\n",
       "0      1\n",
       "89     0\n",
       "104    0\n",
       "65     0\n",
       "45     0\n",
       "31     0\n",
       "70     0\n",
       "42     0\n",
       "Name: over/under, dtype: int32"
      ]
     },
     "execution_count": 29,
     "metadata": {},
     "output_type": "execute_result"
    }
   ],
   "source": [
    "y_test"
   ]
  },
  {
   "cell_type": "markdown",
   "metadata": {},
   "source": [
    "Test the test set while it is trained on the original train set?"
   ]
  },
  {
   "cell_type": "code",
   "execution_count": 30,
   "metadata": {},
   "outputs": [
    {
     "ename": "NameError",
     "evalue": "name 'test_prediction_games' is not defined",
     "output_type": "error",
     "traceback": [
      "\u001b[1;31m---------------------------------------------------------------------------\u001b[0m",
      "\u001b[1;31mNameError\u001b[0m                                 Traceback (most recent call last)",
      "\u001b[1;32m<ipython-input-30-cd42561fa807>\u001b[0m in \u001b[0;36m<module>\u001b[1;34m\u001b[0m\n\u001b[0;32m      1\u001b[0m \u001b[0mfeatures\u001b[0m \u001b[1;33m=\u001b[0m \u001b[1;33m[\u001b[0m\u001b[1;34m'home_xg'\u001b[0m\u001b[1;33m,\u001b[0m \u001b[1;34m'away_xg'\u001b[0m\u001b[1;33m,\u001b[0m \u001b[1;34m'home_xg_against'\u001b[0m\u001b[1;33m,\u001b[0m \u001b[1;34m'away_xg_against'\u001b[0m\u001b[1;33m]\u001b[0m\u001b[1;33m\u001b[0m\u001b[1;33m\u001b[0m\u001b[0m\n\u001b[1;32m----> 2\u001b[1;33m \u001b[0mX\u001b[0m \u001b[1;33m=\u001b[0m \u001b[0mtest_prediction_games\u001b[0m\u001b[1;33m[\u001b[0m\u001b[0mfeatures\u001b[0m\u001b[1;33m]\u001b[0m\u001b[1;33m\u001b[0m\u001b[1;33m\u001b[0m\u001b[0m\n\u001b[0m\u001b[0;32m      3\u001b[0m \u001b[0my\u001b[0m \u001b[1;33m=\u001b[0m \u001b[0mtest_prediction_games\u001b[0m\u001b[1;33m[\u001b[0m\u001b[1;34m'over/under'\u001b[0m\u001b[1;33m]\u001b[0m\u001b[1;33m\u001b[0m\u001b[1;33m\u001b[0m\u001b[0m\n",
      "\u001b[1;31mNameError\u001b[0m: name 'test_prediction_games' is not defined"
     ]
    }
   ],
   "source": [
    "features = ['home_xg', 'away_xg', 'home_xg_against', 'away_xg_against']\n",
    "X = test_prediction_games[features]\n",
    "y = test_prediction_games['over/under']"
   ]
  },
  {
   "cell_type": "code",
   "execution_count": 31,
   "metadata": {},
   "outputs": [],
   "source": [
    "X_train, X_test, y_train, y_test = train_test_split(X, y, test_size = 0.9, random_state = 42)"
   ]
  },
  {
   "cell_type": "code",
   "execution_count": null,
   "metadata": {},
   "outputs": [],
   "source": []
  },
  {
   "cell_type": "code",
   "execution_count": 32,
   "metadata": {},
   "outputs": [
    {
     "data": {
      "text/plain": [
       "0     AFC Bournemouth\n",
       "1    Blackburn Rovers\n",
       "2        Bristol City\n",
       "3        Cardiff City\n",
       "4        Derby County\n",
       "Name: home_team_name, dtype: object"
      ]
     },
     "execution_count": 32,
     "metadata": {},
     "output_type": "execute_result"
    }
   ],
   "source": [
    "games[0:5]['home_team_name']"
   ]
  },
  {
   "cell_type": "markdown",
   "metadata": {},
   "source": [
    "# Trying to set the train and test sets myself without train_test_split"
   ]
  },
  {
   "cell_type": "markdown",
   "metadata": {},
   "source": [
    "# Predicting Over/Under 2.5"
   ]
  },
  {
   "cell_type": "code",
   "execution_count": 33,
   "metadata": {},
   "outputs": [],
   "source": [
    "# games = pd.read_csv('../footy_data/championship_games_2022.csv')\n",
    "#Going to load this in again because I need the full dataset including incomplete games -- the ones I want to predict"
   ]
  },
  {
   "cell_type": "code",
   "execution_count": 34,
   "metadata": {},
   "outputs": [
    {
     "data": {
      "text/html": [
       "<div>\n",
       "<style scoped>\n",
       "    .dataframe tbody tr th:only-of-type {\n",
       "        vertical-align: middle;\n",
       "    }\n",
       "\n",
       "    .dataframe tbody tr th {\n",
       "        vertical-align: top;\n",
       "    }\n",
       "\n",
       "    .dataframe thead th {\n",
       "        text-align: right;\n",
       "    }\n",
       "</style>\n",
       "<table border=\"1\" class=\"dataframe\">\n",
       "  <thead>\n",
       "    <tr style=\"text-align: right;\">\n",
       "      <th></th>\n",
       "      <th>timestamp</th>\n",
       "      <th>date_GMT</th>\n",
       "      <th>status</th>\n",
       "      <th>attendance</th>\n",
       "      <th>home_team_name</th>\n",
       "      <th>away_team_name</th>\n",
       "      <th>referee</th>\n",
       "      <th>Game Week</th>\n",
       "      <th>Pre-Match PPG (Home)</th>\n",
       "      <th>Pre-Match PPG (Away)</th>\n",
       "      <th>...</th>\n",
       "      <th>odds_btts_yes</th>\n",
       "      <th>odds_btts_no</th>\n",
       "      <th>stadium_name</th>\n",
       "      <th>over/under</th>\n",
       "      <th>home_xg</th>\n",
       "      <th>away_xg</th>\n",
       "      <th>home_xg_against</th>\n",
       "      <th>away_xg_against</th>\n",
       "      <th>home_total_corners</th>\n",
       "      <th>away_total_corners</th>\n",
       "    </tr>\n",
       "  </thead>\n",
       "  <tbody>\n",
       "    <tr>\n",
       "      <th>0</th>\n",
       "      <td>1628275500</td>\n",
       "      <td>Aug 06 2021 - 6:45pm</td>\n",
       "      <td>complete</td>\n",
       "      <td>NaN</td>\n",
       "      <td>AFC Bournemouth</td>\n",
       "      <td>West Bromwich Albion</td>\n",
       "      <td>Dean Whitestone</td>\n",
       "      <td>1</td>\n",
       "      <td>0.0</td>\n",
       "      <td>0.0</td>\n",
       "      <td>...</td>\n",
       "      <td>1.80</td>\n",
       "      <td>2.05</td>\n",
       "      <td>Vitality Stadium (Bournemouth- Dorset)</td>\n",
       "      <td>1</td>\n",
       "      <td>1.16</td>\n",
       "      <td>1.97</td>\n",
       "      <td>1.04</td>\n",
       "      <td>0.77</td>\n",
       "      <td>4.6</td>\n",
       "      <td>6.4</td>\n",
       "    </tr>\n",
       "    <tr>\n",
       "      <th>1</th>\n",
       "      <td>1628344800</td>\n",
       "      <td>Aug 07 2021 - 2:00pm</td>\n",
       "      <td>complete</td>\n",
       "      <td>NaN</td>\n",
       "      <td>Blackburn Rovers</td>\n",
       "      <td>Swansea City</td>\n",
       "      <td>David Webb</td>\n",
       "      <td>1</td>\n",
       "      <td>0.0</td>\n",
       "      <td>0.0</td>\n",
       "      <td>...</td>\n",
       "      <td>1.95</td>\n",
       "      <td>1.87</td>\n",
       "      <td>Ewood Park (Blackburn- Lancashire)</td>\n",
       "      <td>1</td>\n",
       "      <td>1.14</td>\n",
       "      <td>0.78</td>\n",
       "      <td>1.43</td>\n",
       "      <td>1.21</td>\n",
       "      <td>3.3</td>\n",
       "      <td>4.2</td>\n",
       "    </tr>\n",
       "    <tr>\n",
       "      <th>2</th>\n",
       "      <td>1628344800</td>\n",
       "      <td>Aug 07 2021 - 2:00pm</td>\n",
       "      <td>complete</td>\n",
       "      <td>NaN</td>\n",
       "      <td>Bristol City</td>\n",
       "      <td>Blackpool</td>\n",
       "      <td>Andy Davies</td>\n",
       "      <td>1</td>\n",
       "      <td>0.0</td>\n",
       "      <td>0.0</td>\n",
       "      <td>...</td>\n",
       "      <td>1.95</td>\n",
       "      <td>1.91</td>\n",
       "      <td>Ashton Gate (Bristol)</td>\n",
       "      <td>0</td>\n",
       "      <td>1.15</td>\n",
       "      <td>1</td>\n",
       "      <td>1.47</td>\n",
       "      <td>1.48</td>\n",
       "      <td>3.7</td>\n",
       "      <td>4.3</td>\n",
       "    </tr>\n",
       "    <tr>\n",
       "      <th>3</th>\n",
       "      <td>1628344800</td>\n",
       "      <td>Aug 07 2021 - 2:00pm</td>\n",
       "      <td>complete</td>\n",
       "      <td>NaN</td>\n",
       "      <td>Cardiff City</td>\n",
       "      <td>Barnsley</td>\n",
       "      <td>Steve Martin</td>\n",
       "      <td>1</td>\n",
       "      <td>0.0</td>\n",
       "      <td>0.0</td>\n",
       "      <td>...</td>\n",
       "      <td>1.95</td>\n",
       "      <td>1.91</td>\n",
       "      <td>Cardiff City Stadium (Cardiff (Caerdydd))</td>\n",
       "      <td>0</td>\n",
       "      <td>1.23</td>\n",
       "      <td>0.78</td>\n",
       "      <td>1.19</td>\n",
       "      <td>1.33</td>\n",
       "      <td>3.9</td>\n",
       "      <td>3.8</td>\n",
       "    </tr>\n",
       "    <tr>\n",
       "      <th>4</th>\n",
       "      <td>1628344800</td>\n",
       "      <td>Aug 07 2021 - 2:00pm</td>\n",
       "      <td>complete</td>\n",
       "      <td>NaN</td>\n",
       "      <td>Derby County</td>\n",
       "      <td>Huddersfield Town</td>\n",
       "      <td>Geoff Eltringham</td>\n",
       "      <td>1</td>\n",
       "      <td>0.0</td>\n",
       "      <td>0.0</td>\n",
       "      <td>...</td>\n",
       "      <td>1.95</td>\n",
       "      <td>1.87</td>\n",
       "      <td>Pride Park Stadium (Derby)</td>\n",
       "      <td>0</td>\n",
       "      <td>0.93</td>\n",
       "      <td>0.98</td>\n",
       "      <td>1.57</td>\n",
       "      <td>1.26</td>\n",
       "      <td>4.3</td>\n",
       "      <td>4.4</td>\n",
       "    </tr>\n",
       "  </tbody>\n",
       "</table>\n",
       "<p>5 rows × 71 columns</p>\n",
       "</div>"
      ],
      "text/plain": [
       "    timestamp              date_GMT    status  attendance    home_team_name  \\\n",
       "0  1628275500  Aug 06 2021 - 6:45pm  complete         NaN   AFC Bournemouth   \n",
       "1  1628344800  Aug 07 2021 - 2:00pm  complete         NaN  Blackburn Rovers   \n",
       "2  1628344800  Aug 07 2021 - 2:00pm  complete         NaN      Bristol City   \n",
       "3  1628344800  Aug 07 2021 - 2:00pm  complete         NaN      Cardiff City   \n",
       "4  1628344800  Aug 07 2021 - 2:00pm  complete         NaN      Derby County   \n",
       "\n",
       "         away_team_name           referee  Game Week  Pre-Match PPG (Home)  \\\n",
       "0  West Bromwich Albion   Dean Whitestone          1                   0.0   \n",
       "1          Swansea City        David Webb          1                   0.0   \n",
       "2             Blackpool       Andy Davies          1                   0.0   \n",
       "3              Barnsley      Steve Martin          1                   0.0   \n",
       "4     Huddersfield Town  Geoff Eltringham          1                   0.0   \n",
       "\n",
       "   Pre-Match PPG (Away)  ...  odds_btts_yes  odds_btts_no  \\\n",
       "0                   0.0  ...           1.80          2.05   \n",
       "1                   0.0  ...           1.95          1.87   \n",
       "2                   0.0  ...           1.95          1.91   \n",
       "3                   0.0  ...           1.95          1.91   \n",
       "4                   0.0  ...           1.95          1.87   \n",
       "\n",
       "                                stadium_name  over/under  home_xg  away_xg  \\\n",
       "0     Vitality Stadium (Bournemouth- Dorset)           1     1.16     1.97   \n",
       "1         Ewood Park (Blackburn- Lancashire)           1     1.14     0.78   \n",
       "2                      Ashton Gate (Bristol)           0     1.15        1   \n",
       "3  Cardiff City Stadium (Cardiff (Caerdydd))           0     1.23     0.78   \n",
       "4                 Pride Park Stadium (Derby)           0     0.93     0.98   \n",
       "\n",
       "   home_xg_against  away_xg_against home_total_corners away_total_corners  \n",
       "0             1.04             0.77                4.6                6.4  \n",
       "1             1.43             1.21                3.3                4.2  \n",
       "2             1.47             1.48                3.7                4.3  \n",
       "3             1.19             1.33                3.9                3.8  \n",
       "4             1.57             1.26                4.3                4.4  \n",
       "\n",
       "[5 rows x 71 columns]"
      ]
     },
     "execution_count": 34,
     "metadata": {},
     "output_type": "execute_result"
    }
   ],
   "source": [
    "games.head()"
   ]
  },
  {
   "cell_type": "code",
   "execution_count": 35,
   "metadata": {},
   "outputs": [],
   "source": [
    "features = ['home_xg', 'away_xg', 'home_xg_against', 'away_xg_against']\n",
    "X_train = games[0:72][features]\n",
    "X_test = games[72:84][features]\n",
    "y_train = games[0:72]['over/under']\n",
    "y_test = games[72:84]['over/under']"
   ]
  },
  {
   "cell_type": "code",
   "execution_count": 36,
   "metadata": {},
   "outputs": [
    {
     "data": {
      "text/html": [
       "<div>\n",
       "<style scoped>\n",
       "    .dataframe tbody tr th:only-of-type {\n",
       "        vertical-align: middle;\n",
       "    }\n",
       "\n",
       "    .dataframe tbody tr th {\n",
       "        vertical-align: top;\n",
       "    }\n",
       "\n",
       "    .dataframe thead th {\n",
       "        text-align: right;\n",
       "    }\n",
       "</style>\n",
       "<table border=\"1\" class=\"dataframe\">\n",
       "  <thead>\n",
       "    <tr style=\"text-align: right;\">\n",
       "      <th></th>\n",
       "      <th>home_xg</th>\n",
       "      <th>away_xg</th>\n",
       "      <th>home_xg_against</th>\n",
       "      <th>away_xg_against</th>\n",
       "    </tr>\n",
       "  </thead>\n",
       "  <tbody>\n",
       "    <tr>\n",
       "      <th>72</th>\n",
       "      <td>1.16</td>\n",
       "      <td>1.56</td>\n",
       "      <td>1.04</td>\n",
       "      <td>1.34</td>\n",
       "    </tr>\n",
       "    <tr>\n",
       "      <th>73</th>\n",
       "      <td>1.14</td>\n",
       "      <td>0.99</td>\n",
       "      <td>1.43</td>\n",
       "      <td>1.33</td>\n",
       "    </tr>\n",
       "    <tr>\n",
       "      <th>74</th>\n",
       "      <td>1</td>\n",
       "      <td>0.98</td>\n",
       "      <td>1.48</td>\n",
       "      <td>1.26</td>\n",
       "    </tr>\n",
       "    <tr>\n",
       "      <th>75</th>\n",
       "      <td>1.58</td>\n",
       "      <td>1.11</td>\n",
       "      <td>1.02</td>\n",
       "      <td>1.2</td>\n",
       "    </tr>\n",
       "    <tr>\n",
       "      <th>76</th>\n",
       "      <td>1.2</td>\n",
       "      <td>0.63</td>\n",
       "      <td>1.6</td>\n",
       "      <td>1.46</td>\n",
       "    </tr>\n",
       "    <tr>\n",
       "      <th>77</th>\n",
       "      <td>1.97</td>\n",
       "      <td>0.93</td>\n",
       "      <td>0.77</td>\n",
       "      <td>1.57</td>\n",
       "    </tr>\n",
       "    <tr>\n",
       "      <th>78</th>\n",
       "      <td>1.28</td>\n",
       "      <td>2</td>\n",
       "      <td>1.04</td>\n",
       "      <td>1.01</td>\n",
       "    </tr>\n",
       "    <tr>\n",
       "      <th>79</th>\n",
       "      <td>1.15</td>\n",
       "      <td>1.43</td>\n",
       "      <td>1.47</td>\n",
       "      <td>1.23</td>\n",
       "    </tr>\n",
       "    <tr>\n",
       "      <th>80</th>\n",
       "      <td>1.52</td>\n",
       "      <td>1.23</td>\n",
       "      <td>1.28</td>\n",
       "      <td>1.19</td>\n",
       "    </tr>\n",
       "    <tr>\n",
       "      <th>81</th>\n",
       "      <td>0.95</td>\n",
       "      <td>1.23</td>\n",
       "      <td>1.26</td>\n",
       "      <td>1.19</td>\n",
       "    </tr>\n",
       "    <tr>\n",
       "      <th>82</th>\n",
       "      <td>0.78</td>\n",
       "      <td>1.47</td>\n",
       "      <td>1.21</td>\n",
       "      <td>1.16</td>\n",
       "    </tr>\n",
       "    <tr>\n",
       "      <th>83</th>\n",
       "      <td>1.37</td>\n",
       "      <td>0.78</td>\n",
       "      <td>1.11</td>\n",
       "      <td>1.33</td>\n",
       "    </tr>\n",
       "  </tbody>\n",
       "</table>\n",
       "</div>"
      ],
      "text/plain": [
       "   home_xg away_xg home_xg_against away_xg_against\n",
       "72    1.16    1.56            1.04            1.34\n",
       "73    1.14    0.99            1.43            1.33\n",
       "74       1    0.98            1.48            1.26\n",
       "75    1.58    1.11            1.02             1.2\n",
       "76     1.2    0.63             1.6            1.46\n",
       "77    1.97    0.93            0.77            1.57\n",
       "78    1.28       2            1.04            1.01\n",
       "79    1.15    1.43            1.47            1.23\n",
       "80    1.52    1.23            1.28            1.19\n",
       "81    0.95    1.23            1.26            1.19\n",
       "82    0.78    1.47            1.21            1.16\n",
       "83    1.37    0.78            1.11            1.33"
      ]
     },
     "execution_count": 36,
     "metadata": {},
     "output_type": "execute_result"
    }
   ],
   "source": [
    "X_test"
   ]
  },
  {
   "cell_type": "code",
   "execution_count": 37,
   "metadata": {},
   "outputs": [
    {
     "data": {
      "text/plain": [
       "LogisticRegression()"
      ]
     },
     "execution_count": 37,
     "metadata": {},
     "output_type": "execute_result"
    }
   ],
   "source": [
    "logreg.fit(X_train, y_train)"
   ]
  },
  {
   "cell_type": "code",
   "execution_count": 38,
   "metadata": {},
   "outputs": [],
   "source": [
    "preds = logreg.predict(X_test)"
   ]
  },
  {
   "cell_type": "code",
   "execution_count": 39,
   "metadata": {},
   "outputs": [
    {
     "data": {
      "text/plain": [
       "0.4166666666666667"
      ]
     },
     "execution_count": 39,
     "metadata": {},
     "output_type": "execute_result"
    }
   ],
   "source": [
    "accuracy_score(y_test, preds)"
   ]
  },
  {
   "cell_type": "code",
   "execution_count": 40,
   "metadata": {},
   "outputs": [
    {
     "data": {
      "text/plain": [
       "KNeighborsClassifier()"
      ]
     },
     "execution_count": 40,
     "metadata": {},
     "output_type": "execute_result"
    }
   ],
   "source": [
    "knn.fit(X_train, y_train)"
   ]
  },
  {
   "cell_type": "code",
   "execution_count": 41,
   "metadata": {},
   "outputs": [],
   "source": [
    "preds = knn.predict(X_test)"
   ]
  },
  {
   "cell_type": "code",
   "execution_count": 42,
   "metadata": {},
   "outputs": [
    {
     "data": {
      "text/plain": [
       "0.5"
      ]
     },
     "execution_count": 42,
     "metadata": {},
     "output_type": "execute_result"
    }
   ],
   "source": [
    "accuracy_score(y_test, preds)"
   ]
  },
  {
   "cell_type": "code",
   "execution_count": 43,
   "metadata": {},
   "outputs": [
    {
     "data": {
      "text/plain": [
       "array([1, 0, 0, 0, 0, 1, 1, 1, 0, 0, 0, 1])"
      ]
     },
     "execution_count": 43,
     "metadata": {},
     "output_type": "execute_result"
    }
   ],
   "source": [
    "preds"
   ]
  },
  {
   "cell_type": "markdown",
   "metadata": {},
   "source": [
    "Next need to add something to track accuracy from week to week"
   ]
  },
  {
   "cell_type": "code",
   "execution_count": null,
   "metadata": {},
   "outputs": [],
   "source": []
  }
 ],
 "metadata": {
  "kernelspec": {
   "display_name": "Python 3",
   "language": "python",
   "name": "python3"
  },
  "language_info": {
   "codemirror_mode": {
    "name": "ipython",
    "version": 3
   },
   "file_extension": ".py",
   "mimetype": "text/x-python",
   "name": "python",
   "nbconvert_exporter": "python",
   "pygments_lexer": "ipython3",
   "version": "3.8.3"
  }
 },
 "nbformat": 4,
 "nbformat_minor": 4
}
