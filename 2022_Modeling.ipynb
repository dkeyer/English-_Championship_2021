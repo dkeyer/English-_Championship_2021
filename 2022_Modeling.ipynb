{
 "cells": [
  {
   "cell_type": "code",
   "execution_count": 1,
   "metadata": {},
   "outputs": [],
   "source": [
    "import pandas as pd\n",
    "import numpy as np\n",
    "import seaborn as sns\n",
    "import matplotlib.pyplot as plt\n",
    "from sklearn.model_selection import train_test_split, cross_val_score, GridSearchCV\n",
    "from sklearn.metrics import accuracy_score\n",
    "from sklearn.preprocessing import StandardScaler, PolynomialFeatures\n",
    "from sklearn.neighbors import KNeighborsClassifier\n",
    "from sklearn.svm import SVR\n",
    "from sklearn.decomposition import PCA\n",
    "from sklearn.linear_model import LogisticRegression\n",
    "from sklearn.tree import DecisionTreeClassifier\n",
    "from sklearn.neighbors import KNeighborsClassifier"
   ]
  },
  {
   "cell_type": "code",
   "execution_count": 2,
   "metadata": {},
   "outputs": [],
   "source": [
    "team_stats = pd.read_csv('../footy_data/championship_teams_2022.csv')\n",
    "games = pd.read_csv('../footy_data/championship_games_2022.csv')"
   ]
  },
  {
   "cell_type": "code",
   "execution_count": 3,
   "metadata": {},
   "outputs": [],
   "source": [
    "games['over/under'] = np.where(games['home_team_goal_count'] + games['away_team_goal_count'] > 2.5, 1, 0)\n",
    "# Adding column 0 represents under 2.5, 1 represents over 2.5"
   ]
  },
  {
   "cell_type": "code",
   "execution_count": 4,
   "metadata": {},
   "outputs": [],
   "source": [
    "games = games.loc[games['status'] == 'complete']\n",
    "#We only want games that have been completed"
   ]
  },
  {
   "cell_type": "code",
   "execution_count": 5,
   "metadata": {},
   "outputs": [],
   "source": [
    "test_prediction_games = games[73:84]\n",
    "# I don't think I will need this"
   ]
  },
  {
   "cell_type": "code",
   "execution_count": 6,
   "metadata": {},
   "outputs": [
    {
     "data": {
      "text/html": [
       "<div>\n",
       "<style scoped>\n",
       "    .dataframe tbody tr th:only-of-type {\n",
       "        vertical-align: middle;\n",
       "    }\n",
       "\n",
       "    .dataframe tbody tr th {\n",
       "        vertical-align: top;\n",
       "    }\n",
       "\n",
       "    .dataframe thead th {\n",
       "        text-align: right;\n",
       "    }\n",
       "</style>\n",
       "<table border=\"1\" class=\"dataframe\">\n",
       "  <thead>\n",
       "    <tr style=\"text-align: right;\">\n",
       "      <th></th>\n",
       "      <th>timestamp</th>\n",
       "      <th>date_GMT</th>\n",
       "      <th>status</th>\n",
       "      <th>attendance</th>\n",
       "      <th>home_team_name</th>\n",
       "      <th>away_team_name</th>\n",
       "      <th>referee</th>\n",
       "      <th>Game Week</th>\n",
       "      <th>Pre-Match PPG (Home)</th>\n",
       "      <th>Pre-Match PPG (Away)</th>\n",
       "      <th>...</th>\n",
       "      <th>odds_ft_draw</th>\n",
       "      <th>odds_ft_away_team_win</th>\n",
       "      <th>odds_ft_over15</th>\n",
       "      <th>odds_ft_over25</th>\n",
       "      <th>odds_ft_over35</th>\n",
       "      <th>odds_ft_over45</th>\n",
       "      <th>odds_btts_yes</th>\n",
       "      <th>odds_btts_no</th>\n",
       "      <th>stadium_name</th>\n",
       "      <th>over/under</th>\n",
       "    </tr>\n",
       "  </thead>\n",
       "  <tbody>\n",
       "    <tr>\n",
       "      <th>0</th>\n",
       "      <td>1628275500</td>\n",
       "      <td>Aug 06 2021 - 6:45pm</td>\n",
       "      <td>complete</td>\n",
       "      <td>NaN</td>\n",
       "      <td>AFC Bournemouth</td>\n",
       "      <td>West Bromwich Albion</td>\n",
       "      <td>Dean Whitestone</td>\n",
       "      <td>1</td>\n",
       "      <td>0.0</td>\n",
       "      <td>0.0</td>\n",
       "      <td>...</td>\n",
       "      <td>3.40</td>\n",
       "      <td>3.10</td>\n",
       "      <td>1.33</td>\n",
       "      <td>1.85</td>\n",
       "      <td>3.15</td>\n",
       "      <td>6.00</td>\n",
       "      <td>1.80</td>\n",
       "      <td>2.05</td>\n",
       "      <td>Vitality Stadium (Bournemouth- Dorset)</td>\n",
       "      <td>1</td>\n",
       "    </tr>\n",
       "    <tr>\n",
       "      <th>1</th>\n",
       "      <td>1628344800</td>\n",
       "      <td>Aug 07 2021 - 2:00pm</td>\n",
       "      <td>complete</td>\n",
       "      <td>NaN</td>\n",
       "      <td>Blackburn Rovers</td>\n",
       "      <td>Swansea City</td>\n",
       "      <td>David Webb</td>\n",
       "      <td>1</td>\n",
       "      <td>0.0</td>\n",
       "      <td>0.0</td>\n",
       "      <td>...</td>\n",
       "      <td>3.25</td>\n",
       "      <td>3.60</td>\n",
       "      <td>1.38</td>\n",
       "      <td>2.15</td>\n",
       "      <td>3.65</td>\n",
       "      <td>7.25</td>\n",
       "      <td>1.95</td>\n",
       "      <td>1.87</td>\n",
       "      <td>Ewood Park (Blackburn- Lancashire)</td>\n",
       "      <td>1</td>\n",
       "    </tr>\n",
       "    <tr>\n",
       "      <th>2</th>\n",
       "      <td>1628344800</td>\n",
       "      <td>Aug 07 2021 - 2:00pm</td>\n",
       "      <td>complete</td>\n",
       "      <td>NaN</td>\n",
       "      <td>Bristol City</td>\n",
       "      <td>Blackpool</td>\n",
       "      <td>Andy Davies</td>\n",
       "      <td>1</td>\n",
       "      <td>0.0</td>\n",
       "      <td>0.0</td>\n",
       "      <td>...</td>\n",
       "      <td>3.35</td>\n",
       "      <td>3.45</td>\n",
       "      <td>1.39</td>\n",
       "      <td>2.10</td>\n",
       "      <td>3.45</td>\n",
       "      <td>6.75</td>\n",
       "      <td>1.95</td>\n",
       "      <td>1.91</td>\n",
       "      <td>Ashton Gate (Bristol)</td>\n",
       "      <td>0</td>\n",
       "    </tr>\n",
       "    <tr>\n",
       "      <th>3</th>\n",
       "      <td>1628344800</td>\n",
       "      <td>Aug 07 2021 - 2:00pm</td>\n",
       "      <td>complete</td>\n",
       "      <td>NaN</td>\n",
       "      <td>Cardiff City</td>\n",
       "      <td>Barnsley</td>\n",
       "      <td>Steve Martin</td>\n",
       "      <td>1</td>\n",
       "      <td>0.0</td>\n",
       "      <td>0.0</td>\n",
       "      <td>...</td>\n",
       "      <td>3.20</td>\n",
       "      <td>3.00</td>\n",
       "      <td>1.45</td>\n",
       "      <td>2.25</td>\n",
       "      <td>3.85</td>\n",
       "      <td>7.50</td>\n",
       "      <td>1.95</td>\n",
       "      <td>1.91</td>\n",
       "      <td>Cardiff City Stadium (Cardiff (Caerdydd))</td>\n",
       "      <td>0</td>\n",
       "    </tr>\n",
       "    <tr>\n",
       "      <th>4</th>\n",
       "      <td>1628344800</td>\n",
       "      <td>Aug 07 2021 - 2:00pm</td>\n",
       "      <td>complete</td>\n",
       "      <td>NaN</td>\n",
       "      <td>Derby County</td>\n",
       "      <td>Huddersfield Town</td>\n",
       "      <td>Geoff Eltringham</td>\n",
       "      <td>1</td>\n",
       "      <td>0.0</td>\n",
       "      <td>0.0</td>\n",
       "      <td>...</td>\n",
       "      <td>3.35</td>\n",
       "      <td>2.80</td>\n",
       "      <td>1.43</td>\n",
       "      <td>2.15</td>\n",
       "      <td>3.70</td>\n",
       "      <td>7.00</td>\n",
       "      <td>1.95</td>\n",
       "      <td>1.87</td>\n",
       "      <td>Pride Park Stadium (Derby)</td>\n",
       "      <td>0</td>\n",
       "    </tr>\n",
       "  </tbody>\n",
       "</table>\n",
       "<p>5 rows × 65 columns</p>\n",
       "</div>"
      ],
      "text/plain": [
       "    timestamp              date_GMT    status  attendance    home_team_name  \\\n",
       "0  1628275500  Aug 06 2021 - 6:45pm  complete         NaN   AFC Bournemouth   \n",
       "1  1628344800  Aug 07 2021 - 2:00pm  complete         NaN  Blackburn Rovers   \n",
       "2  1628344800  Aug 07 2021 - 2:00pm  complete         NaN      Bristol City   \n",
       "3  1628344800  Aug 07 2021 - 2:00pm  complete         NaN      Cardiff City   \n",
       "4  1628344800  Aug 07 2021 - 2:00pm  complete         NaN      Derby County   \n",
       "\n",
       "         away_team_name           referee  Game Week  Pre-Match PPG (Home)  \\\n",
       "0  West Bromwich Albion   Dean Whitestone          1                   0.0   \n",
       "1          Swansea City        David Webb          1                   0.0   \n",
       "2             Blackpool       Andy Davies          1                   0.0   \n",
       "3              Barnsley      Steve Martin          1                   0.0   \n",
       "4     Huddersfield Town  Geoff Eltringham          1                   0.0   \n",
       "\n",
       "   Pre-Match PPG (Away)  ...  odds_ft_draw  odds_ft_away_team_win  \\\n",
       "0                   0.0  ...          3.40                   3.10   \n",
       "1                   0.0  ...          3.25                   3.60   \n",
       "2                   0.0  ...          3.35                   3.45   \n",
       "3                   0.0  ...          3.20                   3.00   \n",
       "4                   0.0  ...          3.35                   2.80   \n",
       "\n",
       "   odds_ft_over15  odds_ft_over25  odds_ft_over35  odds_ft_over45  \\\n",
       "0            1.33            1.85            3.15            6.00   \n",
       "1            1.38            2.15            3.65            7.25   \n",
       "2            1.39            2.10            3.45            6.75   \n",
       "3            1.45            2.25            3.85            7.50   \n",
       "4            1.43            2.15            3.70            7.00   \n",
       "\n",
       "   odds_btts_yes  odds_btts_no                               stadium_name  \\\n",
       "0           1.80          2.05     Vitality Stadium (Bournemouth- Dorset)   \n",
       "1           1.95          1.87         Ewood Park (Blackburn- Lancashire)   \n",
       "2           1.95          1.91                      Ashton Gate (Bristol)   \n",
       "3           1.95          1.91  Cardiff City Stadium (Cardiff (Caerdydd))   \n",
       "4           1.95          1.87                 Pride Park Stadium (Derby)   \n",
       "\n",
       "  over/under  \n",
       "0          1  \n",
       "1          1  \n",
       "2          0  \n",
       "3          0  \n",
       "4          0  \n",
       "\n",
       "[5 rows x 65 columns]"
      ]
     },
     "execution_count": 6,
     "metadata": {},
     "output_type": "execute_result"
    }
   ],
   "source": [
    "games = games[0:72]\n",
    "#Completed Matches\n",
    "games.head()"
   ]
  },
  {
   "cell_type": "code",
   "execution_count": 7,
   "metadata": {},
   "outputs": [],
   "source": [
    "team_stats['actual_xg'] = \"\"\n",
    "team_stats['actual_xga'] = \"\"\n",
    "#Creating average xG and xGA for each team myself because FootyStats is too lazy to put it correctly in the spreadsheet"
   ]
  },
  {
   "cell_type": "code",
   "execution_count": 8,
   "metadata": {},
   "outputs": [
    {
     "data": {
      "text/html": [
       "<div>\n",
       "<style scoped>\n",
       "    .dataframe tbody tr th:only-of-type {\n",
       "        vertical-align: middle;\n",
       "    }\n",
       "\n",
       "    .dataframe tbody tr th {\n",
       "        vertical-align: top;\n",
       "    }\n",
       "\n",
       "    .dataframe thead th {\n",
       "        text-align: right;\n",
       "    }\n",
       "</style>\n",
       "<table border=\"1\" class=\"dataframe\">\n",
       "  <thead>\n",
       "    <tr style=\"text-align: right;\">\n",
       "      <th></th>\n",
       "      <th>timestamp</th>\n",
       "      <th>date_GMT</th>\n",
       "      <th>status</th>\n",
       "      <th>attendance</th>\n",
       "      <th>home_team_name</th>\n",
       "      <th>away_team_name</th>\n",
       "      <th>referee</th>\n",
       "      <th>Game Week</th>\n",
       "      <th>Pre-Match PPG (Home)</th>\n",
       "      <th>Pre-Match PPG (Away)</th>\n",
       "      <th>...</th>\n",
       "      <th>odds_ft_draw</th>\n",
       "      <th>odds_ft_away_team_win</th>\n",
       "      <th>odds_ft_over15</th>\n",
       "      <th>odds_ft_over25</th>\n",
       "      <th>odds_ft_over35</th>\n",
       "      <th>odds_ft_over45</th>\n",
       "      <th>odds_btts_yes</th>\n",
       "      <th>odds_btts_no</th>\n",
       "      <th>stadium_name</th>\n",
       "      <th>over/under</th>\n",
       "    </tr>\n",
       "  </thead>\n",
       "  <tbody>\n",
       "    <tr>\n",
       "      <th>10</th>\n",
       "      <td>1628425800</td>\n",
       "      <td>Aug 08 2021 - 12:30pm</td>\n",
       "      <td>complete</td>\n",
       "      <td>NaN</td>\n",
       "      <td>Fulham</td>\n",
       "      <td>Middlesbrough</td>\n",
       "      <td>Keith Stroud</td>\n",
       "      <td>1</td>\n",
       "      <td>0.0</td>\n",
       "      <td>0.0</td>\n",
       "      <td>...</td>\n",
       "      <td>3.50</td>\n",
       "      <td>4.75</td>\n",
       "      <td>1.43</td>\n",
       "      <td>2.15</td>\n",
       "      <td>3.80</td>\n",
       "      <td>7.25</td>\n",
       "      <td>2.00</td>\n",
       "      <td>1.83</td>\n",
       "      <td>Craven Cottage (London)</td>\n",
       "      <td>0</td>\n",
       "    </tr>\n",
       "    <tr>\n",
       "      <th>43</th>\n",
       "      <td>1629554400</td>\n",
       "      <td>Aug 21 2021 - 2:00pm</td>\n",
       "      <td>complete</td>\n",
       "      <td>NaN</td>\n",
       "      <td>Fulham</td>\n",
       "      <td>Hull City</td>\n",
       "      <td>Tim Robinson</td>\n",
       "      <td>4</td>\n",
       "      <td>1.0</td>\n",
       "      <td>3.0</td>\n",
       "      <td>...</td>\n",
       "      <td>4.75</td>\n",
       "      <td>8.75</td>\n",
       "      <td>1.29</td>\n",
       "      <td>1.83</td>\n",
       "      <td>2.95</td>\n",
       "      <td>5.50</td>\n",
       "      <td>2.20</td>\n",
       "      <td>1.67</td>\n",
       "      <td>Craven Cottage (London)</td>\n",
       "      <td>0</td>\n",
       "    </tr>\n",
       "    <tr>\n",
       "      <th>51</th>\n",
       "      <td>1630159200</td>\n",
       "      <td>Aug 28 2021 - 2:00pm</td>\n",
       "      <td>complete</td>\n",
       "      <td>NaN</td>\n",
       "      <td>Fulham</td>\n",
       "      <td>Stoke City</td>\n",
       "      <td>Jarred Gillett</td>\n",
       "      <td>5</td>\n",
       "      <td>2.0</td>\n",
       "      <td>2.0</td>\n",
       "      <td>...</td>\n",
       "      <td>3.40</td>\n",
       "      <td>4.60</td>\n",
       "      <td>1.48</td>\n",
       "      <td>2.30</td>\n",
       "      <td>4.10</td>\n",
       "      <td>8.25</td>\n",
       "      <td>2.15</td>\n",
       "      <td>1.71</td>\n",
       "      <td>Craven Cottage (London)</td>\n",
       "      <td>1</td>\n",
       "    </tr>\n",
       "    <tr>\n",
       "      <th>16</th>\n",
       "      <td>1628949600</td>\n",
       "      <td>Aug 14 2021 - 2:00pm</td>\n",
       "      <td>complete</td>\n",
       "      <td>NaN</td>\n",
       "      <td>Huddersfield Town</td>\n",
       "      <td>Fulham</td>\n",
       "      <td>Dean Whitestone</td>\n",
       "      <td>2</td>\n",
       "      <td>0.0</td>\n",
       "      <td>0.0</td>\n",
       "      <td>...</td>\n",
       "      <td>3.40</td>\n",
       "      <td>1.91</td>\n",
       "      <td>1.44</td>\n",
       "      <td>2.25</td>\n",
       "      <td>3.90</td>\n",
       "      <td>7.75</td>\n",
       "      <td>2.10</td>\n",
       "      <td>1.77</td>\n",
       "      <td>John Smith's Stadium (Huddersfield- West Yorks...</td>\n",
       "      <td>1</td>\n",
       "    </tr>\n",
       "    <tr>\n",
       "      <th>27</th>\n",
       "      <td>1629225900</td>\n",
       "      <td>Aug 17 2021 - 6:45pm</td>\n",
       "      <td>complete</td>\n",
       "      <td>NaN</td>\n",
       "      <td>Millwall</td>\n",
       "      <td>Fulham</td>\n",
       "      <td>Geoff Eltringham</td>\n",
       "      <td>3</td>\n",
       "      <td>1.0</td>\n",
       "      <td>3.0</td>\n",
       "      <td>...</td>\n",
       "      <td>2.95</td>\n",
       "      <td>2.28</td>\n",
       "      <td>1.42</td>\n",
       "      <td>2.25</td>\n",
       "      <td>3.90</td>\n",
       "      <td>7.75</td>\n",
       "      <td>2.00</td>\n",
       "      <td>1.83</td>\n",
       "      <td>The Den (London)</td>\n",
       "      <td>1</td>\n",
       "    </tr>\n",
       "    <tr>\n",
       "      <th>63</th>\n",
       "      <td>1631368800</td>\n",
       "      <td>Sep 11 2021 - 2:00pm</td>\n",
       "      <td>complete</td>\n",
       "      <td>NaN</td>\n",
       "      <td>Blackpool</td>\n",
       "      <td>Fulham</td>\n",
       "      <td>John Busby</td>\n",
       "      <td>6</td>\n",
       "      <td>0.0</td>\n",
       "      <td>3.0</td>\n",
       "      <td>...</td>\n",
       "      <td>4.15</td>\n",
       "      <td>1.61</td>\n",
       "      <td>1.33</td>\n",
       "      <td>1.91</td>\n",
       "      <td>3.20</td>\n",
       "      <td>6.00</td>\n",
       "      <td>2.05</td>\n",
       "      <td>1.80</td>\n",
       "      <td>Bloomfield Road (Blackpool- Lancashire)</td>\n",
       "      <td>0</td>\n",
       "    </tr>\n",
       "  </tbody>\n",
       "</table>\n",
       "<p>6 rows × 65 columns</p>\n",
       "</div>"
      ],
      "text/plain": [
       "     timestamp               date_GMT    status  attendance  \\\n",
       "10  1628425800  Aug 08 2021 - 12:30pm  complete         NaN   \n",
       "43  1629554400   Aug 21 2021 - 2:00pm  complete         NaN   \n",
       "51  1630159200   Aug 28 2021 - 2:00pm  complete         NaN   \n",
       "16  1628949600   Aug 14 2021 - 2:00pm  complete         NaN   \n",
       "27  1629225900   Aug 17 2021 - 6:45pm  complete         NaN   \n",
       "63  1631368800   Sep 11 2021 - 2:00pm  complete         NaN   \n",
       "\n",
       "       home_team_name away_team_name           referee  Game Week  \\\n",
       "10             Fulham  Middlesbrough      Keith Stroud          1   \n",
       "43             Fulham      Hull City      Tim Robinson          4   \n",
       "51             Fulham     Stoke City    Jarred Gillett          5   \n",
       "16  Huddersfield Town         Fulham   Dean Whitestone          2   \n",
       "27           Millwall         Fulham  Geoff Eltringham          3   \n",
       "63          Blackpool         Fulham        John Busby          6   \n",
       "\n",
       "    Pre-Match PPG (Home)  Pre-Match PPG (Away)  ...  odds_ft_draw  \\\n",
       "10                   0.0                   0.0  ...          3.50   \n",
       "43                   1.0                   3.0  ...          4.75   \n",
       "51                   2.0                   2.0  ...          3.40   \n",
       "16                   0.0                   0.0  ...          3.40   \n",
       "27                   1.0                   3.0  ...          2.95   \n",
       "63                   0.0                   3.0  ...          4.15   \n",
       "\n",
       "    odds_ft_away_team_win  odds_ft_over15  odds_ft_over25  odds_ft_over35  \\\n",
       "10                   4.75            1.43            2.15            3.80   \n",
       "43                   8.75            1.29            1.83            2.95   \n",
       "51                   4.60            1.48            2.30            4.10   \n",
       "16                   1.91            1.44            2.25            3.90   \n",
       "27                   2.28            1.42            2.25            3.90   \n",
       "63                   1.61            1.33            1.91            3.20   \n",
       "\n",
       "    odds_ft_over45  odds_btts_yes  odds_btts_no  \\\n",
       "10            7.25           2.00          1.83   \n",
       "43            5.50           2.20          1.67   \n",
       "51            8.25           2.15          1.71   \n",
       "16            7.75           2.10          1.77   \n",
       "27            7.75           2.00          1.83   \n",
       "63            6.00           2.05          1.80   \n",
       "\n",
       "                                         stadium_name over/under  \n",
       "10                            Craven Cottage (London)          0  \n",
       "43                            Craven Cottage (London)          0  \n",
       "51                            Craven Cottage (London)          1  \n",
       "16  John Smith's Stadium (Huddersfield- West Yorks...          1  \n",
       "27                                   The Den (London)          1  \n",
       "63            Bloomfield Road (Blackpool- Lancashire)          0  \n",
       "\n",
       "[6 rows x 65 columns]"
      ]
     },
     "execution_count": 8,
     "metadata": {},
     "output_type": "execute_result"
    }
   ],
   "source": [
    "ful_var = games.loc[games['home_team_name'] == \"Fulham\"] \n",
    "ful_var = ful_var.append(games.loc[games['away_team_name'] == \"Fulham\"])\n",
    "ful_var"
   ]
  },
  {
   "cell_type": "code",
   "execution_count": 9,
   "metadata": {},
   "outputs": [],
   "source": [
    "games['home_xg'] = \"\"\n",
    "games['away_xg'] = \"\"\n",
    "games['home_xg_against'] = \"\"\n",
    "games['away_xg_against'] = \"\"\n",
    "games['home_total_corners'] = \"\"\n",
    "games['away_total_corners'] = \"\"\n",
    "\n",
    "# Creating new columns where our data will go"
   ]
  },
  {
   "cell_type": "code",
   "execution_count": null,
   "metadata": {},
   "outputs": [],
   "source": []
  },
  {
   "cell_type": "markdown",
   "metadata": {},
   "source": [
    "Let's write a function to help fill xg in our games df"
   ]
  },
  {
   "cell_type": "code",
   "execution_count": 10,
   "metadata": {},
   "outputs": [],
   "source": [
    "xg_stats = team_stats[['common_name', 'xg_for_avg_overall']]\n",
    "corner_stats = team_stats[['common_name', 'corners_per_match']]\n",
    "xga_stats = team_stats[['common_name', 'xg_against_avg_overall']]\n",
    "\n"
   ]
  },
  {
   "cell_type": "code",
   "execution_count": 11,
   "metadata": {},
   "outputs": [],
   "source": [
    "xg_stats = dict(xg_stats.values)\n",
    "corner_stats = dict(corner_stats.values)\n",
    "xga_stats = dict(xga_stats.values)\n",
    "\n",
    "#By making this into dictionaries, it will be easier to call them/update them with the function"
   ]
  },
  {
   "cell_type": "code",
   "execution_count": 12,
   "metadata": {},
   "outputs": [],
   "source": [
    "def fill_stats(team):\n",
    "    games['home_xg'] = np.where(games['home_team_name'] == team, xg_stats[team], games['home_xg'])\n",
    "    games['away_xg'] = np.where(games['away_team_name'] == team, xg_stats[team], games['away_xg'])\n",
    "    games['home_xg_against'] = np.where(games['home_team_name'] == team, xga_stats[team], games['home_xg_against'])\n",
    "    games['away_xg_against'] = np.where(games['away_team_name'] == team, xga_stats[team], games['away_xg_against'])\n",
    "    games['home_total_corners'] = np.where(games['home_team_name'] == team, corner_stats[team], games['home_total_corners'])\n",
    "    games['away_total_corners'] = np.where(games['away_team_name'] == team, corner_stats[team], games['away_total_corners'])\n",
    "    \n",
    "#Function to put team stats into games dataframe"
   ]
  },
  {
   "cell_type": "code",
   "execution_count": 13,
   "metadata": {},
   "outputs": [],
   "source": [
    "fill_stats(team_stats['common_name'][0])\n",
    "fill_stats(team_stats['common_name'][1])\n",
    "fill_stats(team_stats['common_name'][2]) \n",
    "fill_stats(team_stats['common_name'][3]) \n",
    "fill_stats(team_stats['common_name'][4]) \n",
    "fill_stats(team_stats['common_name'][5]) \n",
    "fill_stats(team_stats['common_name'][6]) \n",
    "fill_stats(team_stats['common_name'][7]) \n",
    "fill_stats(team_stats['common_name'][8]) \n",
    "fill_stats(team_stats['common_name'][9]) \n",
    "fill_stats(team_stats['common_name'][10]) \n",
    "fill_stats(team_stats['common_name'][11]) \n",
    "fill_stats(team_stats['common_name'][12]) \n",
    "fill_stats(team_stats['common_name'][13]) \n",
    "fill_stats(team_stats['common_name'][14]) \n",
    "fill_stats(team_stats['common_name'][15]) \n",
    "fill_stats(team_stats['common_name'][16]) \n",
    "fill_stats(team_stats['common_name'][17]) \n",
    "fill_stats(team_stats['common_name'][18]) \n",
    "fill_stats(team_stats['common_name'][19]) \n",
    "fill_stats(team_stats['common_name'][20]) \n",
    "fill_stats(team_stats['common_name'][21]) \n",
    "fill_stats(team_stats['common_name'][22]) \n",
    "fill_stats(team_stats['common_name'][23]) \n",
    "\n",
    "#Reading in stats"
   ]
  },
  {
   "cell_type": "markdown",
   "metadata": {},
   "source": [
    "# Read in stats for new DF we'll use for testing"
   ]
  },
  {
   "cell_type": "code",
   "execution_count": 14,
   "metadata": {},
   "outputs": [],
   "source": [
    "test_prediction_games['home_xg'] = \"\"\n",
    "test_prediction_games['away_xg'] = \"\"\n",
    "test_prediction_games['home_xg_against'] = \"\"\n",
    "test_prediction_games['away_xg_against'] = \"\"\n",
    "test_prediction_games['home_total_corners'] = \"\"\n",
    "test_prediction_games['away_total_corners'] = \"\"\n",
    "\n",
    "# Creating new columns where our data will go"
   ]
  },
  {
   "cell_type": "code",
   "execution_count": 15,
   "metadata": {},
   "outputs": [],
   "source": [
    "def fill_stats_new_test(team):\n",
    "    test_prediction_games['home_xg'] = np.where(test_prediction_games['home_team_name'] == team, xg_stats[team], test_prediction_games['home_xg'])\n",
    "    test_prediction_games['away_xg'] = np.where(test_prediction_games['away_team_name'] == team, xg_stats[team], test_prediction_games['away_xg'])\n",
    "    test_prediction_games['home_xg_against'] = np.where(test_prediction_games['home_team_name'] == team, xga_stats[team], test_prediction_games['home_xg_against'])\n",
    "    test_prediction_games['away_xg_against'] = np.where(test_prediction_games['away_team_name'] == team, xga_stats[team], test_prediction_games['away_xg_against'])\n",
    "    test_prediction_games['home_total_corners'] = np.where(test_prediction_games['home_team_name'] == team, corner_stats[team], test_prediction_games['home_total_corners'])\n",
    "    test_prediction_games['away_total_corners'] = np.where(test_prediction_games['away_team_name'] == team, corner_stats[team], test_prediction_games['away_total_corners'])\n",
    "    \n",
    "#Function to put team stats into games dataframe"
   ]
  },
  {
   "cell_type": "code",
   "execution_count": 131,
   "metadata": {},
   "outputs": [],
   "source": [
    "fill_stats_new_test('Fulham')\n",
    "fill_stats_new_test('Blackburn Rovers')\n",
    "fill_stats_new_test('West Bromwich Albion')\n",
    "fill_stats_new_test('Queens Park Rangers')\n",
    "fill_stats_new_test('AFC Bournemouth')\n",
    "fill_stats_new_test('Middlesbrough')\n",
    "fill_stats_new_test('Barnsley')\n",
    "fill_stats_new_test('Millwall')\n",
    "fill_stats_new_test('Sheffield United')\n",
    "fill_stats_new_test('Reading')\n",
    "fill_stats_new_test('Cardiff City')\n",
    "fill_stats_new_test('Nottingham Forest')\n",
    "fill_stats_new_test('Hull City')\n",
    "fill_stats_new_test('Blackpool')\n",
    "fill_stats_new_test('Luton Town')\n",
    "fill_stats_new_test('Stoke City')\n",
    "fill_stats_new_test('Swansea City')\n",
    "fill_stats_new_test('Derby County')\n",
    "fill_stats_new_test('Huddersfield Town')\n",
    "fill_stats_new_test('Preston North End')\n",
    "fill_stats_new_test('Coventry City')\n",
    "fill_stats_new_test('Peterborough United')\n",
    "fill_stats_new_test('Birmingham City')\n",
    "fill_stats_new_test('Bristol City')"
   ]
  },
  {
   "cell_type": "markdown",
   "metadata": {},
   "source": [
    "# Some more EDA"
   ]
  },
  {
   "cell_type": "code",
   "execution_count": 132,
   "metadata": {},
   "outputs": [
    {
     "data": {
      "text/plain": [
       "over/under                        1.000000\n",
       "total_goal_count                  0.826399\n",
       "home_team_goal_count              0.647750\n",
       "away_team_goal_count              0.598754\n",
       "home_team_shots_on_target         0.537915\n",
       "total_goals_at_half_time          0.484470\n",
       "away_team_shots_on_target         0.461219\n",
       "team_a_xg                         0.443857\n",
       "home_team_shots                   0.412773\n",
       "away_team_red_cards               0.387743\n",
       "team_b_xg                         0.377192\n",
       "away_team_goal_count_half_time    0.367785\n",
       "home_team_red_cards               0.355257\n",
       "home_team_goal_count_half_time    0.337149\n",
       "home_team_possession              0.326314\n",
       "away_team_shots                   0.321160\n",
       "away_team_possession              0.320207\n",
       "home_team_first_half_cards        0.266847\n",
       "away_team_fouls                   0.266080\n",
       "home_team_fouls                   0.263804\n",
       "Name: over/under, dtype: float64"
      ]
     },
     "execution_count": 132,
     "metadata": {},
     "output_type": "execute_result"
    }
   ],
   "source": [
    "games.corr()['over/under'].sort_values(ascending=False)[0:20]"
   ]
  },
  {
   "cell_type": "markdown",
   "metadata": {},
   "source": [
    "# Now let's do some modeling"
   ]
  },
  {
   "cell_type": "markdown",
   "metadata": {},
   "source": [
    "This will be a 'normal' model in which we use train_test_split to divide up the data"
   ]
  },
  {
   "cell_type": "code",
   "execution_count": 133,
   "metadata": {},
   "outputs": [],
   "source": [
    "features = ['home_xg', 'away_xg', 'home_xg_against', 'away_xg_against']\n",
    "X = games[features]\n",
    "y = games['over/under']"
   ]
  },
  {
   "cell_type": "code",
   "execution_count": 134,
   "metadata": {},
   "outputs": [],
   "source": [
    "X_train, X_test, y_train, y_test = train_test_split(X, y, test_size = 0.20, random_state = 42)"
   ]
  },
  {
   "cell_type": "code",
   "execution_count": 135,
   "metadata": {},
   "outputs": [],
   "source": [
    "logreg = LogisticRegression()\n",
    "knn = KNeighborsClassifier()\n",
    "dt = DecisionTreeClassifier()"
   ]
  },
  {
   "cell_type": "code",
   "execution_count": 136,
   "metadata": {},
   "outputs": [
    {
     "data": {
      "text/plain": [
       "LogisticRegression()"
      ]
     },
     "execution_count": 136,
     "metadata": {},
     "output_type": "execute_result"
    }
   ],
   "source": [
    "logreg.fit(X_train, y_train)"
   ]
  },
  {
   "cell_type": "code",
   "execution_count": 137,
   "metadata": {},
   "outputs": [],
   "source": [
    "preds = logreg.predict(X_test)"
   ]
  },
  {
   "cell_type": "code",
   "execution_count": 138,
   "metadata": {},
   "outputs": [
    {
     "data": {
      "text/plain": [
       "0.6470588235294118"
      ]
     },
     "execution_count": 138,
     "metadata": {},
     "output_type": "execute_result"
    }
   ],
   "source": [
    "accuracy_score(y_test, preds)"
   ]
  },
  {
   "cell_type": "code",
   "execution_count": 139,
   "metadata": {},
   "outputs": [
    {
     "data": {
      "text/plain": [
       "KNeighborsClassifier()"
      ]
     },
     "execution_count": 139,
     "metadata": {},
     "output_type": "execute_result"
    }
   ],
   "source": [
    "knn.fit(X_train, y_train)"
   ]
  },
  {
   "cell_type": "code",
   "execution_count": 140,
   "metadata": {},
   "outputs": [],
   "source": [
    "preds = knn.predict(X_test)"
   ]
  },
  {
   "cell_type": "code",
   "execution_count": 141,
   "metadata": {},
   "outputs": [
    {
     "data": {
      "text/plain": [
       "0.5294117647058824"
      ]
     },
     "execution_count": 141,
     "metadata": {},
     "output_type": "execute_result"
    }
   ],
   "source": [
    "accuracy_score(y_test, preds)"
   ]
  },
  {
   "cell_type": "code",
   "execution_count": 142,
   "metadata": {},
   "outputs": [
    {
     "data": {
      "text/plain": [
       "DecisionTreeClassifier()"
      ]
     },
     "execution_count": 142,
     "metadata": {},
     "output_type": "execute_result"
    }
   ],
   "source": [
    "dt.fit(X_train, y_train)"
   ]
  },
  {
   "cell_type": "code",
   "execution_count": 143,
   "metadata": {},
   "outputs": [],
   "source": [
    "preds = dt.predict(X_test)"
   ]
  },
  {
   "cell_type": "code",
   "execution_count": 144,
   "metadata": {},
   "outputs": [
    {
     "data": {
      "text/plain": [
       "0.47058823529411764"
      ]
     },
     "execution_count": 144,
     "metadata": {},
     "output_type": "execute_result"
    }
   ],
   "source": [
    "accuracy_score(y_test, preds)"
   ]
  },
  {
   "cell_type": "code",
   "execution_count": 145,
   "metadata": {},
   "outputs": [],
   "source": [
    "#decision trees"
   ]
  },
  {
   "cell_type": "code",
   "execution_count": 148,
   "metadata": {},
   "outputs": [
    {
     "data": {
      "text/plain": [
       "73    0\n",
       "0     1\n",
       "58    0\n",
       "22    1\n",
       "12    1\n",
       "70    0\n",
       "10    0\n",
       "18    1\n",
       "4     0\n",
       "65    0\n",
       "40    1\n",
       "47    0\n",
       "35    1\n",
       "81    0\n",
       "55    0\n",
       "54    0\n",
       "33    1\n",
       "Name: over/under, dtype: int32"
      ]
     },
     "execution_count": 148,
     "metadata": {},
     "output_type": "execute_result"
    }
   ],
   "source": [
    "y_test"
   ]
  },
  {
   "cell_type": "markdown",
   "metadata": {},
   "source": [
    "Test the test set while it is trained on the original train set?"
   ]
  },
  {
   "cell_type": "code",
   "execution_count": 116,
   "metadata": {},
   "outputs": [],
   "source": [
    "features = ['home_xg', 'away_xg', 'home_xg_against', 'away_xg_against']\n",
    "X = test_prediction_games[features]\n",
    "y = test_prediction_games['over/under']"
   ]
  },
  {
   "cell_type": "code",
   "execution_count": 118,
   "metadata": {},
   "outputs": [],
   "source": [
    "X_train, X_test, y_train, y_test = train_test_split(X, y, test_size = 0.9, random_state = 42)"
   ]
  },
  {
   "cell_type": "code",
   "execution_count": null,
   "metadata": {},
   "outputs": [],
   "source": [
    "logreg.predict()"
   ]
  },
  {
   "cell_type": "code",
   "execution_count": null,
   "metadata": {},
   "outputs": [],
   "source": []
  },
  {
   "cell_type": "code",
   "execution_count": 151,
   "metadata": {},
   "outputs": [
    {
     "data": {
      "text/plain": [
       "0     AFC Bournemouth\n",
       "1    Blackburn Rovers\n",
       "2        Bristol City\n",
       "3        Cardiff City\n",
       "4        Derby County\n",
       "Name: home_team_name, dtype: object"
      ]
     },
     "execution_count": 151,
     "metadata": {},
     "output_type": "execute_result"
    }
   ],
   "source": [
    "games[0:5]['home_team_name']"
   ]
  },
  {
   "cell_type": "markdown",
   "metadata": {},
   "source": [
    "# Trying to set the train and test sets myself without train_test_split"
   ]
  },
  {
   "cell_type": "code",
   "execution_count": 169,
   "metadata": {},
   "outputs": [],
   "source": [
    "features = ['home_xg', 'away_xg', 'home_xg_against', 'away_xg_against']\n",
    "X_train = games[0:72][features]\n",
    "X_test = games[72:84][features]\n",
    "y_train = games[0:72]['over/under']\n",
    "y_test = games[72:84]['over/under']"
   ]
  },
  {
   "cell_type": "code",
   "execution_count": 170,
   "metadata": {},
   "outputs": [
    {
     "data": {
      "text/html": [
       "<div>\n",
       "<style scoped>\n",
       "    .dataframe tbody tr th:only-of-type {\n",
       "        vertical-align: middle;\n",
       "    }\n",
       "\n",
       "    .dataframe tbody tr th {\n",
       "        vertical-align: top;\n",
       "    }\n",
       "\n",
       "    .dataframe thead th {\n",
       "        text-align: right;\n",
       "    }\n",
       "</style>\n",
       "<table border=\"1\" class=\"dataframe\">\n",
       "  <thead>\n",
       "    <tr style=\"text-align: right;\">\n",
       "      <th></th>\n",
       "      <th>home_xg</th>\n",
       "      <th>away_xg</th>\n",
       "      <th>home_xg_against</th>\n",
       "      <th>away_xg_against</th>\n",
       "    </tr>\n",
       "  </thead>\n",
       "  <tbody>\n",
       "    <tr>\n",
       "      <th>72</th>\n",
       "      <td>1.02</td>\n",
       "      <td>1.36</td>\n",
       "      <td>0.97</td>\n",
       "      <td>1.21</td>\n",
       "    </tr>\n",
       "    <tr>\n",
       "      <th>73</th>\n",
       "      <td>0.79</td>\n",
       "      <td>0.59</td>\n",
       "      <td>1.26</td>\n",
       "      <td>1.15</td>\n",
       "    </tr>\n",
       "    <tr>\n",
       "      <th>74</th>\n",
       "      <td>0.77</td>\n",
       "      <td>0.99</td>\n",
       "      <td>1.48</td>\n",
       "      <td>1.15</td>\n",
       "    </tr>\n",
       "    <tr>\n",
       "      <th>75</th>\n",
       "      <td>1.34</td>\n",
       "      <td>1.04</td>\n",
       "      <td>0.82</td>\n",
       "      <td>0.93</td>\n",
       "    </tr>\n",
       "    <tr>\n",
       "      <th>76</th>\n",
       "      <td>0.99</td>\n",
       "      <td>0.53</td>\n",
       "      <td>1.54</td>\n",
       "      <td>1.39</td>\n",
       "    </tr>\n",
       "    <tr>\n",
       "      <th>77</th>\n",
       "      <td>1.74</td>\n",
       "      <td>0.8</td>\n",
       "      <td>0.7</td>\n",
       "      <td>1.16</td>\n",
       "    </tr>\n",
       "    <tr>\n",
       "      <th>78</th>\n",
       "      <td>1.16</td>\n",
       "      <td>1.8</td>\n",
       "      <td>0.81</td>\n",
       "      <td>0.72</td>\n",
       "    </tr>\n",
       "    <tr>\n",
       "      <th>79</th>\n",
       "      <td>1.03</td>\n",
       "      <td>1.05</td>\n",
       "      <td>0.97</td>\n",
       "      <td>1.2</td>\n",
       "    </tr>\n",
       "    <tr>\n",
       "      <th>80</th>\n",
       "      <td>1.56</td>\n",
       "      <td>1.38</td>\n",
       "      <td>0.95</td>\n",
       "      <td>0.83</td>\n",
       "    </tr>\n",
       "    <tr>\n",
       "      <th>81</th>\n",
       "      <td>0.8</td>\n",
       "      <td>1.15</td>\n",
       "      <td>1.18</td>\n",
       "      <td>0.99</td>\n",
       "    </tr>\n",
       "    <tr>\n",
       "      <th>82</th>\n",
       "      <td>0.68</td>\n",
       "      <td>1.33</td>\n",
       "      <td>1.17</td>\n",
       "      <td>1.1</td>\n",
       "    </tr>\n",
       "    <tr>\n",
       "      <th>83</th>\n",
       "      <td>1.11</td>\n",
       "      <td>0.57</td>\n",
       "      <td>0.96</td>\n",
       "      <td>1.24</td>\n",
       "    </tr>\n",
       "  </tbody>\n",
       "</table>\n",
       "</div>"
      ],
      "text/plain": [
       "   home_xg away_xg home_xg_against away_xg_against\n",
       "72    1.02    1.36            0.97            1.21\n",
       "73    0.79    0.59            1.26            1.15\n",
       "74    0.77    0.99            1.48            1.15\n",
       "75    1.34    1.04            0.82            0.93\n",
       "76    0.99    0.53            1.54            1.39\n",
       "77    1.74     0.8             0.7            1.16\n",
       "78    1.16     1.8            0.81            0.72\n",
       "79    1.03    1.05            0.97             1.2\n",
       "80    1.56    1.38            0.95            0.83\n",
       "81     0.8    1.15            1.18            0.99\n",
       "82    0.68    1.33            1.17             1.1\n",
       "83    1.11    0.57            0.96            1.24"
      ]
     },
     "execution_count": 170,
     "metadata": {},
     "output_type": "execute_result"
    }
   ],
   "source": [
    "X_test"
   ]
  },
  {
   "cell_type": "code",
   "execution_count": 171,
   "metadata": {},
   "outputs": [
    {
     "data": {
      "text/plain": [
       "LogisticRegression()"
      ]
     },
     "execution_count": 171,
     "metadata": {},
     "output_type": "execute_result"
    }
   ],
   "source": [
    "logreg.fit(X_train, y_train)"
   ]
  },
  {
   "cell_type": "code",
   "execution_count": 172,
   "metadata": {},
   "outputs": [],
   "source": [
    "preds = logreg.predict(X_test)"
   ]
  },
  {
   "cell_type": "code",
   "execution_count": 173,
   "metadata": {},
   "outputs": [
    {
     "data": {
      "text/plain": [
       "0.16666666666666666"
      ]
     },
     "execution_count": 173,
     "metadata": {},
     "output_type": "execute_result"
    }
   ],
   "source": [
    "accuracy_score(y_test, preds)"
   ]
  },
  {
   "cell_type": "code",
   "execution_count": 174,
   "metadata": {},
   "outputs": [
    {
     "data": {
      "text/plain": [
       "KNeighborsClassifier()"
      ]
     },
     "execution_count": 174,
     "metadata": {},
     "output_type": "execute_result"
    }
   ],
   "source": [
    "knn.fit(X_train, y_train)"
   ]
  },
  {
   "cell_type": "code",
   "execution_count": 175,
   "metadata": {},
   "outputs": [],
   "source": [
    "preds = knn.predict(X_test)"
   ]
  },
  {
   "cell_type": "code",
   "execution_count": 176,
   "metadata": {},
   "outputs": [
    {
     "data": {
      "text/plain": [
       "0.4166666666666667"
      ]
     },
     "execution_count": 176,
     "metadata": {},
     "output_type": "execute_result"
    }
   ],
   "source": [
    "accuracy_score(y_test, preds)"
   ]
  },
  {
   "cell_type": "code",
   "execution_count": 177,
   "metadata": {},
   "outputs": [
    {
     "data": {
      "text/plain": [
       "array([1, 0, 1, 0, 1, 1, 1, 0, 0, 0, 1, 1])"
      ]
     },
     "execution_count": 177,
     "metadata": {},
     "output_type": "execute_result"
    }
   ],
   "source": [
    "preds"
   ]
  },
  {
   "cell_type": "markdown",
   "metadata": {},
   "source": [
    "Next need to add something to track accuracy from week to week"
   ]
  },
  {
   "cell_type": "code",
   "execution_count": null,
   "metadata": {},
   "outputs": [],
   "source": []
  }
 ],
 "metadata": {
  "kernelspec": {
   "display_name": "Python 3",
   "language": "python",
   "name": "python3"
  },
  "language_info": {
   "codemirror_mode": {
    "name": "ipython",
    "version": 3
   },
   "file_extension": ".py",
   "mimetype": "text/x-python",
   "name": "python",
   "nbconvert_exporter": "python",
   "pygments_lexer": "ipython3",
   "version": "3.8.3"
  }
 },
 "nbformat": 4,
 "nbformat_minor": 4
}
